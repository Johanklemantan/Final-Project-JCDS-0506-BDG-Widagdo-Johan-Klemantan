{
 "cells": [
  {
   "cell_type": "markdown",
   "metadata": {},
   "source": [
    "### Import Libraries"
   ]
  },
  {
   "cell_type": "code",
   "execution_count": 1,
   "metadata": {},
   "outputs": [
    {
     "name": "stderr",
     "output_type": "stream",
     "text": [
      "C:\\Users\\johan\\anaconda3\\lib\\site-packages\\outdated\\utils.py:14: OutdatedPackageWarning: The package pingouin is out of date. Your version is 0.3.8, the latest is 0.3.10.\n",
      "Set the environment variable OUTDATED_IGNORE=1 to disable these warnings.\n",
      "  return warn(\n"
     ]
    }
   ],
   "source": [
    "import numpy as np\n",
    "import pandas as pd\n",
    "import matplotlib.pyplot as plt\n",
    "import seaborn as sns\n",
    "import pingouin as pg\n",
    "from scipy import stats\n",
    "from scipy.stats import mannwhitneyu"
   ]
  },
  {
   "cell_type": "code",
   "execution_count": 2,
   "metadata": {},
   "outputs": [
    {
     "data": {
      "text/html": [
       "<div>\n",
       "<style scoped>\n",
       "    .dataframe tbody tr th:only-of-type {\n",
       "        vertical-align: middle;\n",
       "    }\n",
       "\n",
       "    .dataframe tbody tr th {\n",
       "        vertical-align: top;\n",
       "    }\n",
       "\n",
       "    .dataframe thead th {\n",
       "        text-align: right;\n",
       "    }\n",
       "</style>\n",
       "<table border=\"1\" class=\"dataframe\">\n",
       "  <thead>\n",
       "    <tr style=\"text-align: right;\">\n",
       "      <th></th>\n",
       "      <th>country_code</th>\n",
       "      <th>grass_date</th>\n",
       "      <th>user_id</th>\n",
       "      <th>subject_line_length</th>\n",
       "      <th>last_open_day</th>\n",
       "      <th>last_login_day</th>\n",
       "      <th>last_checkout_day</th>\n",
       "      <th>open_count_last_10_days</th>\n",
       "      <th>open_count_last_30_days</th>\n",
       "      <th>open_count_last_60_days</th>\n",
       "      <th>...</th>\n",
       "      <th>country</th>\n",
       "      <th>day</th>\n",
       "      <th>character_length</th>\n",
       "      <th>last_time_open_email</th>\n",
       "      <th>last_time_open_shopee</th>\n",
       "      <th>last_time_checkout_shopee</th>\n",
       "      <th>open_frequency</th>\n",
       "      <th>login_frequency</th>\n",
       "      <th>checkout_frequency</th>\n",
       "      <th>coba1</th>\n",
       "    </tr>\n",
       "  </thead>\n",
       "  <tbody>\n",
       "    <tr>\n",
       "      <th>0</th>\n",
       "      <td>4</td>\n",
       "      <td>2019-07-16</td>\n",
       "      <td>43</td>\n",
       "      <td>44</td>\n",
       "      <td>19.0</td>\n",
       "      <td>6.0</td>\n",
       "      <td>18.0</td>\n",
       "      <td>0</td>\n",
       "      <td>2</td>\n",
       "      <td>4</td>\n",
       "      <td>...</td>\n",
       "      <td>Philippines</td>\n",
       "      <td>Tuesday</td>\n",
       "      <td>ideal</td>\n",
       "      <td>0-1 year</td>\n",
       "      <td>0-1 year</td>\n",
       "      <td>0-1 year</td>\n",
       "      <td>0.044444</td>\n",
       "      <td>1.427778</td>\n",
       "      <td>0.111111</td>\n",
       "      <td>0</td>\n",
       "    </tr>\n",
       "    <tr>\n",
       "      <th>1</th>\n",
       "      <td>4</td>\n",
       "      <td>2019-07-16</td>\n",
       "      <td>102</td>\n",
       "      <td>44</td>\n",
       "      <td>9.0</td>\n",
       "      <td>4.0</td>\n",
       "      <td>8.0</td>\n",
       "      <td>2</td>\n",
       "      <td>9</td>\n",
       "      <td>17</td>\n",
       "      <td>...</td>\n",
       "      <td>Philippines</td>\n",
       "      <td>Tuesday</td>\n",
       "      <td>ideal</td>\n",
       "      <td>0-1 year</td>\n",
       "      <td>0-1 year</td>\n",
       "      <td>0-1 year</td>\n",
       "      <td>0.261111</td>\n",
       "      <td>1.633333</td>\n",
       "      <td>0.066667</td>\n",
       "      <td>0</td>\n",
       "    </tr>\n",
       "    <tr>\n",
       "      <th>2</th>\n",
       "      <td>6</td>\n",
       "      <td>2019-07-16</td>\n",
       "      <td>177</td>\n",
       "      <td>49</td>\n",
       "      <td>14.0</td>\n",
       "      <td>5.0</td>\n",
       "      <td>5.0</td>\n",
       "      <td>0</td>\n",
       "      <td>4</td>\n",
       "      <td>12</td>\n",
       "      <td>...</td>\n",
       "      <td>Thailand</td>\n",
       "      <td>Tuesday</td>\n",
       "      <td>ideal</td>\n",
       "      <td>0-1 year</td>\n",
       "      <td>0-1 year</td>\n",
       "      <td>0-1 year</td>\n",
       "      <td>0.111111</td>\n",
       "      <td>2.227778</td>\n",
       "      <td>0.527778</td>\n",
       "      <td>0</td>\n",
       "    </tr>\n",
       "    <tr>\n",
       "      <th>3</th>\n",
       "      <td>1</td>\n",
       "      <td>2019-07-16</td>\n",
       "      <td>184</td>\n",
       "      <td>49</td>\n",
       "      <td>49.0</td>\n",
       "      <td>9.0</td>\n",
       "      <td>53.0</td>\n",
       "      <td>0</td>\n",
       "      <td>0</td>\n",
       "      <td>1</td>\n",
       "      <td>...</td>\n",
       "      <td>Singapore</td>\n",
       "      <td>Tuesday</td>\n",
       "      <td>ideal</td>\n",
       "      <td>0-1 year</td>\n",
       "      <td>0-1 year</td>\n",
       "      <td>0-1 year</td>\n",
       "      <td>0.005556</td>\n",
       "      <td>0.938889</td>\n",
       "      <td>0.100000</td>\n",
       "      <td>0</td>\n",
       "    </tr>\n",
       "    <tr>\n",
       "      <th>4</th>\n",
       "      <td>6</td>\n",
       "      <td>2019-07-16</td>\n",
       "      <td>221</td>\n",
       "      <td>49</td>\n",
       "      <td>227.0</td>\n",
       "      <td>6.0</td>\n",
       "      <td>221.0</td>\n",
       "      <td>0</td>\n",
       "      <td>0</td>\n",
       "      <td>0</td>\n",
       "      <td>...</td>\n",
       "      <td>Thailand</td>\n",
       "      <td>Tuesday</td>\n",
       "      <td>ideal</td>\n",
       "      <td>0-1 year</td>\n",
       "      <td>0-1 year</td>\n",
       "      <td>0-1 year</td>\n",
       "      <td>0.000000</td>\n",
       "      <td>0.150000</td>\n",
       "      <td>0.000000</td>\n",
       "      <td>0</td>\n",
       "    </tr>\n",
       "  </tbody>\n",
       "</table>\n",
       "<p>5 rows × 33 columns</p>\n",
       "</div>"
      ],
      "text/plain": [
       "   country_code  grass_date  user_id  subject_line_length  last_open_day  \\\n",
       "0             4  2019-07-16       43                   44           19.0   \n",
       "1             4  2019-07-16      102                   44            9.0   \n",
       "2             6  2019-07-16      177                   49           14.0   \n",
       "3             1  2019-07-16      184                   49           49.0   \n",
       "4             6  2019-07-16      221                   49          227.0   \n",
       "\n",
       "   last_login_day  last_checkout_day  open_count_last_10_days  \\\n",
       "0             6.0               18.0                        0   \n",
       "1             4.0                8.0                        2   \n",
       "2             5.0                5.0                        0   \n",
       "3             9.0               53.0                        0   \n",
       "4             6.0              221.0                        0   \n",
       "\n",
       "   open_count_last_30_days  open_count_last_60_days  ...      country  \\\n",
       "0                        2                        4  ...  Philippines   \n",
       "1                        9                       17  ...  Philippines   \n",
       "2                        4                       12  ...     Thailand   \n",
       "3                        0                        1  ...    Singapore   \n",
       "4                        0                        0  ...     Thailand   \n",
       "\n",
       "       day  character_length  last_time_open_email  last_time_open_shopee  \\\n",
       "0  Tuesday             ideal              0-1 year               0-1 year   \n",
       "1  Tuesday             ideal              0-1 year               0-1 year   \n",
       "2  Tuesday             ideal              0-1 year               0-1 year   \n",
       "3  Tuesday             ideal              0-1 year               0-1 year   \n",
       "4  Tuesday             ideal              0-1 year               0-1 year   \n",
       "\n",
       "   last_time_checkout_shopee  open_frequency  login_frequency  \\\n",
       "0                   0-1 year        0.044444         1.427778   \n",
       "1                   0-1 year        0.261111         1.633333   \n",
       "2                   0-1 year        0.111111         2.227778   \n",
       "3                   0-1 year        0.005556         0.938889   \n",
       "4                   0-1 year        0.000000         0.150000   \n",
       "\n",
       "   checkout_frequency  coba1  \n",
       "0            0.111111      0  \n",
       "1            0.066667      0  \n",
       "2            0.527778      0  \n",
       "3            0.100000      0  \n",
       "4            0.000000      0  \n",
       "\n",
       "[5 rows x 33 columns]"
      ]
     },
     "execution_count": 2,
     "metadata": {},
     "output_type": "execute_result"
    }
   ],
   "source": [
    "awal = pd.read_csv('./static/awal.csv')\n",
    "awal.drop(['Unnamed: 0'],axis=1,inplace=True)\n",
    "awal.head()"
   ]
  },
  {
   "cell_type": "code",
   "execution_count": 3,
   "metadata": {},
   "outputs": [],
   "source": [
    "EDA = pd.read_csv('./static/EDA.csv')\n",
    "EDA.drop(['Unnamed: 0'],axis=1,inplace=True)"
   ]
  },
  {
   "cell_type": "markdown",
   "metadata": {},
   "source": [
    "# EDA"
   ]
  },
  {
   "cell_type": "markdown",
   "metadata": {},
   "source": [
    "## 1. Target Variable"
   ]
  },
  {
   "cell_type": "code",
   "execution_count": 4,
   "metadata": {},
   "outputs": [
    {
     "data": {
      "text/plain": [
       "0    0.844653\n",
       "1    0.155347\n",
       "Name: open_flag, dtype: float64"
      ]
     },
     "execution_count": 4,
     "metadata": {},
     "output_type": "execute_result"
    }
   ],
   "source": [
    "EDA.open_flag.value_counts(normalize=True)"
   ]
  },
  {
   "cell_type": "code",
   "execution_count": 5,
   "metadata": {},
   "outputs": [
    {
     "data": {
      "image/png": "[encoded data removed]",
      "text/plain": [
       "<Figure size 720x360 with 1 Axes>"
      ]
     },
     "metadata": {},
     "output_type": "display_data"
    }
   ],
   "source": [
    "plt.figure(figsize=(10,5))\n",
    "plt.pie(EDA['open_flag'].value_counts(), labels=['Not Read','Read'], autopct='%.2f%%')\n",
    "plt.title('Proportional User Read Email \\n vs User Does Not Read Email',fontsize=20)\n",
    "plt.legend(loc='best')\n",
    "plt.savefig('Target.png')\n",
    "plt.show()"
   ]
  },
  {
   "cell_type": "markdown",
   "metadata": {},
   "source": [
    "Dari pie chart diatas, hanya ada 15% user yang membaca email promosi dari Shopee."
   ]
  },
  {
   "cell_type": "markdown",
   "metadata": {},
   "source": [
    "## 2. Day"
   ]
  },
  {
   "cell_type": "code",
   "execution_count": 6,
   "metadata": {},
   "outputs": [
    {
     "data": {
      "text/html": [
       "<div>\n",
       "<style scoped>\n",
       "    .dataframe tbody tr th:only-of-type {\n",
       "        vertical-align: middle;\n",
       "    }\n",
       "\n",
       "    .dataframe tbody tr th {\n",
       "        vertical-align: top;\n",
       "    }\n",
       "\n",
       "    .dataframe thead th {\n",
       "        text-align: right;\n",
       "    }\n",
       "</style>\n",
       "<table border=\"1\" class=\"dataframe\">\n",
       "  <thead>\n",
       "    <tr style=\"text-align: right;\">\n",
       "      <th></th>\n",
       "      <th>day</th>\n",
       "      <th>read_email</th>\n",
       "      <th>not_read_email</th>\n",
       "      <th>total</th>\n",
       "      <th>read_ratio</th>\n",
       "    </tr>\n",
       "  </thead>\n",
       "  <tbody>\n",
       "    <tr>\n",
       "      <th>0</th>\n",
       "      <td>Monday</td>\n",
       "      <td>2229</td>\n",
       "      <td>12263</td>\n",
       "      <td>14492</td>\n",
       "      <td>15.380900</td>\n",
       "    </tr>\n",
       "    <tr>\n",
       "      <th>1</th>\n",
       "      <td>Tuesday</td>\n",
       "      <td>2043</td>\n",
       "      <td>11541</td>\n",
       "      <td>13584</td>\n",
       "      <td>15.039753</td>\n",
       "    </tr>\n",
       "    <tr>\n",
       "      <th>2</th>\n",
       "      <td>Wednesday</td>\n",
       "      <td>1408</td>\n",
       "      <td>6681</td>\n",
       "      <td>8089</td>\n",
       "      <td>17.406354</td>\n",
       "    </tr>\n",
       "    <tr>\n",
       "      <th>3</th>\n",
       "      <td>Thursday</td>\n",
       "      <td>1789</td>\n",
       "      <td>9545</td>\n",
       "      <td>11334</td>\n",
       "      <td>15.784366</td>\n",
       "    </tr>\n",
       "    <tr>\n",
       "      <th>4</th>\n",
       "      <td>Friday</td>\n",
       "      <td>1682</td>\n",
       "      <td>8669</td>\n",
       "      <td>10351</td>\n",
       "      <td>16.249638</td>\n",
       "    </tr>\n",
       "    <tr>\n",
       "      <th>5</th>\n",
       "      <td>Saturday</td>\n",
       "      <td>652</td>\n",
       "      <td>4885</td>\n",
       "      <td>5537</td>\n",
       "      <td>11.775330</td>\n",
       "    </tr>\n",
       "    <tr>\n",
       "      <th>6</th>\n",
       "      <td>Sunday</td>\n",
       "      <td>1574</td>\n",
       "      <td>8275</td>\n",
       "      <td>9849</td>\n",
       "      <td>15.981318</td>\n",
       "    </tr>\n",
       "  </tbody>\n",
       "</table>\n",
       "</div>"
      ],
      "text/plain": [
       "         day  read_email  not_read_email  total  read_ratio\n",
       "0     Monday        2229           12263  14492   15.380900\n",
       "1    Tuesday        2043           11541  13584   15.039753\n",
       "2  Wednesday        1408            6681   8089   17.406354\n",
       "3   Thursday        1789            9545  11334   15.784366\n",
       "4     Friday        1682            8669  10351   16.249638\n",
       "5   Saturday         652            4885   5537   11.775330\n",
       "6     Sunday        1574            8275   9849   15.981318"
      ]
     },
     "execution_count": 6,
     "metadata": {},
     "output_type": "execute_result"
    }
   ],
   "source": [
    "day_name = ['Monday','Tuesday','Wednesday','Thursday','Friday','Saturday','Sunday']\n",
    "read=[]\n",
    "not_read=[]\n",
    "for i in day_name:\n",
    "    read.append(EDA[(EDA['day']==i) & (EDA['open_flag']==1)].count()['open_flag'])\n",
    "    not_read.append(EDA[(EDA['day']==i) & (EDA['open_flag']==0)].count()['open_flag'])\n",
    "\n",
    "day = pd.DataFrame()\n",
    "day['day']=day_name\n",
    "day['read_email']=read\n",
    "day['not_read_email']=not_read\n",
    "day['total']=day['read_email']+day['not_read_email']\n",
    "day['read_ratio']=day['read_email']/day['total']*100\n",
    "\n",
    "day"
   ]
  },
  {
   "cell_type": "code",
   "execution_count": 7,
   "metadata": {},
   "outputs": [
    {
     "data": {
      "image/png": "[encoded data removed]",
      "text/plain": [
       "<Figure size 720x432 with 1 Axes>"
      ]
     },
     "metadata": {
      "needs_background": "light"
     },
     "output_type": "display_data"
    }
   ],
   "source": [
    "plt.figure(figsize=(10,6))\n",
    "sns.barplot(x = 'day', y ='open_flag', data = EDA,order=['Monday','Tuesday','Wednesday','Thursday','Friday','Saturday','Sunday'])\n",
    "plt.ylabel('Probability Read Email')\n",
    "plt.title('Probability of Reading Email each day')\n",
    "plt.show()"
   ]
  },
  {
   "cell_type": "markdown",
   "metadata": {},
   "source": [
    "### Hipotesis to Prove Whether Saturday Ratio is Significanly Effecting the Result : Mann-Whitney U Test"
   ]
  },
  {
   "cell_type": "code",
   "execution_count": 8,
   "metadata": {},
   "outputs": [],
   "source": [
    "day_except_saturday = ['Monday','Tuesday','Wednesday','Thursday','Friday','Sunday']"
   ]
  },
  {
   "cell_type": "code",
   "execution_count": 9,
   "metadata": {},
   "outputs": [
    {
     "name": "stdout",
     "output_type": "stream",
     "text": [
      "Comparison of Reading Email on Saturday compared on day Monday :\n",
      "Comparison Ratio Reading Email on Saturday is Same Compared to Reading Email on Monday\n",
      "\n",
      "Comparison of Reading Email on Saturday compared on day Tuesday :\n",
      "Comparison Ratio Reading Email on Saturday is Same Compared to Reading Email on Tuesday\n",
      "\n",
      "Comparison of Reading Email on Saturday compared on day Wednesday :\n",
      "Comparison Ratio Reading Email on Saturday is Same Compared to Reading Email on Wednesday\n",
      "\n",
      "Comparison of Reading Email on Saturday compared on day Thursday :\n",
      "Comparison Ratio Reading Email on Saturday is Same Compared to Reading Email on Thursday\n",
      "\n",
      "Comparison of Reading Email on Saturday compared on day Friday :\n",
      "Comparison Ratio Reading Email on Saturday is Same Compared to Reading Email on Friday\n",
      "\n",
      "Comparison of Reading Email on Saturday compared on day Sunday :\n",
      "Comparison Ratio Reading Email on Saturday is Same Compared to Reading Email on Sunday\n",
      "\n"
     ]
    }
   ],
   "source": [
    "for i in day_except_saturday:\n",
    "    stats, p = mannwhitneyu(day[day['day'] == 'Saturday']['read_ratio'], day[day['day'] == i]['read_ratio'], alternative='less')\n",
    "    print(f'Comparison of Reading Email on Saturday compared on day {i} :')\n",
    "    if p < 0.05:\n",
    "        print(f'Comparison Ratio Reading Email on Saturday is Smaller Than Reading Email on {i}')\n",
    "    else:\n",
    "        print(f'Comparison Ratio Reading Email on Saturday is Same Compared to Reading Email on {i}')\n",
    "    print('')"
   ]
  },
  {
   "cell_type": "markdown",
   "metadata": {},
   "source": [
    "### From the result above, can concluded that the Reading Ratio on Saturday is the same and does not affecting the result compared to the other day"
   ]
  },
  {
   "cell_type": "markdown",
   "metadata": {},
   "source": [
    "## 3. Age"
   ]
  },
  {
   "cell_type": "code",
   "execution_count": 10,
   "metadata": {},
   "outputs": [
    {
     "data": {
      "text/plain": [
       "open_flag                        0\n",
       "age                          28846\n",
       "domain                           0\n",
       "country                          0\n",
       "day                              0\n",
       "character_length                 0\n",
       "last_time_open_email             0\n",
       "last_time_open_shopee            0\n",
       "last_time_checkout_shopee        0\n",
       "open_frequency                   0\n",
       "login_frequency                  0\n",
       "checkout_frequency               0\n",
       "dtype: int64"
      ]
     },
     "execution_count": 10,
     "metadata": {},
     "output_type": "execute_result"
    }
   ],
   "source": [
    "EDA.isna().sum()"
   ]
  },
  {
   "cell_type": "code",
   "execution_count": 11,
   "metadata": {},
   "outputs": [
    {
     "data": {
      "text/plain": [
       "29.0"
      ]
     },
     "execution_count": 11,
     "metadata": {},
     "output_type": "execute_result"
    }
   ],
   "source": [
    "EDA['age'].median()"
   ]
  },
  {
   "cell_type": "code",
   "execution_count": 12,
   "metadata": {},
   "outputs": [],
   "source": [
    "EDA['age'].fillna(EDA['age'].median(),inplace=True)"
   ]
  },
  {
   "cell_type": "markdown",
   "metadata": {},
   "source": [
    "### Bining : \n",
    "1. Age 15-18 : high school\n",
    "1. Age 18-25 : university\n",
    "1. Age 25-35 : working\n",
    "1. Age 35-55 : family\n",
    "1. Age 55 above : elder"
   ]
  },
  {
   "cell_type": "code",
   "execution_count": 13,
   "metadata": {},
   "outputs": [],
   "source": [
    "EDA['age_category']=pd.cut(EDA['age'],[14,18,25,35,55,90],labels=['high school','university','working','family','elder'])"
   ]
  },
  {
   "cell_type": "code",
   "execution_count": 14,
   "metadata": {},
   "outputs": [
    {
     "data": {
      "text/plain": [
       "open_flag                    0\n",
       "age                          0\n",
       "domain                       0\n",
       "country                      0\n",
       "day                          0\n",
       "character_length             0\n",
       "last_time_open_email         0\n",
       "last_time_open_shopee        0\n",
       "last_time_checkout_shopee    0\n",
       "open_frequency               0\n",
       "login_frequency              0\n",
       "checkout_frequency           0\n",
       "age_category                 0\n",
       "dtype: int64"
      ]
     },
     "execution_count": 14,
     "metadata": {},
     "output_type": "execute_result"
    }
   ],
   "source": [
    "EDA.isna().sum()"
   ]
  },
  {
   "cell_type": "code",
   "execution_count": 15,
   "metadata": {},
   "outputs": [
    {
     "name": "stderr",
     "output_type": "stream",
     "text": [
      "C:\\Users\\johan\\anaconda3\\lib\\site-packages\\seaborn\\distributions.py:2551: FutureWarning: `distplot` is a deprecated function and will be removed in a future version. Please adapt your code to use either `displot` (a figure-level function with similar flexibility) or `histplot` (an axes-level function for histograms).\n",
      "  warnings.warn(msg, FutureWarning)\n",
      "C:\\Users\\johan\\anaconda3\\lib\\site-packages\\seaborn\\distributions.py:2551: FutureWarning: `distplot` is a deprecated function and will be removed in a future version. Please adapt your code to use either `displot` (a figure-level function with similar flexibility) or `histplot` (an axes-level function for histograms).\n",
      "  warnings.warn(msg, FutureWarning)\n"
     ]
    },
    {
     "data": {
      "image/png": "[encoded data removed]",
      "text/plain": [
       "<Figure size 720x360 with 1 Axes>"
      ]
     },
     "metadata": {
      "needs_background": "light"
     },
     "output_type": "display_data"
    }
   ],
   "source": [
    "plt.figure(figsize=(10,5))\n",
    "plt.title('Age Distribution')\n",
    "sns.distplot(awal[awal['open_flag'] == 1]['age'], label='Read')\n",
    "sns.distplot(awal[awal['open_flag'] == 0]['age'], label='Not Read')\n",
    "plt.legend(loc= 'upper right')\n",
    "plt.show()"
   ]
  },
  {
   "cell_type": "code",
   "execution_count": 16,
   "metadata": {},
   "outputs": [],
   "source": [
    "df_age = awal[['open_flag', 'age']].groupby(['age'], as_index = False).mean().sort_values(by = 'open_flag', ascending = False)[:20]"
   ]
  },
  {
   "cell_type": "code",
   "execution_count": 17,
   "metadata": {},
   "outputs": [
    {
     "data": {
      "image/png": "[encoded data removed]",
      "text/plain": [
       "<Figure size 720x432 with 1 Axes>"
      ]
     },
     "metadata": {
      "needs_background": "light"
     },
     "output_type": "display_data"
    }
   ],
   "source": [
    "plt.figure(figsize=(10,6))\n",
    "sns.barplot(x = 'age', y ='open_flag', data = df_age)\n",
    "plt.ylabel('Probability Read Email')\n",
    "plt.title('Probability Read Email Each User Age')\n",
    "plt.show()"
   ]
  },
  {
   "cell_type": "markdown",
   "metadata": {},
   "source": [
    "### Categorizing Age as follow :\n",
    "\n",
    "1. Age 15-18 : high school\n",
    "1. Age 18-25 : university\n",
    "1. Age 25-35 : working\n",
    "1. Age 35-55 : family\n",
    "1. Age 55 abpve : elder"
   ]
  },
  {
   "cell_type": "code",
   "execution_count": 18,
   "metadata": {},
   "outputs": [
    {
     "data": {
      "text/plain": [
       "working        65.108690\n",
       "university     17.576055\n",
       "family         15.246600\n",
       "high school     1.328582\n",
       "elder           0.740073\n",
       "Name: age_category, dtype: float64"
      ]
     },
     "execution_count": 18,
     "metadata": {},
     "output_type": "execute_result"
    }
   ],
   "source": [
    "EDA['age_category'].value_counts(normalize=True)*100"
   ]
  },
  {
   "cell_type": "code",
   "execution_count": 19,
   "metadata": {},
   "outputs": [
    {
     "data": {
      "text/html": [
       "<div>\n",
       "<style scoped>\n",
       "    .dataframe tbody tr th:only-of-type {\n",
       "        vertical-align: middle;\n",
       "    }\n",
       "\n",
       "    .dataframe tbody tr th {\n",
       "        vertical-align: top;\n",
       "    }\n",
       "\n",
       "    .dataframe thead th {\n",
       "        text-align: right;\n",
       "    }\n",
       "</style>\n",
       "<table border=\"1\" class=\"dataframe\">\n",
       "  <thead>\n",
       "    <tr style=\"text-align: right;\">\n",
       "      <th></th>\n",
       "      <th>age_category</th>\n",
       "      <th>read_email</th>\n",
       "      <th>not_read_email</th>\n",
       "      <th>total</th>\n",
       "      <th>read_ratio</th>\n",
       "    </tr>\n",
       "  </thead>\n",
       "  <tbody>\n",
       "    <tr>\n",
       "      <th>0</th>\n",
       "      <td>high school</td>\n",
       "      <td>96</td>\n",
       "      <td>877</td>\n",
       "      <td>973</td>\n",
       "      <td>9.866393</td>\n",
       "    </tr>\n",
       "    <tr>\n",
       "      <th>1</th>\n",
       "      <td>university</td>\n",
       "      <td>1455</td>\n",
       "      <td>11417</td>\n",
       "      <td>12872</td>\n",
       "      <td>11.303605</td>\n",
       "    </tr>\n",
       "    <tr>\n",
       "      <th>2</th>\n",
       "      <td>working</td>\n",
       "      <td>7356</td>\n",
       "      <td>40327</td>\n",
       "      <td>47683</td>\n",
       "      <td>15.426882</td>\n",
       "    </tr>\n",
       "    <tr>\n",
       "      <th>3</th>\n",
       "      <td>family</td>\n",
       "      <td>2295</td>\n",
       "      <td>8871</td>\n",
       "      <td>11166</td>\n",
       "      <td>20.553466</td>\n",
       "    </tr>\n",
       "    <tr>\n",
       "      <th>4</th>\n",
       "      <td>elder</td>\n",
       "      <td>175</td>\n",
       "      <td>367</td>\n",
       "      <td>542</td>\n",
       "      <td>32.287823</td>\n",
       "    </tr>\n",
       "  </tbody>\n",
       "</table>\n",
       "</div>"
      ],
      "text/plain": [
       "  age_category  read_email  not_read_email  total  read_ratio\n",
       "0  high school          96             877    973    9.866393\n",
       "1   university        1455           11417  12872   11.303605\n",
       "2      working        7356           40327  47683   15.426882\n",
       "3       family        2295            8871  11166   20.553466\n",
       "4        elder         175             367    542   32.287823"
      ]
     },
     "execution_count": 19,
     "metadata": {},
     "output_type": "execute_result"
    }
   ],
   "source": [
    "age_cat = ['high school','university','working','family','elder']\n",
    "read=[]\n",
    "not_read=[]\n",
    "for i in age_cat:\n",
    "    read.append(EDA[(EDA['age_category']==i) & (EDA['open_flag']==1)].count()['open_flag'])\n",
    "    not_read.append(EDA[(EDA['age_category']==i) & (EDA['open_flag']==0)].count()['open_flag'])\n",
    "\n",
    "age = pd.DataFrame()\n",
    "age['age_category']=age_cat\n",
    "age['read_email']=read\n",
    "age['not_read_email']=not_read\n",
    "age['total']=age['read_email']+age['not_read_email']\n",
    "age['read_ratio']=age['read_email']/age['total']*100\n",
    "\n",
    "age"
   ]
  },
  {
   "cell_type": "code",
   "execution_count": 20,
   "metadata": {},
   "outputs": [
    {
     "data": {
      "image/png": "[encoded data removed]",
      "text/plain": [
       "<Figure size 720x432 with 1 Axes>"
      ]
     },
     "metadata": {
      "needs_background": "light"
     },
     "output_type": "display_data"
    }
   ],
   "source": [
    "plt.figure(figsize=(10,6))\n",
    "sns.barplot(x = 'age_category', y ='read_ratio', data = age,order=['high school','university','working','family','elder'],palette='icefire')\n",
    "plt.ylabel('Read Ratio of Categorized Age',fontsize=20)\n",
    "plt.xlabel('Age Category',fontsize=20)\n",
    "plt.title('Probability of Reading Email per Age Category',fontsize=20)\n",
    "plt.savefig('Agemean.png')\n",
    "plt.show()\n"
   ]
  },
  {
   "cell_type": "markdown",
   "metadata": {},
   "source": [
    "From the chart above, showed that 33 % of total elder is like to read promotion email"
   ]
  },
  {
   "cell_type": "code",
   "execution_count": 21,
   "metadata": {},
   "outputs": [
    {
     "data": {
      "text/plain": [
       "age_category\n",
       "high school      973\n",
       "university     12872\n",
       "working        47683\n",
       "family         11166\n",
       "elder            542\n",
       "Name: age, dtype: int64"
      ]
     },
     "execution_count": 21,
     "metadata": {},
     "output_type": "execute_result"
    }
   ],
   "source": [
    "cat = EDA.groupby(['age_category'])\n",
    "cat.count()['age']"
   ]
  },
  {
   "cell_type": "code",
   "execution_count": 22,
   "metadata": {},
   "outputs": [
    {
     "data": {
      "text/html": [
       "<div>\n",
       "<style scoped>\n",
       "    .dataframe tbody tr th:only-of-type {\n",
       "        vertical-align: middle;\n",
       "    }\n",
       "\n",
       "    .dataframe tbody tr th {\n",
       "        vertical-align: top;\n",
       "    }\n",
       "\n",
       "    .dataframe thead th {\n",
       "        text-align: right;\n",
       "    }\n",
       "</style>\n",
       "<table border=\"1\" class=\"dataframe\">\n",
       "  <thead>\n",
       "    <tr style=\"text-align: right;\">\n",
       "      <th></th>\n",
       "      <th>jumlah</th>\n",
       "      <th>ratio</th>\n",
       "    </tr>\n",
       "  </thead>\n",
       "  <tbody>\n",
       "    <tr>\n",
       "      <th>high school</th>\n",
       "      <td>973</td>\n",
       "      <td>1.328582</td>\n",
       "    </tr>\n",
       "    <tr>\n",
       "      <th>university</th>\n",
       "      <td>12872</td>\n",
       "      <td>17.576055</td>\n",
       "    </tr>\n",
       "    <tr>\n",
       "      <th>working</th>\n",
       "      <td>47683</td>\n",
       "      <td>65.108690</td>\n",
       "    </tr>\n",
       "    <tr>\n",
       "      <th>family</th>\n",
       "      <td>11166</td>\n",
       "      <td>15.246600</td>\n",
       "    </tr>\n",
       "    <tr>\n",
       "      <th>elder</th>\n",
       "      <td>542</td>\n",
       "      <td>0.740073</td>\n",
       "    </tr>\n",
       "  </tbody>\n",
       "</table>\n",
       "</div>"
      ],
      "text/plain": [
       "             jumlah      ratio\n",
       "high school     973   1.328582\n",
       "university    12872  17.576055\n",
       "working       47683  65.108690\n",
       "family        11166  15.246600\n",
       "elder           542   0.740073"
      ]
     },
     "execution_count": 22,
     "metadata": {},
     "output_type": "execute_result"
    }
   ],
   "source": [
    "categ = pd.DataFrame([973,12872,47683,11166,542],index=['high school','university','working','family','elder'],columns=['jumlah'])\n",
    "categ['ratio']=categ['jumlah']/73236*100\n",
    "categ"
   ]
  },
  {
   "cell_type": "code",
   "execution_count": 23,
   "metadata": {},
   "outputs": [
    {
     "data": {
      "image/png": "[encoded data removed]",
      "text/plain": [
       "<Figure size 720x432 with 1 Axes>"
      ]
     },
     "metadata": {
      "needs_background": "light"
     },
     "output_type": "display_data"
    }
   ],
   "source": [
    "plt.figure(figsize=(10,6))\n",
    "sns.barplot(x = categ.index, y ='ratio', data = categ,order=['high school','university','working','family','elder'],palette='icefire')\n",
    "plt.ylabel('Ratio (%)',fontsize=20)\n",
    "plt.xlabel('Age Category',fontsize=20)\n",
    "plt.title('Distribution of Shopee User',fontsize=20)\n",
    "plt.savefig('Ageratio.png')\n",
    "plt.show()\n"
   ]
  },
  {
   "cell_type": "markdown",
   "metadata": {},
   "source": [
    "1. From the barplot above, people in working age category has the highest sample number, but actually only 15% of total people in working age category that read the promotion email\n",
    "1. 2/3 of Shopee's User are actually categorized as working"
   ]
  },
  {
   "cell_type": "markdown",
   "metadata": {},
   "source": [
    "## 4. Last Open Email / Login Shopee / CheckOut Shopee"
   ]
  },
  {
   "cell_type": "markdown",
   "metadata": {},
   "source": [
    "### After Categorizing"
   ]
  },
  {
   "cell_type": "code",
   "execution_count": 24,
   "metadata": {},
   "outputs": [],
   "source": [
    "df_terakhir_buka_email= EDA[['open_flag', 'last_time_open_email']].groupby(['last_time_open_email'], as_index = False).mean().sort_values(by = 'open_flag', ascending = False)\n",
    "df_terakhir_buka_shopee=EDA[['open_flag', 'last_time_open_shopee']].groupby(['last_time_open_shopee'], as_index = False).mean().sort_values(by = 'open_flag', ascending = False)\n",
    "df_terakhir_belanja_shopee=EDA[['open_flag', 'last_time_checkout_shopee']].groupby(['last_time_checkout_shopee'], as_index = False).mean().sort_values(by = 'open_flag', ascending = False)"
   ]
  },
  {
   "cell_type": "code",
   "execution_count": 25,
   "metadata": {},
   "outputs": [
    {
     "data": {
      "image/png": "[encoded data removed]",
      "text/plain": [
       "<Figure size 720x432 with 1 Axes>"
      ]
     },
     "metadata": {
      "needs_background": "light"
     },
     "output_type": "display_data"
    }
   ],
   "source": [
    "plt.figure(figsize=(10,6))\n",
    "\n",
    "sns.barplot(x = 'last_time_open_email', y ='open_flag', data = df_terakhir_buka_email,order=['0-1 year','1-2 years','2-3 years','more than 3 years'],palette = 'Blues_r')\n",
    "plt.ylabel('Probability of Reading Email',fontsize=20)\n",
    "plt.xlabel('Last time users open their Email',fontsize=20)\n",
    "plt.title('Probability of Reading Email per Last Open Email',fontsize=20)\n",
    "plt.savefig('lastopenemail.png')\n",
    "plt.show()\n"
   ]
  },
  {
   "cell_type": "markdown",
   "metadata": {},
   "source": [
    "User that still open the email frequently, is the user that has the biggest chance to read the promotion email from Shopee"
   ]
  },
  {
   "cell_type": "code",
   "execution_count": 26,
   "metadata": {},
   "outputs": [
    {
     "data": {
      "image/png": "[encoded data removed]",
      "text/plain": [
       "<Figure size 720x432 with 1 Axes>"
      ]
     },
     "metadata": {
      "needs_background": "light"
     },
     "output_type": "display_data"
    }
   ],
   "source": [
    "plt.figure(figsize=(10,6))\n",
    "\n",
    "sns.barplot(x = 'last_time_open_shopee', y ='open_flag', data = df_terakhir_buka_shopee,order=['0-1 year','1-2 years','2-3 years','more than 3 years'])\n",
    "plt.ylabel('Probability of Reading Email')\n",
    "plt.title('Probability of Reading Email per Last Open Shopee')\n",
    "\n",
    "plt.show()\n"
   ]
  },
  {
   "cell_type": "markdown",
   "metadata": {},
   "source": [
    "User that has not open Shopee anymore is actually the one that likely to read promotion email from Shopee out of curiousity."
   ]
  },
  {
   "cell_type": "code",
   "execution_count": 27,
   "metadata": {},
   "outputs": [
    {
     "data": {
      "image/png": "[encoded data removed]",
      "text/plain": [
       "<Figure size 720x432 with 1 Axes>"
      ]
     },
     "metadata": {
      "needs_background": "light"
     },
     "output_type": "display_data"
    }
   ],
   "source": [
    "plt.figure(figsize=(10,6))\n",
    "\n",
    "sns.barplot(x = 'last_time_checkout_shopee', y ='open_flag', data = df_terakhir_belanja_shopee,order=['0-1 year','1-2 years','2-3 years','more than 3 years'])\n",
    "plt.ylabel('Probability of Reading Email')\n",
    "plt.title('Probability of Reading Email per Last Checkout at Shopee')\n",
    "\n",
    "plt.show()"
   ]
  },
  {
   "cell_type": "markdown",
   "metadata": {},
   "source": [
    "Last Time Checkout did not give any significant result"
   ]
  },
  {
   "cell_type": "markdown",
   "metadata": {},
   "source": [
    "## 5. Domain "
   ]
  },
  {
   "cell_type": "code",
   "execution_count": 28,
   "metadata": {},
   "outputs": [
    {
     "data": {
      "text/plain": [
       "@gmail.com    85.246327\n",
       "other          7.737998\n",
       "@yahoo.com     7.015675\n",
       "Name: domain, dtype: float64"
      ]
     },
     "execution_count": 28,
     "metadata": {},
     "output_type": "execute_result"
    }
   ],
   "source": [
    "EDA['domain'].value_counts(normalize=True)*100"
   ]
  },
  {
   "cell_type": "code",
   "execution_count": 29,
   "metadata": {},
   "outputs": [
    {
     "data": {
      "text/html": [
       "<div>\n",
       "<style scoped>\n",
       "    .dataframe tbody tr th:only-of-type {\n",
       "        vertical-align: middle;\n",
       "    }\n",
       "\n",
       "    .dataframe tbody tr th {\n",
       "        vertical-align: top;\n",
       "    }\n",
       "\n",
       "    .dataframe thead th {\n",
       "        text-align: right;\n",
       "    }\n",
       "</style>\n",
       "<table border=\"1\" class=\"dataframe\">\n",
       "  <thead>\n",
       "    <tr style=\"text-align: right;\">\n",
       "      <th></th>\n",
       "      <th>domain</th>\n",
       "      <th>open_flag</th>\n",
       "    </tr>\n",
       "  </thead>\n",
       "  <tbody>\n",
       "    <tr>\n",
       "      <th>2</th>\n",
       "      <td>other</td>\n",
       "      <td>0.292042</td>\n",
       "    </tr>\n",
       "    <tr>\n",
       "      <th>1</th>\n",
       "      <td>@yahoo.com</td>\n",
       "      <td>0.180810</td>\n",
       "    </tr>\n",
       "    <tr>\n",
       "      <th>0</th>\n",
       "      <td>@gmail.com</td>\n",
       "      <td>0.140843</td>\n",
       "    </tr>\n",
       "  </tbody>\n",
       "</table>\n",
       "</div>"
      ],
      "text/plain": [
       "       domain  open_flag\n",
       "2       other   0.292042\n",
       "1  @yahoo.com   0.180810\n",
       "0  @gmail.com   0.140843"
      ]
     },
     "execution_count": 29,
     "metadata": {},
     "output_type": "execute_result"
    }
   ],
   "source": [
    "df_domain= EDA[['open_flag', 'domain']].groupby(['domain'], as_index = False).mean().sort_values(by = 'open_flag', ascending = False)\n",
    "df_domain"
   ]
  },
  {
   "cell_type": "code",
   "execution_count": 30,
   "metadata": {},
   "outputs": [
    {
     "data": {
      "image/png": "[encoded data removed]",
      "text/plain": [
       "<Figure size 1440x432 with 1 Axes>"
      ]
     },
     "metadata": {
      "needs_background": "light"
     },
     "output_type": "display_data"
    }
   ],
   "source": [
    "plt.figure(figsize=(20,6))\n",
    "\n",
    "sns.barplot(x = 'domain', y ='open_flag', data = df_domain)\n",
    "plt.ylabel('Probability of Reading Email')\n",
    "plt.title('Probability of Reading Email per Domain Email')\n",
    "\n",
    "plt.show()"
   ]
  },
  {
   "cell_type": "markdown",
   "metadata": {},
   "source": [
    "Looks like other domain (which is only 7%) has the higher chance to read an email. Looks like people just make gmail or yahoo account for other purpose than reading promotion email"
   ]
  },
  {
   "cell_type": "markdown",
   "metadata": {},
   "source": [
    "# 6. Frequency of Open Email, Login Shopee, and Checkout at Shopee"
   ]
  },
  {
   "cell_type": "code",
   "execution_count": 31,
   "metadata": {},
   "outputs": [],
   "source": [
    "df_open_freq= EDA[['open_flag', 'open_frequency']].groupby(['open_frequency'], as_index = False).mean().sort_values(by = 'open_flag', ascending = False)\n",
    "df_login_freq= EDA[['open_flag', 'login_frequency']].groupby(['login_frequency'], as_index = False).mean().sort_values(by = 'open_flag', ascending = False)\n",
    "df_checkout_freq= EDA[['open_flag', 'checkout_frequency']].groupby(['checkout_frequency'], as_index = False).mean().sort_values(by = 'open_flag', ascending = False)"
   ]
  },
  {
   "cell_type": "code",
   "execution_count": 32,
   "metadata": {},
   "outputs": [
    {
     "data": {
      "text/html": [
       "<div>\n",
       "<style scoped>\n",
       "    .dataframe tbody tr th:only-of-type {\n",
       "        vertical-align: middle;\n",
       "    }\n",
       "\n",
       "    .dataframe tbody tr th {\n",
       "        vertical-align: top;\n",
       "    }\n",
       "\n",
       "    .dataframe thead th {\n",
       "        text-align: right;\n",
       "    }\n",
       "</style>\n",
       "<table border=\"1\" class=\"dataframe\">\n",
       "  <thead>\n",
       "    <tr style=\"text-align: right;\">\n",
       "      <th></th>\n",
       "      <th>open_frequency</th>\n",
       "      <th>open_flag</th>\n",
       "    </tr>\n",
       "  </thead>\n",
       "  <tbody>\n",
       "    <tr>\n",
       "      <th>161</th>\n",
       "      <td>0.550000</td>\n",
       "      <td>1.0</td>\n",
       "    </tr>\n",
       "    <tr>\n",
       "      <th>121</th>\n",
       "      <td>0.422222</td>\n",
       "      <td>1.0</td>\n",
       "    </tr>\n",
       "    <tr>\n",
       "      <th>238</th>\n",
       "      <td>0.777778</td>\n",
       "      <td>1.0</td>\n",
       "    </tr>\n",
       "    <tr>\n",
       "      <th>243</th>\n",
       "      <td>0.794444</td>\n",
       "      <td>1.0</td>\n",
       "    </tr>\n",
       "    <tr>\n",
       "      <th>245</th>\n",
       "      <td>0.800000</td>\n",
       "      <td>1.0</td>\n",
       "    </tr>\n",
       "    <tr>\n",
       "      <th>...</th>\n",
       "      <td>...</td>\n",
       "      <td>...</td>\n",
       "    </tr>\n",
       "    <tr>\n",
       "      <th>304</th>\n",
       "      <td>1.077778</td>\n",
       "      <td>0.0</td>\n",
       "    </tr>\n",
       "    <tr>\n",
       "      <th>261</th>\n",
       "      <td>0.861111</td>\n",
       "      <td>0.0</td>\n",
       "    </tr>\n",
       "    <tr>\n",
       "      <th>30</th>\n",
       "      <td>0.122222</td>\n",
       "      <td>0.0</td>\n",
       "    </tr>\n",
       "    <tr>\n",
       "      <th>321</th>\n",
       "      <td>2.038889</td>\n",
       "      <td>0.0</td>\n",
       "    </tr>\n",
       "    <tr>\n",
       "      <th>201</th>\n",
       "      <td>0.661111</td>\n",
       "      <td>0.0</td>\n",
       "    </tr>\n",
       "  </tbody>\n",
       "</table>\n",
       "<p>323 rows × 2 columns</p>\n",
       "</div>"
      ],
      "text/plain": [
       "     open_frequency  open_flag\n",
       "161        0.550000        1.0\n",
       "121        0.422222        1.0\n",
       "238        0.777778        1.0\n",
       "243        0.794444        1.0\n",
       "245        0.800000        1.0\n",
       "..              ...        ...\n",
       "304        1.077778        0.0\n",
       "261        0.861111        0.0\n",
       "30         0.122222        0.0\n",
       "321        2.038889        0.0\n",
       "201        0.661111        0.0\n",
       "\n",
       "[323 rows x 2 columns]"
      ]
     },
     "execution_count": 32,
     "metadata": {},
     "output_type": "execute_result"
    }
   ],
   "source": [
    "df_open_freq"
   ]
  },
  {
   "cell_type": "code",
   "execution_count": 33,
   "metadata": {},
   "outputs": [
    {
     "name": "stderr",
     "output_type": "stream",
     "text": [
      "C:\\Users\\johan\\anaconda3\\lib\\site-packages\\seaborn\\distributions.py:2551: FutureWarning: `distplot` is a deprecated function and will be removed in a future version. Please adapt your code to use either `displot` (a figure-level function with similar flexibility) or `histplot` (an axes-level function for histograms).\n",
      "  warnings.warn(msg, FutureWarning)\n",
      "C:\\Users\\johan\\anaconda3\\lib\\site-packages\\seaborn\\distributions.py:2551: FutureWarning: `distplot` is a deprecated function and will be removed in a future version. Please adapt your code to use either `displot` (a figure-level function with similar flexibility) or `histplot` (an axes-level function for histograms).\n",
      "  warnings.warn(msg, FutureWarning)\n",
      "C:\\Users\\johan\\anaconda3\\lib\\site-packages\\seaborn\\distributions.py:2551: FutureWarning: `distplot` is a deprecated function and will be removed in a future version. Please adapt your code to use either `displot` (a figure-level function with similar flexibility) or `histplot` (an axes-level function for histograms).\n",
      "  warnings.warn(msg, FutureWarning)\n",
      "C:\\Users\\johan\\anaconda3\\lib\\site-packages\\seaborn\\distributions.py:2551: FutureWarning: `distplot` is a deprecated function and will be removed in a future version. Please adapt your code to use either `displot` (a figure-level function with similar flexibility) or `histplot` (an axes-level function for histograms).\n",
      "  warnings.warn(msg, FutureWarning)\n",
      "C:\\Users\\johan\\anaconda3\\lib\\site-packages\\seaborn\\distributions.py:2551: FutureWarning: `distplot` is a deprecated function and will be removed in a future version. Please adapt your code to use either `displot` (a figure-level function with similar flexibility) or `histplot` (an axes-level function for histograms).\n",
      "  warnings.warn(msg, FutureWarning)\n",
      "C:\\Users\\johan\\anaconda3\\lib\\site-packages\\seaborn\\distributions.py:2551: FutureWarning: `distplot` is a deprecated function and will be removed in a future version. Please adapt your code to use either `displot` (a figure-level function with similar flexibility) or `histplot` (an axes-level function for histograms).\n",
      "  warnings.warn(msg, FutureWarning)\n"
     ]
    },
    {
     "data": {
      "image/png": "[encoded data removed]",
      "text/plain": [
       "<Figure size 720x1080 with 3 Axes>"
      ]
     },
     "metadata": {
      "needs_background": "light"
     },
     "output_type": "display_data"
    }
   ],
   "source": [
    "plt.figure(figsize=(10,15))\n",
    "plt.subplot(311)\n",
    "plt.title('User that Open Email',fontsize=20)\n",
    "plt.ylabel('Density',fontsize=20)\n",
    "plt.xlabel('Open Email Frequency',fontsize=20)\n",
    "sns.distplot(df_open_freq[df_open_freq['open_flag'] == 1]['open_frequency'], label='Read')\n",
    "sns.distplot(df_open_freq[df_open_freq['open_flag'] == 0]['open_frequency'], label='Not Read')\n",
    "plt.legend(loc= 'upper right')\n",
    "plt.savefig('open_freq.png')\n",
    "\n",
    "plt.subplot(312)\n",
    "plt.title('User that Login Shopee')\n",
    "sns.distplot(df_login_freq[df_login_freq['open_flag'] == 1]['login_frequency'], label='Read')\n",
    "sns.distplot(df_login_freq[df_login_freq['open_flag'] == 0]['login_frequency'], label='Not Read')\n",
    "plt.legend(loc= 'upper right')\n",
    "\n",
    "plt.subplot(313)\n",
    "plt.title('User that Checkout at Shopee')\n",
    "sns.distplot(df_checkout_freq[df_checkout_freq['open_flag'] == 1]['checkout_frequency'], label='Read')\n",
    "sns.distplot(df_checkout_freq[df_checkout_freq['open_flag'] == 0]['checkout_frequency'], label='Not Read')\n",
    "plt.legend(loc= 'upper right')\n",
    "plt.show()"
   ]
  },
  {
   "cell_type": "markdown",
   "metadata": {},
   "source": [
    "User that has the highest possibility of reading promotion Email from Shopee has average score of :\n",
    "- Open 0.8-1.2 email per days\n",
    "\n",
    "Both users that login in shopee and checkout in shopee has the same frequency, so that does not give any information"
   ]
  },
  {
   "cell_type": "markdown",
   "metadata": {},
   "source": [
    "## 7. Country"
   ]
  },
  {
   "cell_type": "code",
   "execution_count": 34,
   "metadata": {},
   "outputs": [
    {
     "data": {
      "text/html": [
       "<div>\n",
       "<style scoped>\n",
       "    .dataframe tbody tr th:only-of-type {\n",
       "        vertical-align: middle;\n",
       "    }\n",
       "\n",
       "    .dataframe tbody tr th {\n",
       "        vertical-align: top;\n",
       "    }\n",
       "\n",
       "    .dataframe thead th {\n",
       "        text-align: right;\n",
       "    }\n",
       "</style>\n",
       "<table border=\"1\" class=\"dataframe\">\n",
       "  <thead>\n",
       "    <tr style=\"text-align: right;\">\n",
       "      <th></th>\n",
       "      <th>country</th>\n",
       "      <th>open_flag</th>\n",
       "    </tr>\n",
       "  </thead>\n",
       "  <tbody>\n",
       "    <tr>\n",
       "      <th>2</th>\n",
       "      <td>Philippines</td>\n",
       "      <td>0.352376</td>\n",
       "    </tr>\n",
       "    <tr>\n",
       "      <th>6</th>\n",
       "      <td>Vietnam</td>\n",
       "      <td>0.244435</td>\n",
       "    </tr>\n",
       "    <tr>\n",
       "      <th>5</th>\n",
       "      <td>Thailand</td>\n",
       "      <td>0.221981</td>\n",
       "    </tr>\n",
       "    <tr>\n",
       "      <th>4</th>\n",
       "      <td>Taiwan</td>\n",
       "      <td>0.215516</td>\n",
       "    </tr>\n",
       "    <tr>\n",
       "      <th>1</th>\n",
       "      <td>Malaysia</td>\n",
       "      <td>0.191204</td>\n",
       "    </tr>\n",
       "    <tr>\n",
       "      <th>0</th>\n",
       "      <td>Indonesia</td>\n",
       "      <td>0.131286</td>\n",
       "    </tr>\n",
       "    <tr>\n",
       "      <th>3</th>\n",
       "      <td>Singapore</td>\n",
       "      <td>0.081125</td>\n",
       "    </tr>\n",
       "  </tbody>\n",
       "</table>\n",
       "</div>"
      ],
      "text/plain": [
       "       country  open_flag\n",
       "2  Philippines   0.352376\n",
       "6      Vietnam   0.244435\n",
       "5     Thailand   0.221981\n",
       "4       Taiwan   0.215516\n",
       "1     Malaysia   0.191204\n",
       "0    Indonesia   0.131286\n",
       "3    Singapore   0.081125"
      ]
     },
     "execution_count": 34,
     "metadata": {},
     "output_type": "execute_result"
    }
   ],
   "source": [
    "df_country= EDA[['open_flag', 'country']].groupby(['country'], as_index = False).mean().sort_values(by = 'open_flag', ascending = False)\n",
    "df_country"
   ]
  },
  {
   "cell_type": "code",
   "execution_count": 35,
   "metadata": {},
   "outputs": [
    {
     "data": {
      "image/png": "[encoded data removed]",
      "text/plain": [
       "<Figure size 1440x432 with 1 Axes>"
      ]
     },
     "metadata": {
      "needs_background": "light"
     },
     "output_type": "display_data"
    }
   ],
   "source": [
    "plt.figure(figsize=(20,6))\n",
    "\n",
    "sns.barplot(x = 'country', y ='open_flag', data = df_country,palette='cubehelix')\n",
    "plt.ylabel('Probability of Reading Email',fontsize=20)\n",
    "plt.xlabel('Country',fontsize=20)\n",
    "plt.title('Probability of Reading Email per Country Location',fontsize=20)\n",
    "plt.savefig('country.png')\n",
    "plt.show()\n"
   ]
  },
  {
   "cell_type": "markdown",
   "metadata": {},
   "source": [
    "Country that has user that most likely to open email is Phillipines"
   ]
  },
  {
   "cell_type": "code",
   "execution_count": 36,
   "metadata": {},
   "outputs": [],
   "source": [
    "EDA.drop('age_category',axis=1,inplace=True)"
   ]
  },
  {
   "cell_type": "code",
   "execution_count": 43,
   "metadata": {},
   "outputs": [
    {
     "data": {
      "text/html": [
       "<div>\n",
       "<style scoped>\n",
       "    .dataframe tbody tr th:only-of-type {\n",
       "        vertical-align: middle;\n",
       "    }\n",
       "\n",
       "    .dataframe tbody tr th {\n",
       "        vertical-align: top;\n",
       "    }\n",
       "\n",
       "    .dataframe thead th {\n",
       "        text-align: right;\n",
       "    }\n",
       "</style>\n",
       "<table border=\"1\" class=\"dataframe\">\n",
       "  <thead>\n",
       "    <tr style=\"text-align: right;\">\n",
       "      <th></th>\n",
       "      <th>open_flag</th>\n",
       "      <th>age</th>\n",
       "      <th>domain</th>\n",
       "      <th>country</th>\n",
       "      <th>day</th>\n",
       "      <th>character_length</th>\n",
       "      <th>last_time_open_email</th>\n",
       "      <th>last_time_open_shopee</th>\n",
       "      <th>last_time_checkout_shopee</th>\n",
       "      <th>open_frequency</th>\n",
       "      <th>login_frequency</th>\n",
       "      <th>checkout_frequency</th>\n",
       "    </tr>\n",
       "  </thead>\n",
       "  <tbody>\n",
       "    <tr>\n",
       "      <th>0</th>\n",
       "      <td>0</td>\n",
       "      <td>47.0</td>\n",
       "      <td>@gmail.com</td>\n",
       "      <td>Philippines</td>\n",
       "      <td>Tuesday</td>\n",
       "      <td>ideal</td>\n",
       "      <td>0-1 year</td>\n",
       "      <td>0-1 year</td>\n",
       "      <td>0-1 year</td>\n",
       "      <td>0.044444</td>\n",
       "      <td>1.427778</td>\n",
       "      <td>0.111111</td>\n",
       "    </tr>\n",
       "    <tr>\n",
       "      <th>1</th>\n",
       "      <td>1</td>\n",
       "      <td>25.0</td>\n",
       "      <td>other</td>\n",
       "      <td>Philippines</td>\n",
       "      <td>Tuesday</td>\n",
       "      <td>ideal</td>\n",
       "      <td>0-1 year</td>\n",
       "      <td>0-1 year</td>\n",
       "      <td>0-1 year</td>\n",
       "      <td>0.261111</td>\n",
       "      <td>1.633333</td>\n",
       "      <td>0.066667</td>\n",
       "    </tr>\n",
       "    <tr>\n",
       "      <th>2</th>\n",
       "      <td>0</td>\n",
       "      <td>29.0</td>\n",
       "      <td>@yahoo.com</td>\n",
       "      <td>Thailand</td>\n",
       "      <td>Tuesday</td>\n",
       "      <td>ideal</td>\n",
       "      <td>0-1 year</td>\n",
       "      <td>0-1 year</td>\n",
       "      <td>0-1 year</td>\n",
       "      <td>0.111111</td>\n",
       "      <td>2.227778</td>\n",
       "      <td>0.527778</td>\n",
       "    </tr>\n",
       "    <tr>\n",
       "      <th>3</th>\n",
       "      <td>0</td>\n",
       "      <td>24.0</td>\n",
       "      <td>@yahoo.com</td>\n",
       "      <td>Singapore</td>\n",
       "      <td>Tuesday</td>\n",
       "      <td>ideal</td>\n",
       "      <td>0-1 year</td>\n",
       "      <td>0-1 year</td>\n",
       "      <td>0-1 year</td>\n",
       "      <td>0.005556</td>\n",
       "      <td>0.938889</td>\n",
       "      <td>0.100000</td>\n",
       "    </tr>\n",
       "    <tr>\n",
       "      <th>4</th>\n",
       "      <td>0</td>\n",
       "      <td>29.0</td>\n",
       "      <td>other</td>\n",
       "      <td>Thailand</td>\n",
       "      <td>Tuesday</td>\n",
       "      <td>ideal</td>\n",
       "      <td>0-1 year</td>\n",
       "      <td>0-1 year</td>\n",
       "      <td>0-1 year</td>\n",
       "      <td>0.000000</td>\n",
       "      <td>0.150000</td>\n",
       "      <td>0.000000</td>\n",
       "    </tr>\n",
       "    <tr>\n",
       "      <th>...</th>\n",
       "      <td>...</td>\n",
       "      <td>...</td>\n",
       "      <td>...</td>\n",
       "      <td>...</td>\n",
       "      <td>...</td>\n",
       "      <td>...</td>\n",
       "      <td>...</td>\n",
       "      <td>...</td>\n",
       "      <td>...</td>\n",
       "      <td>...</td>\n",
       "      <td>...</td>\n",
       "      <td>...</td>\n",
       "    </tr>\n",
       "    <tr>\n",
       "      <th>73231</th>\n",
       "      <td>1</td>\n",
       "      <td>29.0</td>\n",
       "      <td>@gmail.com</td>\n",
       "      <td>Indonesia</td>\n",
       "      <td>Monday</td>\n",
       "      <td>ideal</td>\n",
       "      <td>0-1 year</td>\n",
       "      <td>2-3 years</td>\n",
       "      <td>2-3 years</td>\n",
       "      <td>0.055556</td>\n",
       "      <td>0.000000</td>\n",
       "      <td>0.000000</td>\n",
       "    </tr>\n",
       "    <tr>\n",
       "      <th>73232</th>\n",
       "      <td>0</td>\n",
       "      <td>29.0</td>\n",
       "      <td>other</td>\n",
       "      <td>Thailand</td>\n",
       "      <td>Monday</td>\n",
       "      <td>ideal</td>\n",
       "      <td>0-1 year</td>\n",
       "      <td>0-1 year</td>\n",
       "      <td>0-1 year</td>\n",
       "      <td>0.016667</td>\n",
       "      <td>0.000000</td>\n",
       "      <td>0.000000</td>\n",
       "    </tr>\n",
       "    <tr>\n",
       "      <th>73233</th>\n",
       "      <td>0</td>\n",
       "      <td>30.0</td>\n",
       "      <td>@gmail.com</td>\n",
       "      <td>Malaysia</td>\n",
       "      <td>Monday</td>\n",
       "      <td>ideal</td>\n",
       "      <td>0-1 year</td>\n",
       "      <td>0-1 year</td>\n",
       "      <td>0-1 year</td>\n",
       "      <td>0.005556</td>\n",
       "      <td>0.000000</td>\n",
       "      <td>0.000000</td>\n",
       "    </tr>\n",
       "    <tr>\n",
       "      <th>73234</th>\n",
       "      <td>1</td>\n",
       "      <td>38.0</td>\n",
       "      <td>@gmail.com</td>\n",
       "      <td>Malaysia</td>\n",
       "      <td>Monday</td>\n",
       "      <td>ideal</td>\n",
       "      <td>0-1 year</td>\n",
       "      <td>0-1 year</td>\n",
       "      <td>more than 3 years</td>\n",
       "      <td>0.133333</td>\n",
       "      <td>0.000000</td>\n",
       "      <td>0.000000</td>\n",
       "    </tr>\n",
       "    <tr>\n",
       "      <th>73235</th>\n",
       "      <td>0</td>\n",
       "      <td>29.0</td>\n",
       "      <td>@gmail.com</td>\n",
       "      <td>Thailand</td>\n",
       "      <td>Monday</td>\n",
       "      <td>ideal</td>\n",
       "      <td>0-1 year</td>\n",
       "      <td>0-1 year</td>\n",
       "      <td>more than 3 years</td>\n",
       "      <td>0.105556</td>\n",
       "      <td>0.000000</td>\n",
       "      <td>0.000000</td>\n",
       "    </tr>\n",
       "  </tbody>\n",
       "</table>\n",
       "<p>73236 rows × 12 columns</p>\n",
       "</div>"
      ],
      "text/plain": [
       "       open_flag   age      domain      country      day character_length  \\\n",
       "0              0  47.0  @gmail.com  Philippines  Tuesday            ideal   \n",
       "1              1  25.0       other  Philippines  Tuesday            ideal   \n",
       "2              0  29.0  @yahoo.com     Thailand  Tuesday            ideal   \n",
       "3              0  24.0  @yahoo.com    Singapore  Tuesday            ideal   \n",
       "4              0  29.0       other     Thailand  Tuesday            ideal   \n",
       "...          ...   ...         ...          ...      ...              ...   \n",
       "73231          1  29.0  @gmail.com    Indonesia   Monday            ideal   \n",
       "73232          0  29.0       other     Thailand   Monday            ideal   \n",
       "73233          0  30.0  @gmail.com     Malaysia   Monday            ideal   \n",
       "73234          1  38.0  @gmail.com     Malaysia   Monday            ideal   \n",
       "73235          0  29.0  @gmail.com     Thailand   Monday            ideal   \n",
       "\n",
       "      last_time_open_email last_time_open_shopee last_time_checkout_shopee  \\\n",
       "0                 0-1 year              0-1 year                  0-1 year   \n",
       "1                 0-1 year              0-1 year                  0-1 year   \n",
       "2                 0-1 year              0-1 year                  0-1 year   \n",
       "3                 0-1 year              0-1 year                  0-1 year   \n",
       "4                 0-1 year              0-1 year                  0-1 year   \n",
       "...                    ...                   ...                       ...   \n",
       "73231             0-1 year             2-3 years                 2-3 years   \n",
       "73232             0-1 year              0-1 year                  0-1 year   \n",
       "73233             0-1 year              0-1 year                  0-1 year   \n",
       "73234             0-1 year              0-1 year         more than 3 years   \n",
       "73235             0-1 year              0-1 year         more than 3 years   \n",
       "\n",
       "       open_frequency  login_frequency  checkout_frequency  \n",
       "0            0.044444         1.427778            0.111111  \n",
       "1            0.261111         1.633333            0.066667  \n",
       "2            0.111111         2.227778            0.527778  \n",
       "3            0.005556         0.938889            0.100000  \n",
       "4            0.000000         0.150000            0.000000  \n",
       "...               ...              ...                 ...  \n",
       "73231        0.055556         0.000000            0.000000  \n",
       "73232        0.016667         0.000000            0.000000  \n",
       "73233        0.005556         0.000000            0.000000  \n",
       "73234        0.133333         0.000000            0.000000  \n",
       "73235        0.105556         0.000000            0.000000  \n",
       "\n",
       "[73236 rows x 12 columns]"
      ]
     },
     "execution_count": 43,
     "metadata": {},
     "output_type": "execute_result"
    }
   ],
   "source": [
    "EDA"
   ]
  },
  {
   "cell_type": "code",
   "execution_count": 39,
   "metadata": {},
   "outputs": [
    {
     "name": "stdout",
     "output_type": "stream",
     "text": [
      "<class 'pandas.core.frame.DataFrame'>\n",
      "RangeIndex: 73236 entries, 0 to 73235\n",
      "Data columns (total 33 columns):\n",
      " #   Column                       Non-Null Count  Dtype  \n",
      "---  ------                       --------------  -----  \n",
      " 0   country_code                 73236 non-null  int64  \n",
      " 1   grass_date                   73236 non-null  object \n",
      " 2   user_id                      73236 non-null  int64  \n",
      " 3   subject_line_length          73236 non-null  int64  \n",
      " 4   last_open_day                73236 non-null  float64\n",
      " 5   last_login_day               73236 non-null  float64\n",
      " 6   last_checkout_day            73236 non-null  float64\n",
      " 7   open_count_last_10_days      73236 non-null  int64  \n",
      " 8   open_count_last_30_days      73236 non-null  int64  \n",
      " 9   open_count_last_60_days      73236 non-null  int64  \n",
      " 10  login_count_last_10_days     73236 non-null  int64  \n",
      " 11  login_count_last_30_days     73236 non-null  int64  \n",
      " 12  login_count_last_60_days     73236 non-null  int64  \n",
      " 13  checkout_count_last_10_days  73236 non-null  int64  \n",
      " 14  checkout_count_last_30_days  73236 non-null  int64  \n",
      " 15  checkout_count_last_60_days  73236 non-null  int64  \n",
      " 16  open_flag                    73236 non-null  int64  \n",
      " 17  row_id                       73236 non-null  int64  \n",
      " 18  attr_1                       45163 non-null  float64\n",
      " 19  attr_2                       73236 non-null  float64\n",
      " 20  attr_3                       73236 non-null  float64\n",
      " 21  age                          44390 non-null  float64\n",
      " 22  domain                       73236 non-null  object \n",
      " 23  country                      73236 non-null  object \n",
      " 24  day                          73236 non-null  object \n",
      " 25  character_length             73236 non-null  object \n",
      " 26  last_time_open_email         73236 non-null  object \n",
      " 27  last_time_open_shopee        73236 non-null  object \n",
      " 28  last_time_checkout_shopee    73236 non-null  object \n",
      " 29  open_frequency               73236 non-null  float64\n",
      " 30  login_frequency              73236 non-null  float64\n",
      " 31  checkout_frequency           73236 non-null  float64\n",
      " 32  coba1                        73236 non-null  int64  \n",
      "dtypes: float64(10), int64(15), object(8)\n",
      "memory usage: 18.4+ MB\n"
     ]
    }
   ],
   "source": [
    "awal.info()"
   ]
  },
  {
   "cell_type": "code",
   "execution_count": null,
   "metadata": {},
   "outputs": [],
   "source": []
  }
 ],
 "metadata": {
  "kernelspec": {
   "display_name": "Python 3",
   "language": "python",
   "name": "python3"
  },
  "language_info": {
   "codemirror_mode": {
    "name": "ipython",
    "version": 3
   },
   "file_extension": ".py",
   "mimetype": "text/x-python",
   "name": "python",
   "nbconvert_exporter": "python",
   "pygments_lexer": "ipython3",
   "version": "3.8.3"
  }
 },
 "nbformat": 4,
 "nbformat_minor": 4
}

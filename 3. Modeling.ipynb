{
 "cells": [
  {
   "cell_type": "markdown",
   "metadata": {},
   "source": [
    "### Import Libraries"
   ]
  },
  {
   "cell_type": "code",
   "execution_count": 1,
   "metadata": {},
   "outputs": [],
   "source": [
    "# Pandas, Numpy, MatPlotlib, Seaborn, Coubter\n",
    "import numpy as np\n",
    "import pandas as pd\n",
    "import matplotlib.pyplot as plt\n",
    "import seaborn as sns\n",
    "from collections import Counter\n",
    "\n",
    "\n",
    "# Preprocessing\n",
    "from sklearn.impute import SimpleImputer\n",
    "from sklearn.preprocessing import OneHotEncoder, RobustScaler, KBinsDiscretizer, FunctionTransformer\n",
    "from sklearn.compose import ColumnTransformer\n",
    "import category_encoders as ce\n",
    "\n",
    "# Pipeline\n",
    "from imblearn.pipeline import Pipeline\n",
    "from imblearn.over_sampling import RandomOverSampler, SMOTE\n",
    "from sklearn.feature_selection import RFE, SelectKBest, chi2, SelectPercentile, f_classif\n",
    "\n",
    "# Train Test Split & CV\n",
    "from sklearn.model_selection import train_test_split, RepeatedStratifiedKFold, cross_val_score, StratifiedKFold, GridSearchCV\n",
    "\n",
    "# Model\n",
    "\n",
    "from sklearn.linear_model import LogisticRegression\n",
    "from sklearn.tree import DecisionTreeClassifier\n",
    "from sklearn.naive_bayes import GaussianNB\n",
    "\n",
    "# Metrics\n",
    "from sklearn.metrics import confusion_matrix, classification_report, f1_score, recall_score, precision_score, plot_confusion_matrix, plot_roc_curve, roc_curve, matthews_corrcoef,plot_precision_recall_curve,precision_recall_curve\n",
    "\n",
    "# Joblib\n",
    "import joblib \n",
    "\n",
    "# Others\n",
    "global str\n"
   ]
  },
  {
   "cell_type": "code",
   "execution_count": 2,
   "metadata": {},
   "outputs": [
    {
     "data": {
      "text/html": [
       "<div>\n",
       "<style scoped>\n",
       "    .dataframe tbody tr th:only-of-type {\n",
       "        vertical-align: middle;\n",
       "    }\n",
       "\n",
       "    .dataframe tbody tr th {\n",
       "        vertical-align: top;\n",
       "    }\n",
       "\n",
       "    .dataframe thead th {\n",
       "        text-align: right;\n",
       "    }\n",
       "</style>\n",
       "<table border=\"1\" class=\"dataframe\">\n",
       "  <thead>\n",
       "    <tr style=\"text-align: right;\">\n",
       "      <th></th>\n",
       "      <th>open_flag</th>\n",
       "      <th>age</th>\n",
       "      <th>domain</th>\n",
       "      <th>country</th>\n",
       "      <th>day</th>\n",
       "      <th>character_length</th>\n",
       "      <th>last_time_open_email</th>\n",
       "      <th>last_time_open_shopee</th>\n",
       "      <th>last_time_checkout_shopee</th>\n",
       "      <th>open_frequency</th>\n",
       "      <th>login_frequency</th>\n",
       "      <th>checkout_frequency</th>\n",
       "    </tr>\n",
       "  </thead>\n",
       "  <tbody>\n",
       "    <tr>\n",
       "      <th>0</th>\n",
       "      <td>0</td>\n",
       "      <td>47.0</td>\n",
       "      <td>@gmail.com</td>\n",
       "      <td>Philippines</td>\n",
       "      <td>Tuesday</td>\n",
       "      <td>ideal</td>\n",
       "      <td>0-1 year</td>\n",
       "      <td>0-1 year</td>\n",
       "      <td>0-1 year</td>\n",
       "      <td>0.044444</td>\n",
       "      <td>1.427778</td>\n",
       "      <td>0.111111</td>\n",
       "    </tr>\n",
       "    <tr>\n",
       "      <th>1</th>\n",
       "      <td>1</td>\n",
       "      <td>25.0</td>\n",
       "      <td>other</td>\n",
       "      <td>Philippines</td>\n",
       "      <td>Tuesday</td>\n",
       "      <td>ideal</td>\n",
       "      <td>0-1 year</td>\n",
       "      <td>0-1 year</td>\n",
       "      <td>0-1 year</td>\n",
       "      <td>0.261111</td>\n",
       "      <td>1.633333</td>\n",
       "      <td>0.066667</td>\n",
       "    </tr>\n",
       "    <tr>\n",
       "      <th>2</th>\n",
       "      <td>0</td>\n",
       "      <td>NaN</td>\n",
       "      <td>@yahoo.com</td>\n",
       "      <td>Thailand</td>\n",
       "      <td>Tuesday</td>\n",
       "      <td>ideal</td>\n",
       "      <td>0-1 year</td>\n",
       "      <td>0-1 year</td>\n",
       "      <td>0-1 year</td>\n",
       "      <td>0.111111</td>\n",
       "      <td>2.227778</td>\n",
       "      <td>0.527778</td>\n",
       "    </tr>\n",
       "    <tr>\n",
       "      <th>3</th>\n",
       "      <td>0</td>\n",
       "      <td>24.0</td>\n",
       "      <td>@yahoo.com</td>\n",
       "      <td>Singapore</td>\n",
       "      <td>Tuesday</td>\n",
       "      <td>ideal</td>\n",
       "      <td>0-1 year</td>\n",
       "      <td>0-1 year</td>\n",
       "      <td>0-1 year</td>\n",
       "      <td>0.005556</td>\n",
       "      <td>0.938889</td>\n",
       "      <td>0.100000</td>\n",
       "    </tr>\n",
       "    <tr>\n",
       "      <th>4</th>\n",
       "      <td>0</td>\n",
       "      <td>NaN</td>\n",
       "      <td>other</td>\n",
       "      <td>Thailand</td>\n",
       "      <td>Tuesday</td>\n",
       "      <td>ideal</td>\n",
       "      <td>0-1 year</td>\n",
       "      <td>0-1 year</td>\n",
       "      <td>0-1 year</td>\n",
       "      <td>0.000000</td>\n",
       "      <td>0.150000</td>\n",
       "      <td>0.000000</td>\n",
       "    </tr>\n",
       "  </tbody>\n",
       "</table>\n",
       "</div>"
      ],
      "text/plain": [
       "   open_flag   age      domain      country      day character_length  \\\n",
       "0          0  47.0  @gmail.com  Philippines  Tuesday            ideal   \n",
       "1          1  25.0       other  Philippines  Tuesday            ideal   \n",
       "2          0   NaN  @yahoo.com     Thailand  Tuesday            ideal   \n",
       "3          0  24.0  @yahoo.com    Singapore  Tuesday            ideal   \n",
       "4          0   NaN       other     Thailand  Tuesday            ideal   \n",
       "\n",
       "  last_time_open_email last_time_open_shopee last_time_checkout_shopee  \\\n",
       "0             0-1 year              0-1 year                  0-1 year   \n",
       "1             0-1 year              0-1 year                  0-1 year   \n",
       "2             0-1 year              0-1 year                  0-1 year   \n",
       "3             0-1 year              0-1 year                  0-1 year   \n",
       "4             0-1 year              0-1 year                  0-1 year   \n",
       "\n",
       "   open_frequency  login_frequency  checkout_frequency  \n",
       "0        0.044444         1.427778            0.111111  \n",
       "1        0.261111         1.633333            0.066667  \n",
       "2        0.111111         2.227778            0.527778  \n",
       "3        0.005556         0.938889            0.100000  \n",
       "4        0.000000         0.150000            0.000000  "
      ]
     },
     "execution_count": 2,
     "metadata": {},
     "output_type": "execute_result"
    }
   ],
   "source": [
    "data = pd.read_csv('./static/modeling.csv')\n",
    "data.drop('Unnamed: 0',axis=1,inplace=True)\n",
    "data.head()"
   ]
  },
  {
   "cell_type": "code",
   "execution_count": 3,
   "metadata": {},
   "outputs": [
    {
     "data": {
      "image/png": "[encoded data removed]",
      "text/plain": [
       "<Figure size 432x288 with 2 Axes>"
      ]
     },
     "metadata": {
      "needs_background": "light"
     },
     "output_type": "display_data"
    }
   ],
   "source": [
    "sns.heatmap(data.corr(),annot=True,cmap='coolwarm')\n",
    "plt.show()"
   ]
  },
  {
   "cell_type": "markdown",
   "metadata": {},
   "source": [
    "## Data Splitting"
   ]
  },
  {
   "cell_type": "code",
   "execution_count": 4,
   "metadata": {},
   "outputs": [],
   "source": [
    "X = data.drop('open_flag', axis=1)\n",
    "y = data['open_flag']\n",
    "\n",
    "X_train_val, X_test, y_train_val, y_test = train_test_split(X, y, test_size=.2, stratify=y,random_state=2021)"
   ]
  },
  {
   "cell_type": "markdown",
   "metadata": {},
   "source": [
    "### Preprocess\n",
    "1. Simple Imputer --> Age (median)\n",
    "1. One Hot --> Character Length,hari,country,domain\n",
    "1. Ordinal --> last_time_open_email, last_time_open_shopee, last_time_checkout_shopee\n",
    "1. Robust --> open_frequency, login_frequency, checkout_frequency"
   ]
  },
  {
   "cell_type": "code",
   "execution_count": 5,
   "metadata": {},
   "outputs": [],
   "source": [
    "ordinal_mapping = [\n",
    "    {'col' : 'last_time_open_email',\n",
    "    'mapping':{None:0, '0-1 year':1,'1-2 years':2,'2-3 years':3,'more than 3 years':4}},\n",
    "    {'col' : 'last_time_open_shopee',\n",
    "    'mapping':{None:0, '0-1 year':1,'1-2 years':2,'2-3 years':3,'more than 3 years':4}},\n",
    "    {'col' : 'last_time_checkout_shopee',\n",
    "    'mapping':{None:0, '0-1 year':1,'1-2 years':2,'2-3 years':3,'more than 3 years':4}}\n",
    "]\n",
    "\n",
    "ordinal_encoder = ce.OrdinalEncoder(cols=['last_time_open_email','last_time_open_shopee','last_time_checkout_shopee'],mapping=ordinal_mapping)"
   ]
  },
  {
   "cell_type": "code",
   "execution_count": 6,
   "metadata": {},
   "outputs": [],
   "source": [
    "transformer = ColumnTransformer([\n",
    "    ('age_impute',SimpleImputer(strategy='median'),['age']),\n",
    "    ('onehotpipe',OneHotEncoder(drop='first'),['character_length','day','domain','country']),\n",
    "    ('ordinarypipe',ordinal_encoder,['last_time_open_email','last_time_open_shopee','last_time_checkout_shopee']),\n",
    "    ('robust', RobustScaler(), ['open_frequency','login_frequency','checkout_frequency'])\n",
    "],remainder='passthrough')"
   ]
  },
  {
   "cell_type": "markdown",
   "metadata": {},
   "source": [
    "### Model Used :\n",
    "1. Decision Tree Classifier\n",
    "1. Logistic Regression\n",
    "1. Naive Bayes"
   ]
  },
  {
   "cell_type": "code",
   "execution_count": 7,
   "metadata": {},
   "outputs": [],
   "source": [
    "dtc = DecisionTreeClassifier(random_state=2021)\n",
    "logreg = LogisticRegression(random_state=2021)\n",
    "nb = GaussianNB()\n",
    "smote=SMOTE(random_state=2021)"
   ]
  },
  {
   "cell_type": "markdown",
   "metadata": {},
   "source": [
    "## Pipeline Benchmark\n",
    "\n"
   ]
  },
  {
   "cell_type": "code",
   "execution_count": 8,
   "metadata": {},
   "outputs": [],
   "source": [
    "#1. Decision Tree\n",
    "pipeline_dtc = Pipeline([\n",
    "    ('transformer',transformer),\n",
    "    ('rfe', RFE(dtc)),\n",
    "    ('resampling', smote),\n",
    "    ('clf', dtc)\n",
    "])\n",
    "\n",
    "#2. Logistic Regression\n",
    "pipeline_logreg = Pipeline([\n",
    "    ('transformer',transformer),\n",
    "    ('rfe', RFE(logreg)),\n",
    "    ('resampling', smote),\n",
    "    ('clf', logreg)\n",
    "])\n",
    "\n",
    "\n",
    "#3. Gauss Naive Bayes\n",
    "pipeline_nb = Pipeline([\n",
    "    ('transformer',transformer),\n",
    "    ('selection',SelectPercentile(f_classif)),\n",
    "    ('resampling',smote),\n",
    "    ('clf',nb)\n",
    "])"
   ]
  },
  {
   "cell_type": "markdown",
   "metadata": {},
   "source": [
    "## Metrics Used --> Recall. Because :\n",
    "<img src='./interface/metrics used.png'>"
   ]
  },
  {
   "cell_type": "code",
   "execution_count": 9,
   "metadata": {},
   "outputs": [
    {
     "name": "stderr",
     "output_type": "stream",
     "text": [
      "[Parallel(n_jobs=-1)]: Using backend LokyBackend with 12 concurrent workers.\n",
      "[Parallel(n_jobs=-1)]: Done  26 tasks      | elapsed:   25.5s\n",
      "[Parallel(n_jobs=-1)]: Done  50 out of  50 | elapsed:   37.2s finished\n",
      "[Parallel(n_jobs=-1)]: Using backend LokyBackend with 12 concurrent workers.\n",
      "[Parallel(n_jobs=-1)]: Done  26 tasks      | elapsed:   41.7s\n",
      "[Parallel(n_jobs=-1)]: Done  50 out of  50 | elapsed:  1.0min finished\n",
      "[Parallel(n_jobs=-1)]: Using backend LokyBackend with 12 concurrent workers.\n",
      "[Parallel(n_jobs=-1)]: Done  26 tasks      | elapsed:    2.2s\n",
      "[Parallel(n_jobs=-1)]: Done  50 out of  50 | elapsed:    3.5s finished\n"
     ]
    }
   ],
   "source": [
    "rskf = RepeatedStratifiedKFold(n_splits=5, random_state=2021)\n",
    "\n",
    "dtc_score = cross_val_score(pipeline_dtc, X_train_val, y_train_val, scoring='recall', cv=rskf, n_jobs=-1, verbose=1)\n",
    "logreg_score = cross_val_score(pipeline_logreg, X_train_val, y_train_val, scoring='recall', cv=rskf, n_jobs=-1, verbose=1)\n",
    "nb_score = cross_val_score(pipeline_nb, X_train_val, y_train_val, scoring='recall', cv=rskf, n_jobs=-1, verbose=1)"
   ]
  },
  {
   "cell_type": "code",
   "execution_count": 10,
   "metadata": {},
   "outputs": [
    {
     "name": "stdout",
     "output_type": "stream",
     "text": [
      "DTC Val Score: [0.48791209 0.46648352 0.48325096 0.47472527 0.46208791 0.46978022\n",
      " 0.43461538 0.45249863 0.4532967  0.47802198 0.45604396 0.46978022\n",
      " 0.46512905 0.46428571 0.46813187 0.47527473 0.44505495 0.47611203\n",
      " 0.46648352 0.47637363 0.43956044 0.47967033 0.45249863 0.47802198\n",
      " 0.48131868 0.47802198 0.45769231 0.44975288 0.42527473 0.46813187\n",
      " 0.46923077 0.47527473 0.45414607 0.48351648 0.46813187 0.47582418\n",
      " 0.47252747 0.45689182 0.4478022  0.47692308 0.49010989 0.45\n",
      " 0.48325096 0.47142857 0.45549451 0.45384615 0.45714286 0.47830862\n",
      " 0.46263736 0.47197802]\n",
      "Logreg Val Score: [0.72252747 0.72032967 0.71773751 0.72527473 0.73681319 0.72142857\n",
      " 0.71153846 0.73695772 0.71648352 0.74340659 0.74120879 0.71813187\n",
      " 0.72267985 0.71373626 0.72197802 0.72417582 0.72197802 0.71169687\n",
      " 0.72967033 0.73186813 0.70824176 0.72362637 0.73860516 0.71648352\n",
      " 0.73296703 0.73351648 0.73351648 0.71499176 0.71428571 0.72362637\n",
      " 0.71813187 0.74450549 0.71828666 0.72032967 0.73351648 0.72912088\n",
      " 0.72032967 0.73585942 0.70769231 0.73186813 0.73791209 0.71098901\n",
      " 0.72048325 0.73076923 0.71758242 0.72142857 0.72032967 0.7424492\n",
      " 0.71813187 0.71923077]\n",
      "Naive Bayes Val Score: [0.64340659 0.61868132 0.62438221 0.62362637 0.64120879 0.61978022\n",
      " 0.61483516 0.63646348 0.63571429 0.64175824 0.64285714 0.61978022\n",
      " 0.63152114 0.63076923 0.63021978 0.63351648 0.62197802 0.61504668\n",
      " 0.62747253 0.65494505 0.61593407 0.62472527 0.64195497 0.63846154\n",
      " 0.62912088 0.64010989 0.62692308 0.6265788  0.62692308 0.63571429\n",
      " 0.62362637 0.63571429 0.62493136 0.62087912 0.6456044  0.63296703\n",
      " 0.62582418 0.63975837 0.61593407 0.63571429 0.63241758 0.60989011\n",
      " 0.63701263 0.63021978 0.64065934 0.62637363 0.61703297 0.64305327\n",
      " 0.61923077 0.6467033 ]\n"
     ]
    }
   ],
   "source": [
    "print('DTC Val Score:', dtc_score)\n",
    "print('Logreg Val Score:', logreg_score)\n",
    "print('Naive Bayes Val Score:', nb_score)"
   ]
  },
  {
   "cell_type": "code",
   "execution_count": 11,
   "metadata": {},
   "outputs": [
    {
     "name": "stdout",
     "output_type": "stream",
     "text": [
      "DTC Val Score: 0.46579503472913686\n",
      "Logreg Val Score: 0.7245685742044887\n",
      "Naive Bayes Val Score: 0.6303591131548297\n"
     ]
    }
   ],
   "source": [
    "print('DTC Val Score:', dtc_score.mean())\n",
    "print('Logreg Val Score:', logreg_score.mean())\n",
    "print('Naive Bayes Val Score:', nb_score.mean())"
   ]
  },
  {
   "cell_type": "markdown",
   "metadata": {},
   "source": [
    "## Try to Tuning Logistic Regression & Gaussian Naive Bayes"
   ]
  },
  {
   "cell_type": "markdown",
   "metadata": {},
   "source": [
    "### 1. Tuning Logistic Regression"
   ]
  },
  {
   "cell_type": "code",
   "execution_count": 12,
   "metadata": {},
   "outputs": [
    {
     "data": {
      "text/plain": [
       "{'memory': None,\n",
       " 'steps': [('transformer',\n",
       "   ColumnTransformer(remainder='passthrough',\n",
       "                     transformers=[('age_impute', SimpleImputer(strategy='median'),\n",
       "                                    ['age']),\n",
       "                                   ('onehotpipe', OneHotEncoder(drop='first'),\n",
       "                                    ['character_length', 'day', 'domain',\n",
       "                                     'country']),\n",
       "                                   ('ordinarypipe',\n",
       "                                    OrdinalEncoder(cols=['last_time_open_email',\n",
       "                                                         'last_time_open_shopee',\n",
       "                                                         'last_time_checkout_shopee'],\n",
       "                                                   mapping=[{'col': 'last_time_open_emai...\n",
       "                                                             'mapping': {None: 0,\n",
       "                                                                         '0-1 year': 1,\n",
       "                                                                         '1-2 years': 2,\n",
       "                                                                         '2-3 years': 3,\n",
       "                                                                         'more than 3 years': 4}},\n",
       "                                                            {'col': 'last_time_checkout_shopee',\n",
       "                                                             'mapping': {None: 0,\n",
       "                                                                         '0-1 year': 1,\n",
       "                                                                         '1-2 years': 2,\n",
       "                                                                         '2-3 years': 3,\n",
       "                                                                         'more than 3 years': 4}}]),\n",
       "                                    ['last_time_open_email',\n",
       "                                     'last_time_open_shopee',\n",
       "                                     'last_time_checkout_shopee']),\n",
       "                                   ('robust', RobustScaler(),\n",
       "                                    ['open_frequency', 'login_frequency',\n",
       "                                     'checkout_frequency'])])),\n",
       "  ('rfe', RFE(estimator=LogisticRegression(random_state=2021))),\n",
       "  ('resampling', SMOTE(random_state=2021)),\n",
       "  ('clf', LogisticRegression(random_state=2021))],\n",
       " 'verbose': False,\n",
       " 'transformer': ColumnTransformer(remainder='passthrough',\n",
       "                   transformers=[('age_impute', SimpleImputer(strategy='median'),\n",
       "                                  ['age']),\n",
       "                                 ('onehotpipe', OneHotEncoder(drop='first'),\n",
       "                                  ['character_length', 'day', 'domain',\n",
       "                                   'country']),\n",
       "                                 ('ordinarypipe',\n",
       "                                  OrdinalEncoder(cols=['last_time_open_email',\n",
       "                                                       'last_time_open_shopee',\n",
       "                                                       'last_time_checkout_shopee'],\n",
       "                                                 mapping=[{'col': 'last_time_open_emai...\n",
       "                                                           'mapping': {None: 0,\n",
       "                                                                       '0-1 year': 1,\n",
       "                                                                       '1-2 years': 2,\n",
       "                                                                       '2-3 years': 3,\n",
       "                                                                       'more than 3 years': 4}},\n",
       "                                                          {'col': 'last_time_checkout_shopee',\n",
       "                                                           'mapping': {None: 0,\n",
       "                                                                       '0-1 year': 1,\n",
       "                                                                       '1-2 years': 2,\n",
       "                                                                       '2-3 years': 3,\n",
       "                                                                       'more than 3 years': 4}}]),\n",
       "                                  ['last_time_open_email',\n",
       "                                   'last_time_open_shopee',\n",
       "                                   'last_time_checkout_shopee']),\n",
       "                                 ('robust', RobustScaler(),\n",
       "                                  ['open_frequency', 'login_frequency',\n",
       "                                   'checkout_frequency'])]),\n",
       " 'rfe': RFE(estimator=LogisticRegression(random_state=2021)),\n",
       " 'resampling': SMOTE(random_state=2021),\n",
       " 'clf': LogisticRegression(random_state=2021),\n",
       " 'transformer__n_jobs': None,\n",
       " 'transformer__remainder': 'passthrough',\n",
       " 'transformer__sparse_threshold': 0.3,\n",
       " 'transformer__transformer_weights': None,\n",
       " 'transformer__transformers': [('age_impute',\n",
       "   SimpleImputer(strategy='median'),\n",
       "   ['age']),\n",
       "  ('onehotpipe',\n",
       "   OneHotEncoder(drop='first'),\n",
       "   ['character_length', 'day', 'domain', 'country']),\n",
       "  ('ordinarypipe',\n",
       "   OrdinalEncoder(cols=['last_time_open_email', 'last_time_open_shopee',\n",
       "                        'last_time_checkout_shopee'],\n",
       "                  mapping=[{'col': 'last_time_open_email',\n",
       "                            'mapping': {None: 0, '0-1 year': 1, '1-2 years': 2,\n",
       "                                        '2-3 years': 3, 'more than 3 years': 4}},\n",
       "                           {'col': 'last_time_open_shopee',\n",
       "                            'mapping': {None: 0, '0-1 year': 1, '1-2 years': 2,\n",
       "                                        '2-3 years': 3, 'more than 3 years': 4}},\n",
       "                           {'col': 'last_time_checkout_shopee',\n",
       "                            'mapping': {None: 0, '0-1 year': 1, '1-2 years': 2,\n",
       "                                        '2-3 years': 3, 'more than 3 years': 4}}]),\n",
       "   ['last_time_open_email',\n",
       "    'last_time_open_shopee',\n",
       "    'last_time_checkout_shopee']),\n",
       "  ('robust',\n",
       "   RobustScaler(),\n",
       "   ['open_frequency', 'login_frequency', 'checkout_frequency'])],\n",
       " 'transformer__verbose': False,\n",
       " 'transformer__age_impute': SimpleImputer(strategy='median'),\n",
       " 'transformer__onehotpipe': OneHotEncoder(drop='first'),\n",
       " 'transformer__ordinarypipe': OrdinalEncoder(cols=['last_time_open_email', 'last_time_open_shopee',\n",
       "                      'last_time_checkout_shopee'],\n",
       "                mapping=[{'col': 'last_time_open_email',\n",
       "                          'mapping': {None: 0, '0-1 year': 1, '1-2 years': 2,\n",
       "                                      '2-3 years': 3, 'more than 3 years': 4}},\n",
       "                         {'col': 'last_time_open_shopee',\n",
       "                          'mapping': {None: 0, '0-1 year': 1, '1-2 years': 2,\n",
       "                                      '2-3 years': 3, 'more than 3 years': 4}},\n",
       "                         {'col': 'last_time_checkout_shopee',\n",
       "                          'mapping': {None: 0, '0-1 year': 1, '1-2 years': 2,\n",
       "                                      '2-3 years': 3, 'more than 3 years': 4}}]),\n",
       " 'transformer__robust': RobustScaler(),\n",
       " 'transformer__age_impute__add_indicator': False,\n",
       " 'transformer__age_impute__copy': True,\n",
       " 'transformer__age_impute__fill_value': None,\n",
       " 'transformer__age_impute__missing_values': nan,\n",
       " 'transformer__age_impute__strategy': 'median',\n",
       " 'transformer__age_impute__verbose': 0,\n",
       " 'transformer__onehotpipe__categories': 'auto',\n",
       " 'transformer__onehotpipe__drop': 'first',\n",
       " 'transformer__onehotpipe__dtype': numpy.float64,\n",
       " 'transformer__onehotpipe__handle_unknown': 'error',\n",
       " 'transformer__onehotpipe__sparse': True,\n",
       " 'transformer__ordinarypipe__cols': ['last_time_open_email',\n",
       "  'last_time_open_shopee',\n",
       "  'last_time_checkout_shopee'],\n",
       " 'transformer__ordinarypipe__drop_invariant': False,\n",
       " 'transformer__ordinarypipe__handle_missing': 'value',\n",
       " 'transformer__ordinarypipe__handle_unknown': 'value',\n",
       " 'transformer__ordinarypipe__mapping': [{'col': 'last_time_open_email',\n",
       "   'mapping': {None: 0,\n",
       "    '0-1 year': 1,\n",
       "    '1-2 years': 2,\n",
       "    '2-3 years': 3,\n",
       "    'more than 3 years': 4}},\n",
       "  {'col': 'last_time_open_shopee',\n",
       "   'mapping': {None: 0,\n",
       "    '0-1 year': 1,\n",
       "    '1-2 years': 2,\n",
       "    '2-3 years': 3,\n",
       "    'more than 3 years': 4}},\n",
       "  {'col': 'last_time_checkout_shopee',\n",
       "   'mapping': {None: 0,\n",
       "    '0-1 year': 1,\n",
       "    '1-2 years': 2,\n",
       "    '2-3 years': 3,\n",
       "    'more than 3 years': 4}}],\n",
       " 'transformer__ordinarypipe__return_df': True,\n",
       " 'transformer__ordinarypipe__verbose': 0,\n",
       " 'transformer__robust__copy': True,\n",
       " 'transformer__robust__quantile_range': (25.0, 75.0),\n",
       " 'transformer__robust__with_centering': True,\n",
       " 'transformer__robust__with_scaling': True,\n",
       " 'rfe__estimator__C': 1.0,\n",
       " 'rfe__estimator__class_weight': None,\n",
       " 'rfe__estimator__dual': False,\n",
       " 'rfe__estimator__fit_intercept': True,\n",
       " 'rfe__estimator__intercept_scaling': 1,\n",
       " 'rfe__estimator__l1_ratio': None,\n",
       " 'rfe__estimator__max_iter': 100,\n",
       " 'rfe__estimator__multi_class': 'auto',\n",
       " 'rfe__estimator__n_jobs': None,\n",
       " 'rfe__estimator__penalty': 'l2',\n",
       " 'rfe__estimator__random_state': 2021,\n",
       " 'rfe__estimator__solver': 'lbfgs',\n",
       " 'rfe__estimator__tol': 0.0001,\n",
       " 'rfe__estimator__verbose': 0,\n",
       " 'rfe__estimator__warm_start': False,\n",
       " 'rfe__estimator': LogisticRegression(random_state=2021),\n",
       " 'rfe__n_features_to_select': None,\n",
       " 'rfe__step': 1,\n",
       " 'rfe__verbose': 0,\n",
       " 'resampling__k_neighbors': 5,\n",
       " 'resampling__n_jobs': None,\n",
       " 'resampling__random_state': 2021,\n",
       " 'resampling__sampling_strategy': 'auto',\n",
       " 'clf__C': 1.0,\n",
       " 'clf__class_weight': None,\n",
       " 'clf__dual': False,\n",
       " 'clf__fit_intercept': True,\n",
       " 'clf__intercept_scaling': 1,\n",
       " 'clf__l1_ratio': None,\n",
       " 'clf__max_iter': 100,\n",
       " 'clf__multi_class': 'auto',\n",
       " 'clf__n_jobs': None,\n",
       " 'clf__penalty': 'l2',\n",
       " 'clf__random_state': 2021,\n",
       " 'clf__solver': 'lbfgs',\n",
       " 'clf__tol': 0.0001,\n",
       " 'clf__verbose': 0,\n",
       " 'clf__warm_start': False}"
      ]
     },
     "execution_count": 12,
     "metadata": {},
     "output_type": "execute_result"
    }
   ],
   "source": [
    "pipeline_logreg.get_params()"
   ]
  },
  {
   "cell_type": "code",
   "execution_count": 13,
   "metadata": {},
   "outputs": [
    {
     "name": "stdout",
     "output_type": "stream",
     "text": [
      "Fitting 5 folds for each of 36 candidates, totalling 180 fits\n"
     ]
    },
    {
     "name": "stderr",
     "output_type": "stream",
     "text": [
      "[Parallel(n_jobs=-1)]: Using backend LokyBackend with 12 concurrent workers.\n",
      "[Parallel(n_jobs=-1)]: Done  26 tasks      | elapsed:   37.6s\n",
      "[Parallel(n_jobs=-1)]: Done 180 out of 180 | elapsed:  3.4min finished\n",
      "C:\\Users\\johan\\anaconda3\\lib\\site-packages\\sklearn\\linear_model\\_logistic.py:762: ConvergenceWarning: lbfgs failed to converge (status=1):\n",
      "STOP: TOTAL NO. of ITERATIONS REACHED LIMIT.\n",
      "\n",
      "Increase the number of iterations (max_iter) or scale the data as shown in:\n",
      "    https://scikit-learn.org/stable/modules/preprocessing.html\n",
      "Please also refer to the documentation for alternative solver options:\n",
      "    https://scikit-learn.org/stable/modules/linear_model.html#logistic-regression\n",
      "  n_iter_i = _check_optimize_result(\n",
      "C:\\Users\\johan\\anaconda3\\lib\\site-packages\\sklearn\\linear_model\\_logistic.py:762: ConvergenceWarning: lbfgs failed to converge (status=1):\n",
      "STOP: TOTAL NO. of ITERATIONS REACHED LIMIT.\n",
      "\n",
      "Increase the number of iterations (max_iter) or scale the data as shown in:\n",
      "    https://scikit-learn.org/stable/modules/preprocessing.html\n",
      "Please also refer to the documentation for alternative solver options:\n",
      "    https://scikit-learn.org/stable/modules/linear_model.html#logistic-regression\n",
      "  n_iter_i = _check_optimize_result(\n",
      "C:\\Users\\johan\\anaconda3\\lib\\site-packages\\sklearn\\linear_model\\_logistic.py:762: ConvergenceWarning: lbfgs failed to converge (status=1):\n",
      "STOP: TOTAL NO. of ITERATIONS REACHED LIMIT.\n",
      "\n",
      "Increase the number of iterations (max_iter) or scale the data as shown in:\n",
      "    https://scikit-learn.org/stable/modules/preprocessing.html\n",
      "Please also refer to the documentation for alternative solver options:\n",
      "    https://scikit-learn.org/stable/modules/linear_model.html#logistic-regression\n",
      "  n_iter_i = _check_optimize_result(\n"
     ]
    },
    {
     "data": {
      "text/plain": [
       "GridSearchCV(cv=StratifiedKFold(n_splits=5, random_state=None, shuffle=False),\n",
       "             estimator=Pipeline(steps=[('transformer',\n",
       "                                        ColumnTransformer(remainder='passthrough',\n",
       "                                                          transformers=[('age_impute',\n",
       "                                                                         SimpleImputer(strategy='median'),\n",
       "                                                                         ['age']),\n",
       "                                                                        ('onehotpipe',\n",
       "                                                                         OneHotEncoder(drop='first'),\n",
       "                                                                         ['character_length',\n",
       "                                                                          'day',\n",
       "                                                                          'domain',\n",
       "                                                                          'country']),\n",
       "                                                                        ('ordinarypipe',\n",
       "                                                                         OrdinalEncoder(c...\n",
       "                                                                          'login_frequency',\n",
       "                                                                          'checkout_frequency'])])),\n",
       "                                       ('rfe',\n",
       "                                        RFE(estimator=LogisticRegression(random_state=2021))),\n",
       "                                       ('resampling', SMOTE(random_state=2021)),\n",
       "                                       ('clf',\n",
       "                                        LogisticRegression(random_state=2021))]),\n",
       "             n_jobs=-1,\n",
       "             param_grid={'clf__max_iter': [100, 200, 300],\n",
       "                         'clf__solver': ['lbfgs', 'liblinear', 'newton-cg'],\n",
       "                         'rfe__n_features_to_select': [8, 12, 16, 20]},\n",
       "             scoring='recall', verbose=1)"
      ]
     },
     "execution_count": 13,
     "metadata": {},
     "output_type": "execute_result"
    }
   ],
   "source": [
    "hyperparam_space_logreg = {\n",
    "    'clf__max_iter':[100, 200, 300],\n",
    "    'rfe__n_features_to_select':[8,12,16,20],\n",
    "    'clf__solver': ['lbfgs', 'liblinear', 'newton-cg']\n",
    "}\n",
    "\n",
    "skf = StratifiedKFold(n_splits=5)\n",
    "\n",
    "gridsearch_logreg = GridSearchCV(pipeline_logreg, hyperparam_space_logreg, scoring='recall', n_jobs=-1, cv=skf,verbose=1)\n",
    "gridsearch_logreg.fit(X_train_val, y_train_val)"
   ]
  },
  {
   "cell_type": "code",
   "execution_count": 14,
   "metadata": {},
   "outputs": [
    {
     "data": {
      "text/plain": [
       "{'clf__max_iter': 100, 'clf__solver': 'lbfgs', 'rfe__n_features_to_select': 16}"
      ]
     },
     "execution_count": 14,
     "metadata": {},
     "output_type": "execute_result"
    }
   ],
   "source": [
    "gridsearch_logreg.best_params_"
   ]
  },
  {
   "cell_type": "code",
   "execution_count": 15,
   "metadata": {},
   "outputs": [
    {
     "data": {
      "text/plain": [
       "Pipeline(steps=[('transformer',\n",
       "                 ColumnTransformer(remainder='passthrough',\n",
       "                                   transformers=[('age_impute',\n",
       "                                                  SimpleImputer(strategy='median'),\n",
       "                                                  ['age']),\n",
       "                                                 ('onehotpipe',\n",
       "                                                  OneHotEncoder(drop='first'),\n",
       "                                                  ['character_length', 'day',\n",
       "                                                   'domain', 'country']),\n",
       "                                                 ('ordinarypipe',\n",
       "                                                  OrdinalEncoder(cols=['last_time_open_email',\n",
       "                                                                       'last_time_open_shopee',\n",
       "                                                                       'last_time_checkout_shopee'],\n",
       "                                                                 mappi...\n",
       "                                                                                       'more than 3 years': 4}}]),\n",
       "                                                  ['last_time_open_email',\n",
       "                                                   'last_time_open_shopee',\n",
       "                                                   'last_time_checkout_shopee']),\n",
       "                                                 ('robust', RobustScaler(),\n",
       "                                                  ['open_frequency',\n",
       "                                                   'login_frequency',\n",
       "                                                   'checkout_frequency'])])),\n",
       "                ('rfe',\n",
       "                 RFE(estimator=LogisticRegression(random_state=2021),\n",
       "                     n_features_to_select=16)),\n",
       "                ('resampling', SMOTE(random_state=2021)),\n",
       "                ('clf', LogisticRegression(random_state=2021))])"
      ]
     },
     "execution_count": 15,
     "metadata": {},
     "output_type": "execute_result"
    }
   ],
   "source": [
    "gridsearch_logreg.best_estimator_"
   ]
  },
  {
   "cell_type": "markdown",
   "metadata": {},
   "source": [
    "### 1A. Logistic Regression Benchmark"
   ]
  },
  {
   "cell_type": "code",
   "execution_count": 16,
   "metadata": {},
   "outputs": [
    {
     "name": "stderr",
     "output_type": "stream",
     "text": [
      "C:\\Users\\johan\\anaconda3\\lib\\site-packages\\sklearn\\linear_model\\_logistic.py:762: ConvergenceWarning: lbfgs failed to converge (status=1):\n",
      "STOP: TOTAL NO. of ITERATIONS REACHED LIMIT.\n",
      "\n",
      "Increase the number of iterations (max_iter) or scale the data as shown in:\n",
      "    https://scikit-learn.org/stable/modules/preprocessing.html\n",
      "Please also refer to the documentation for alternative solver options:\n",
      "    https://scikit-learn.org/stable/modules/linear_model.html#logistic-regression\n",
      "  n_iter_i = _check_optimize_result(\n",
      "C:\\Users\\johan\\anaconda3\\lib\\site-packages\\sklearn\\linear_model\\_logistic.py:762: ConvergenceWarning: lbfgs failed to converge (status=1):\n",
      "STOP: TOTAL NO. of ITERATIONS REACHED LIMIT.\n",
      "\n",
      "Increase the number of iterations (max_iter) or scale the data as shown in:\n",
      "    https://scikit-learn.org/stable/modules/preprocessing.html\n",
      "Please also refer to the documentation for alternative solver options:\n",
      "    https://scikit-learn.org/stable/modules/linear_model.html#logistic-regression\n",
      "  n_iter_i = _check_optimize_result(\n",
      "C:\\Users\\johan\\anaconda3\\lib\\site-packages\\sklearn\\linear_model\\_logistic.py:762: ConvergenceWarning: lbfgs failed to converge (status=1):\n",
      "STOP: TOTAL NO. of ITERATIONS REACHED LIMIT.\n",
      "\n",
      "Increase the number of iterations (max_iter) or scale the data as shown in:\n",
      "    https://scikit-learn.org/stable/modules/preprocessing.html\n",
      "Please also refer to the documentation for alternative solver options:\n",
      "    https://scikit-learn.org/stable/modules/linear_model.html#logistic-regression\n",
      "  n_iter_i = _check_optimize_result(\n"
     ]
    },
    {
     "name": "stdout",
     "output_type": "stream",
     "text": [
      "              precision    recall  f1-score   support\n",
      "\n",
      "           0       0.94      0.84      0.89     12372\n",
      "           1       0.46      0.73      0.56      2276\n",
      "\n",
      "    accuracy                           0.82     14648\n",
      "   macro avg       0.70      0.79      0.73     14648\n",
      "weighted avg       0.87      0.82      0.84     14648\n",
      "\n"
     ]
    }
   ],
   "source": [
    "logreg = pipeline_logreg.fit(X_train_val, y_train_val)\n",
    "y_pred_logreg = logreg.predict(X_test) \n",
    "print(classification_report(y_test, y_pred_logreg))"
   ]
  },
  {
   "cell_type": "code",
   "execution_count": 17,
   "metadata": {},
   "outputs": [
    {
     "data": {
      "image/png": "[encoded data removed]",
      "text/plain": [
       "<Figure size 432x288 with 2 Axes>"
      ]
     },
     "metadata": {
      "needs_background": "light"
     },
     "output_type": "display_data"
    }
   ],
   "source": [
    "plot_confusion_matrix(logreg, X_test, y_test)\n",
    "plt.show()"
   ]
  },
  {
   "cell_type": "markdown",
   "metadata": {},
   "source": [
    "### 1B. Logistic Regression Tuned"
   ]
  },
  {
   "cell_type": "code",
   "execution_count": 18,
   "metadata": {},
   "outputs": [
    {
     "name": "stderr",
     "output_type": "stream",
     "text": [
      "C:\\Users\\johan\\anaconda3\\lib\\site-packages\\sklearn\\linear_model\\_logistic.py:762: ConvergenceWarning: lbfgs failed to converge (status=1):\n",
      "STOP: TOTAL NO. of ITERATIONS REACHED LIMIT.\n",
      "\n",
      "Increase the number of iterations (max_iter) or scale the data as shown in:\n",
      "    https://scikit-learn.org/stable/modules/preprocessing.html\n",
      "Please also refer to the documentation for alternative solver options:\n",
      "    https://scikit-learn.org/stable/modules/linear_model.html#logistic-regression\n",
      "  n_iter_i = _check_optimize_result(\n",
      "C:\\Users\\johan\\anaconda3\\lib\\site-packages\\sklearn\\linear_model\\_logistic.py:762: ConvergenceWarning: lbfgs failed to converge (status=1):\n",
      "STOP: TOTAL NO. of ITERATIONS REACHED LIMIT.\n",
      "\n",
      "Increase the number of iterations (max_iter) or scale the data as shown in:\n",
      "    https://scikit-learn.org/stable/modules/preprocessing.html\n",
      "Please also refer to the documentation for alternative solver options:\n",
      "    https://scikit-learn.org/stable/modules/linear_model.html#logistic-regression\n",
      "  n_iter_i = _check_optimize_result(\n",
      "C:\\Users\\johan\\anaconda3\\lib\\site-packages\\sklearn\\linear_model\\_logistic.py:762: ConvergenceWarning: lbfgs failed to converge (status=1):\n",
      "STOP: TOTAL NO. of ITERATIONS REACHED LIMIT.\n",
      "\n",
      "Increase the number of iterations (max_iter) or scale the data as shown in:\n",
      "    https://scikit-learn.org/stable/modules/preprocessing.html\n",
      "Please also refer to the documentation for alternative solver options:\n",
      "    https://scikit-learn.org/stable/modules/linear_model.html#logistic-regression\n",
      "  n_iter_i = _check_optimize_result(\n"
     ]
    },
    {
     "name": "stdout",
     "output_type": "stream",
     "text": [
      "              precision    recall  f1-score   support\n",
      "\n",
      "           0       0.94      0.84      0.89     12372\n",
      "           1       0.45      0.73      0.56      2276\n",
      "\n",
      "    accuracy                           0.82     14648\n",
      "   macro avg       0.70      0.79      0.73     14648\n",
      "weighted avg       0.87      0.82      0.84     14648\n",
      "\n"
     ]
    }
   ],
   "source": [
    "logreg_tuned = gridsearch_logreg.best_estimator_.fit(X_train_val, y_train_val)\n",
    "y_pred_logreg_tuned = logreg_tuned.predict(X_test)\n",
    "print(classification_report(y_test, y_pred_logreg_tuned))"
   ]
  },
  {
   "cell_type": "code",
   "execution_count": 19,
   "metadata": {},
   "outputs": [
    {
     "data": {
      "image/png": "[encoded data removed]",
      "text/plain": [
       "<Figure size 432x288 with 2 Axes>"
      ]
     },
     "metadata": {
      "needs_background": "light"
     },
     "output_type": "display_data"
    }
   ],
   "source": [
    "plot_confusion_matrix(logreg_tuned, X_test, y_test)\n",
    "plt.show()"
   ]
  },
  {
   "cell_type": "code",
   "execution_count": 20,
   "metadata": {},
   "outputs": [
    {
     "name": "stdout",
     "output_type": "stream",
     "text": [
      "0.7311072056239016\n",
      "0.734182776801406\n"
     ]
    }
   ],
   "source": [
    "print(recall_score(y_test,y_pred_logreg))\n",
    "print(recall_score(y_test,y_pred_logreg_tuned))"
   ]
  },
  {
   "cell_type": "markdown",
   "metadata": {},
   "source": [
    "### 2. Tuning Gaussian Naive Bayes"
   ]
  },
  {
   "cell_type": "code",
   "execution_count": 21,
   "metadata": {},
   "outputs": [
    {
     "data": {
      "text/plain": [
       "{'memory': None,\n",
       " 'steps': [('transformer',\n",
       "   ColumnTransformer(remainder='passthrough',\n",
       "                     transformers=[('age_impute', SimpleImputer(strategy='median'),\n",
       "                                    ['age']),\n",
       "                                   ('onehotpipe', OneHotEncoder(drop='first'),\n",
       "                                    ['character_length', 'day', 'domain',\n",
       "                                     'country']),\n",
       "                                   ('ordinarypipe',\n",
       "                                    OrdinalEncoder(cols=['last_time_open_email',\n",
       "                                                         'last_time_open_shopee',\n",
       "                                                         'last_time_checkout_shopee'],\n",
       "                                                   mapping=[{'col': 'last_time_open_emai...\n",
       "                                                             'mapping': {None: 0,\n",
       "                                                                         '0-1 year': 1,\n",
       "                                                                         '1-2 years': 2,\n",
       "                                                                         '2-3 years': 3,\n",
       "                                                                         'more than 3 years': 4}},\n",
       "                                                            {'col': 'last_time_checkout_shopee',\n",
       "                                                             'mapping': {None: 0,\n",
       "                                                                         '0-1 year': 1,\n",
       "                                                                         '1-2 years': 2,\n",
       "                                                                         '2-3 years': 3,\n",
       "                                                                         'more than 3 years': 4}}]),\n",
       "                                    ['last_time_open_email',\n",
       "                                     'last_time_open_shopee',\n",
       "                                     'last_time_checkout_shopee']),\n",
       "                                   ('robust', RobustScaler(),\n",
       "                                    ['open_frequency', 'login_frequency',\n",
       "                                     'checkout_frequency'])])),\n",
       "  ('selection', SelectPercentile()),\n",
       "  ('resampling', SMOTE(random_state=2021)),\n",
       "  ('clf', GaussianNB())],\n",
       " 'verbose': False,\n",
       " 'transformer': ColumnTransformer(remainder='passthrough',\n",
       "                   transformers=[('age_impute', SimpleImputer(strategy='median'),\n",
       "                                  ['age']),\n",
       "                                 ('onehotpipe', OneHotEncoder(drop='first'),\n",
       "                                  ['character_length', 'day', 'domain',\n",
       "                                   'country']),\n",
       "                                 ('ordinarypipe',\n",
       "                                  OrdinalEncoder(cols=['last_time_open_email',\n",
       "                                                       'last_time_open_shopee',\n",
       "                                                       'last_time_checkout_shopee'],\n",
       "                                                 mapping=[{'col': 'last_time_open_emai...\n",
       "                                                           'mapping': {None: 0,\n",
       "                                                                       '0-1 year': 1,\n",
       "                                                                       '1-2 years': 2,\n",
       "                                                                       '2-3 years': 3,\n",
       "                                                                       'more than 3 years': 4}},\n",
       "                                                          {'col': 'last_time_checkout_shopee',\n",
       "                                                           'mapping': {None: 0,\n",
       "                                                                       '0-1 year': 1,\n",
       "                                                                       '1-2 years': 2,\n",
       "                                                                       '2-3 years': 3,\n",
       "                                                                       'more than 3 years': 4}}]),\n",
       "                                  ['last_time_open_email',\n",
       "                                   'last_time_open_shopee',\n",
       "                                   'last_time_checkout_shopee']),\n",
       "                                 ('robust', RobustScaler(),\n",
       "                                  ['open_frequency', 'login_frequency',\n",
       "                                   'checkout_frequency'])]),\n",
       " 'selection': SelectPercentile(),\n",
       " 'resampling': SMOTE(random_state=2021),\n",
       " 'clf': GaussianNB(),\n",
       " 'transformer__n_jobs': None,\n",
       " 'transformer__remainder': 'passthrough',\n",
       " 'transformer__sparse_threshold': 0.3,\n",
       " 'transformer__transformer_weights': None,\n",
       " 'transformer__transformers': [('age_impute',\n",
       "   SimpleImputer(strategy='median'),\n",
       "   ['age']),\n",
       "  ('onehotpipe',\n",
       "   OneHotEncoder(drop='first'),\n",
       "   ['character_length', 'day', 'domain', 'country']),\n",
       "  ('ordinarypipe',\n",
       "   OrdinalEncoder(cols=['last_time_open_email', 'last_time_open_shopee',\n",
       "                        'last_time_checkout_shopee'],\n",
       "                  mapping=[{'col': 'last_time_open_email',\n",
       "                            'mapping': {None: 0, '0-1 year': 1, '1-2 years': 2,\n",
       "                                        '2-3 years': 3, 'more than 3 years': 4}},\n",
       "                           {'col': 'last_time_open_shopee',\n",
       "                            'mapping': {None: 0, '0-1 year': 1, '1-2 years': 2,\n",
       "                                        '2-3 years': 3, 'more than 3 years': 4}},\n",
       "                           {'col': 'last_time_checkout_shopee',\n",
       "                            'mapping': {None: 0, '0-1 year': 1, '1-2 years': 2,\n",
       "                                        '2-3 years': 3, 'more than 3 years': 4}}]),\n",
       "   ['last_time_open_email',\n",
       "    'last_time_open_shopee',\n",
       "    'last_time_checkout_shopee']),\n",
       "  ('robust',\n",
       "   RobustScaler(),\n",
       "   ['open_frequency', 'login_frequency', 'checkout_frequency'])],\n",
       " 'transformer__verbose': False,\n",
       " 'transformer__age_impute': SimpleImputer(strategy='median'),\n",
       " 'transformer__onehotpipe': OneHotEncoder(drop='first'),\n",
       " 'transformer__ordinarypipe': OrdinalEncoder(cols=['last_time_open_email', 'last_time_open_shopee',\n",
       "                      'last_time_checkout_shopee'],\n",
       "                mapping=[{'col': 'last_time_open_email',\n",
       "                          'mapping': {None: 0, '0-1 year': 1, '1-2 years': 2,\n",
       "                                      '2-3 years': 3, 'more than 3 years': 4}},\n",
       "                         {'col': 'last_time_open_shopee',\n",
       "                          'mapping': {None: 0, '0-1 year': 1, '1-2 years': 2,\n",
       "                                      '2-3 years': 3, 'more than 3 years': 4}},\n",
       "                         {'col': 'last_time_checkout_shopee',\n",
       "                          'mapping': {None: 0, '0-1 year': 1, '1-2 years': 2,\n",
       "                                      '2-3 years': 3, 'more than 3 years': 4}}]),\n",
       " 'transformer__robust': RobustScaler(),\n",
       " 'transformer__age_impute__add_indicator': False,\n",
       " 'transformer__age_impute__copy': True,\n",
       " 'transformer__age_impute__fill_value': None,\n",
       " 'transformer__age_impute__missing_values': nan,\n",
       " 'transformer__age_impute__strategy': 'median',\n",
       " 'transformer__age_impute__verbose': 0,\n",
       " 'transformer__onehotpipe__categories': 'auto',\n",
       " 'transformer__onehotpipe__drop': 'first',\n",
       " 'transformer__onehotpipe__dtype': numpy.float64,\n",
       " 'transformer__onehotpipe__handle_unknown': 'error',\n",
       " 'transformer__onehotpipe__sparse': True,\n",
       " 'transformer__ordinarypipe__cols': ['last_time_open_email',\n",
       "  'last_time_open_shopee',\n",
       "  'last_time_checkout_shopee'],\n",
       " 'transformer__ordinarypipe__drop_invariant': False,\n",
       " 'transformer__ordinarypipe__handle_missing': 'value',\n",
       " 'transformer__ordinarypipe__handle_unknown': 'value',\n",
       " 'transformer__ordinarypipe__mapping': [{'col': 'last_time_open_email',\n",
       "   'mapping': {None: 0,\n",
       "    '0-1 year': 1,\n",
       "    '1-2 years': 2,\n",
       "    '2-3 years': 3,\n",
       "    'more than 3 years': 4}},\n",
       "  {'col': 'last_time_open_shopee',\n",
       "   'mapping': {None: 0,\n",
       "    '0-1 year': 1,\n",
       "    '1-2 years': 2,\n",
       "    '2-3 years': 3,\n",
       "    'more than 3 years': 4}},\n",
       "  {'col': 'last_time_checkout_shopee',\n",
       "   'mapping': {None: 0,\n",
       "    '0-1 year': 1,\n",
       "    '1-2 years': 2,\n",
       "    '2-3 years': 3,\n",
       "    'more than 3 years': 4}}],\n",
       " 'transformer__ordinarypipe__return_df': True,\n",
       " 'transformer__ordinarypipe__verbose': 0,\n",
       " 'transformer__robust__copy': True,\n",
       " 'transformer__robust__quantile_range': (25.0, 75.0),\n",
       " 'transformer__robust__with_centering': True,\n",
       " 'transformer__robust__with_scaling': True,\n",
       " 'selection__percentile': 10,\n",
       " 'selection__score_func': <function sklearn.feature_selection._univariate_selection.f_classif(X, y)>,\n",
       " 'resampling__k_neighbors': 5,\n",
       " 'resampling__n_jobs': None,\n",
       " 'resampling__random_state': 2021,\n",
       " 'resampling__sampling_strategy': 'auto',\n",
       " 'clf__priors': None,\n",
       " 'clf__var_smoothing': 1e-09}"
      ]
     },
     "execution_count": 21,
     "metadata": {},
     "output_type": "execute_result"
    }
   ],
   "source": [
    "pipeline_nb.get_params()"
   ]
  },
  {
   "cell_type": "code",
   "execution_count": 22,
   "metadata": {},
   "outputs": [
    {
     "name": "stdout",
     "output_type": "stream",
     "text": [
      "Fitting 5 folds for each of 30 candidates, totalling 150 fits\n"
     ]
    },
    {
     "name": "stderr",
     "output_type": "stream",
     "text": [
      "[Parallel(n_jobs=-1)]: Using backend LokyBackend with 12 concurrent workers.\n",
      "[Parallel(n_jobs=-1)]: Done  26 tasks      | elapsed:    2.5s\n",
      "[Parallel(n_jobs=-1)]: Done 150 out of 150 | elapsed:   14.2s finished\n"
     ]
    },
    {
     "data": {
      "text/plain": [
       "GridSearchCV(cv=StratifiedKFold(n_splits=5, random_state=None, shuffle=False),\n",
       "             estimator=Pipeline(steps=[('transformer',\n",
       "                                        ColumnTransformer(remainder='passthrough',\n",
       "                                                          transformers=[('age_impute',\n",
       "                                                                         SimpleImputer(strategy='median'),\n",
       "                                                                         ['age']),\n",
       "                                                                        ('onehotpipe',\n",
       "                                                                         OneHotEncoder(drop='first'),\n",
       "                                                                         ['character_length',\n",
       "                                                                          'day',\n",
       "                                                                          'domain',\n",
       "                                                                          'country']),\n",
       "                                                                        ('ordinarypipe',\n",
       "                                                                         OrdinalEncoder(c...\n",
       "                                                                          'last_time_checkout_shopee']),\n",
       "                                                                        ('robust',\n",
       "                                                                         RobustScaler(),\n",
       "                                                                         ['open_frequency',\n",
       "                                                                          'login_frequency',\n",
       "                                                                          'checkout_frequency'])])),\n",
       "                                       ('selection', SelectPercentile()),\n",
       "                                       ('resampling', SMOTE(random_state=2021)),\n",
       "                                       ('clf', GaussianNB())]),\n",
       "             n_jobs=-1,\n",
       "             param_grid={'clf__var_smoothing': [1e-09],\n",
       "                         'resampling__k_neighbors': [1, 5, 10, 30, 50],\n",
       "                         'selection__percentile': [1, 5, 10, 30, 50, 100]},\n",
       "             scoring='recall', verbose=1)"
      ]
     },
     "execution_count": 22,
     "metadata": {},
     "output_type": "execute_result"
    }
   ],
   "source": [
    "hyperparam_space_nb = {\n",
    "    'selection__percentile':[1,5,10,30,50,100],\n",
    "    'resampling__k_neighbors':[1,5,10,30,50],\n",
    "    'clf__var_smoothing':[1e-9]\n",
    "#     'clf__priors':[(0.2,0.8)]\n",
    "    \n",
    "}\n",
    "\n",
    "skf = StratifiedKFold(n_splits=5)\n",
    "\n",
    "gridsearch_nb = GridSearchCV(pipeline_nb, hyperparam_space_nb, scoring='recall', n_jobs=-1, cv=skf,verbose=1)\n",
    "gridsearch_nb.fit(X_train_val, y_train_val)"
   ]
  },
  {
   "cell_type": "code",
   "execution_count": 23,
   "metadata": {},
   "outputs": [
    {
     "data": {
      "text/plain": [
       "{'clf__var_smoothing': 1e-09,\n",
       " 'resampling__k_neighbors': 50,\n",
       " 'selection__percentile': 50}"
      ]
     },
     "execution_count": 23,
     "metadata": {},
     "output_type": "execute_result"
    }
   ],
   "source": [
    "gridsearch_nb.best_params_"
   ]
  },
  {
   "cell_type": "code",
   "execution_count": 24,
   "metadata": {},
   "outputs": [],
   "source": [
    "report_grid = pd.DataFrame(gridsearch_nb.cv_results_).sort_values('rank_test_score', ascending=True)\n",
    "# report_grid.head(2)"
   ]
  },
  {
   "cell_type": "code",
   "execution_count": 25,
   "metadata": {},
   "outputs": [
    {
     "data": {
      "text/plain": [
       "Pipeline(steps=[('transformer',\n",
       "                 ColumnTransformer(remainder='passthrough',\n",
       "                                   transformers=[('age_impute',\n",
       "                                                  SimpleImputer(strategy='median'),\n",
       "                                                  ['age']),\n",
       "                                                 ('onehotpipe',\n",
       "                                                  OneHotEncoder(drop='first'),\n",
       "                                                  ['character_length', 'day',\n",
       "                                                   'domain', 'country']),\n",
       "                                                 ('ordinarypipe',\n",
       "                                                  OrdinalEncoder(cols=['last_time_open_email',\n",
       "                                                                       'last_time_open_shopee',\n",
       "                                                                       'last_time_checkout_shopee'],\n",
       "                                                                 mappi...\n",
       "                                                                           'mapping': {None: 0,\n",
       "                                                                                       '0-1 year': 1,\n",
       "                                                                                       '1-2 years': 2,\n",
       "                                                                                       '2-3 years': 3,\n",
       "                                                                                       'more than 3 years': 4}}]),\n",
       "                                                  ['last_time_open_email',\n",
       "                                                   'last_time_open_shopee',\n",
       "                                                   'last_time_checkout_shopee']),\n",
       "                                                 ('robust', RobustScaler(),\n",
       "                                                  ['open_frequency',\n",
       "                                                   'login_frequency',\n",
       "                                                   'checkout_frequency'])])),\n",
       "                ('selection', SelectPercentile(percentile=50)),\n",
       "                ('resampling', SMOTE(k_neighbors=50, random_state=2021)),\n",
       "                ('clf', GaussianNB())])"
      ]
     },
     "execution_count": 25,
     "metadata": {},
     "output_type": "execute_result"
    }
   ],
   "source": [
    "gridsearch_nb.best_estimator_"
   ]
  },
  {
   "cell_type": "markdown",
   "metadata": {},
   "source": [
    "## 2A. Gaussian Naive Bayes Benchmark"
   ]
  },
  {
   "cell_type": "code",
   "execution_count": 26,
   "metadata": {},
   "outputs": [
    {
     "name": "stdout",
     "output_type": "stream",
     "text": [
      "              precision    recall  f1-score   support\n",
      "\n",
      "           0       0.93      0.87      0.90     12372\n",
      "           1       0.47      0.65      0.55      2276\n",
      "\n",
      "    accuracy                           0.83     14648\n",
      "   macro avg       0.70      0.76      0.72     14648\n",
      "weighted avg       0.86      0.83      0.84     14648\n",
      "\n"
     ]
    }
   ],
   "source": [
    "nb = pipeline_nb.fit(X_train_val, y_train_val)\n",
    "y_pred_nb = nb.predict(X_test) \n",
    "print(classification_report(y_test, y_pred_nb))"
   ]
  },
  {
   "cell_type": "code",
   "execution_count": 27,
   "metadata": {},
   "outputs": [
    {
     "data": {
      "image/png": "[encoded data removed]",
      "text/plain": [
       "<Figure size 432x288 with 2 Axes>"
      ]
     },
     "metadata": {
      "needs_background": "light"
     },
     "output_type": "display_data"
    }
   ],
   "source": [
    "plot_confusion_matrix(nb, X_test, y_test,cmap='rocket')\n",
    "plt.show()"
   ]
  },
  {
   "cell_type": "markdown",
   "metadata": {},
   "source": [
    "## 2B. Gaussian Naive Bayes Tuned"
   ]
  },
  {
   "cell_type": "code",
   "execution_count": 28,
   "metadata": {},
   "outputs": [
    {
     "name": "stdout",
     "output_type": "stream",
     "text": [
      "              precision    recall  f1-score   support\n",
      "\n",
      "           0       0.94      0.73      0.82     12372\n",
      "           1       0.34      0.76      0.47      2276\n",
      "\n",
      "    accuracy                           0.73     14648\n",
      "   macro avg       0.64      0.74      0.65     14648\n",
      "weighted avg       0.85      0.73      0.77     14648\n",
      "\n"
     ]
    }
   ],
   "source": [
    "nb_tuned = gridsearch_nb.best_estimator_.fit(X_train_val, y_train_val)\n",
    "y_pred_nb_tuned = nb_tuned.predict(X_test)\n",
    "y_pred_nb_tuned_proba = (nb_tuned.predict_proba(X_test)[:,1] >= 0.4)\n",
    "print(classification_report(y_test, y_pred_nb_tuned))"
   ]
  },
  {
   "cell_type": "code",
   "execution_count": 29,
   "metadata": {},
   "outputs": [
    {
     "name": "stdout",
     "output_type": "stream",
     "text": [
      "0.648506151142355\n",
      "0.7561511423550088\n"
     ]
    }
   ],
   "source": [
    "print(recall_score(y_test, y_pred_nb))\n",
    "print(recall_score(y_test, y_pred_nb_tuned))"
   ]
  },
  {
   "cell_type": "code",
   "execution_count": 30,
   "metadata": {},
   "outputs": [
    {
     "data": {
      "image/png": "[encoded data removed]",
      "text/plain": [
       "<Figure size 432x288 with 2 Axes>"
      ]
     },
     "metadata": {
      "needs_background": "light"
     },
     "output_type": "display_data"
    }
   ],
   "source": [
    "plot_confusion_matrix(nb_tuned, X_test, y_test,cmap='rocket')\n",
    "plt.show()"
   ]
  },
  {
   "cell_type": "markdown",
   "metadata": {},
   "source": [
    "## Result"
   ]
  },
  {
   "cell_type": "code",
   "execution_count": 31,
   "metadata": {},
   "outputs": [
    {
     "data": {
      "text/html": [
       "<div>\n",
       "<style scoped>\n",
       "    .dataframe tbody tr th:only-of-type {\n",
       "        vertical-align: middle;\n",
       "    }\n",
       "\n",
       "    .dataframe tbody tr th {\n",
       "        vertical-align: top;\n",
       "    }\n",
       "\n",
       "    .dataframe thead th {\n",
       "        text-align: right;\n",
       "    }\n",
       "</style>\n",
       "<table border=\"1\" class=\"dataframe\">\n",
       "  <thead>\n",
       "    <tr style=\"text-align: right;\">\n",
       "      <th></th>\n",
       "      <th>Decision Tree Classifier</th>\n",
       "      <th>Logistic Regression</th>\n",
       "      <th>Gaussian Naive Bayes</th>\n",
       "    </tr>\n",
       "  </thead>\n",
       "  <tbody>\n",
       "    <tr>\n",
       "      <th>Benchmark</th>\n",
       "      <td>0.465795</td>\n",
       "      <td>0.724569</td>\n",
       "      <td>0.648506</td>\n",
       "    </tr>\n",
       "    <tr>\n",
       "      <th>Tuned</th>\n",
       "      <td>-</td>\n",
       "      <td>0.734183</td>\n",
       "      <td>0.756151</td>\n",
       "    </tr>\n",
       "  </tbody>\n",
       "</table>\n",
       "</div>"
      ],
      "text/plain": [
       "          Decision Tree Classifier  Logistic Regression  Gaussian Naive Bayes\n",
       "Benchmark                 0.465795             0.724569              0.648506\n",
       "Tuned                            -             0.734183              0.756151"
      ]
     },
     "execution_count": 31,
     "metadata": {},
     "output_type": "execute_result"
    }
   ],
   "source": [
    "hasil = pd.DataFrame({\n",
    "    'Decision Tree Classifier':[dtc_score.mean(),'-'],\n",
    "    'Logistic Regression':[logreg_score.mean(),recall_score(y_test,y_pred_logreg_tuned)],\n",
    "    'Gaussian Naive Bayes':[recall_score(y_test, y_pred_nb),recall_score(y_test, y_pred_nb_tuned)]\n",
    "},index=['Benchmark','Tuned'])\n",
    "hasil"
   ]
  },
  {
   "cell_type": "markdown",
   "metadata": {},
   "source": [
    "### From the result above, we will use model __Gaussian Naive Bayes-Tuned__"
   ]
  },
  {
   "cell_type": "markdown",
   "metadata": {},
   "source": [
    "## Searching the best threshold from the best model"
   ]
  },
  {
   "cell_type": "code",
   "execution_count": 32,
   "metadata": {},
   "outputs": [
    {
     "data": {
      "image/png": "[encoded data removed]",
      "text/plain": [
       "<Figure size 432x288 with 1 Axes>"
      ]
     },
     "metadata": {
      "needs_background": "light"
     },
     "output_type": "display_data"
    }
   ],
   "source": [
    "plot_precision_recall_curve(nb_tuned, X_test, y_test)\n",
    "plt.show()"
   ]
  },
  {
   "cell_type": "code",
   "execution_count": 33,
   "metadata": {},
   "outputs": [
    {
     "data": {
      "text/html": [
       "<div>\n",
       "<style scoped>\n",
       "    .dataframe tbody tr th:only-of-type {\n",
       "        vertical-align: middle;\n",
       "    }\n",
       "\n",
       "    .dataframe tbody tr th {\n",
       "        vertical-align: top;\n",
       "    }\n",
       "\n",
       "    .dataframe thead th {\n",
       "        text-align: right;\n",
       "    }\n",
       "</style>\n",
       "<table border=\"1\" class=\"dataframe\">\n",
       "  <thead>\n",
       "    <tr style=\"text-align: right;\">\n",
       "      <th></th>\n",
       "      <th>precision</th>\n",
       "      <th>recall</th>\n",
       "      <th>threshold</th>\n",
       "      <th>jumlah</th>\n",
       "    </tr>\n",
       "  </thead>\n",
       "  <tbody>\n",
       "    <tr>\n",
       "      <th>1982</th>\n",
       "      <td>0.297415</td>\n",
       "      <td>0.808875</td>\n",
       "      <td>0.300144</td>\n",
       "      <td>1.106290</td>\n",
       "    </tr>\n",
       "    <tr>\n",
       "      <th>1983</th>\n",
       "      <td>0.297302</td>\n",
       "      <td>0.808436</td>\n",
       "      <td>0.300539</td>\n",
       "      <td>1.105738</td>\n",
       "    </tr>\n",
       "    <tr>\n",
       "      <th>1984</th>\n",
       "      <td>0.297398</td>\n",
       "      <td>0.808436</td>\n",
       "      <td>0.300857</td>\n",
       "      <td>1.105834</td>\n",
       "    </tr>\n",
       "    <tr>\n",
       "      <th>1985</th>\n",
       "      <td>0.297446</td>\n",
       "      <td>0.808436</td>\n",
       "      <td>0.300938</td>\n",
       "      <td>1.105882</td>\n",
       "    </tr>\n",
       "    <tr>\n",
       "      <th>1986</th>\n",
       "      <td>0.297494</td>\n",
       "      <td>0.808436</td>\n",
       "      <td>0.300997</td>\n",
       "      <td>1.105930</td>\n",
       "    </tr>\n",
       "    <tr>\n",
       "      <th>...</th>\n",
       "      <td>...</td>\n",
       "      <td>...</td>\n",
       "      <td>...</td>\n",
       "      <td>...</td>\n",
       "    </tr>\n",
       "    <tr>\n",
       "      <th>5595</th>\n",
       "      <td>0.857143</td>\n",
       "      <td>0.013181</td>\n",
       "      <td>1.000000</td>\n",
       "      <td>0.870324</td>\n",
       "    </tr>\n",
       "    <tr>\n",
       "      <th>5596</th>\n",
       "      <td>0.852941</td>\n",
       "      <td>0.012742</td>\n",
       "      <td>1.000000</td>\n",
       "      <td>0.865683</td>\n",
       "    </tr>\n",
       "    <tr>\n",
       "      <th>5597</th>\n",
       "      <td>0.838710</td>\n",
       "      <td>0.011424</td>\n",
       "      <td>1.000000</td>\n",
       "      <td>0.850133</td>\n",
       "    </tr>\n",
       "    <tr>\n",
       "      <th>5598</th>\n",
       "      <td>0.866667</td>\n",
       "      <td>0.011424</td>\n",
       "      <td>1.000000</td>\n",
       "      <td>0.878090</td>\n",
       "    </tr>\n",
       "    <tr>\n",
       "      <th>5599</th>\n",
       "      <td>0.857143</td>\n",
       "      <td>0.010545</td>\n",
       "      <td>1.000000</td>\n",
       "      <td>0.867688</td>\n",
       "    </tr>\n",
       "  </tbody>\n",
       "</table>\n",
       "<p>3618 rows × 4 columns</p>\n",
       "</div>"
      ],
      "text/plain": [
       "      precision    recall  threshold    jumlah\n",
       "1982   0.297415  0.808875   0.300144  1.106290\n",
       "1983   0.297302  0.808436   0.300539  1.105738\n",
       "1984   0.297398  0.808436   0.300857  1.105834\n",
       "1985   0.297446  0.808436   0.300938  1.105882\n",
       "1986   0.297494  0.808436   0.300997  1.105930\n",
       "...         ...       ...        ...       ...\n",
       "5595   0.857143  0.013181   1.000000  0.870324\n",
       "5596   0.852941  0.012742   1.000000  0.865683\n",
       "5597   0.838710  0.011424   1.000000  0.850133\n",
       "5598   0.866667  0.011424   1.000000  0.878090\n",
       "5599   0.857143  0.010545   1.000000  0.867688\n",
       "\n",
       "[3618 rows x 4 columns]"
      ]
     },
     "execution_count": 33,
     "metadata": {},
     "output_type": "execute_result"
    }
   ],
   "source": [
    "p, r, t = precision_recall_curve(y_test, nb_tuned.predict_proba(X_test)[:,1])\n",
    "pr_df = pd.DataFrame({'precision': p[:-1], 'recall': r[:-1], 'threshold': t})\n",
    "pr_df['jumlah']=pr_df['precision']+pr_df['recall']\n",
    "# pr_df[(pr_df['recall']>0.83) & (pr_df['precision']>0.26)].head(5)\n",
    "pr_df[pr_df['threshold']>0.3]"
   ]
  },
  {
   "cell_type": "markdown",
   "metadata": {},
   "source": [
    "## Email Blasting Price\n",
    "<img src='./interface/Biaya Email.png'>\n",
    "\n",
    "<a href='https://www.exabytes.co.id/online-marketing/email-marketing'> Blast Email Price</a>\n",
    "\n",
    "## User Shopee in Indonesia\n",
    "<img src='./interface/Jumlah User Shopee.png'>\n",
    "\n",
    "<a href='https://www.sirclo.com/jumlah-pengguna-e-commerce-indonesia-di-tahun-2020-meningkat-pesat/'> User Shopee in Indonesia</a>\n",
    "\n",
    "## New Customer Cost\n",
    "<img src='./interface/5x.png'>\n",
    "\n",
    "<a href = 'https://blog.mokapos.com/2018/02/22/mana-yang-lebih-penting-pelanggan-baru-atau-setia'> New Customer Cost</a>"
   ]
  },
  {
   "cell_type": "markdown",
   "metadata": {},
   "source": [
    "<img src='interface/metrics used.png'>"
   ]
  },
  {
   "cell_type": "markdown",
   "metadata": {},
   "source": [
    "1. Dalam kasus ini, kehilangan customer adalah hal yang paling ingin dihindari (FN sekecil mungkin)\n",
    "1. FP juga diinginkan sekecil mungkin dikarenakan semakin banyak FP berarti semakin banyak email yang terbuang sia - sia\n",
    "1. FN adalah customer loyal yang seharusnya akan membaca email, namun tidak dikirimin email (berpotensi hilang)\n",
    "1. FP adalah jumlah customer baru yang diharapkan datang, namun sebenarnya tidak terjadi\n",
    "1. Menurut artikel diatas, biaya mempertahankan customer lama lebih murah 5x dibanding mencari customer baru\n",
    "1. Bisa dibilang 5FN = FP\n",
    "1. Namun, jika dilihat dari biaya mengirim email dan seberapa besar shopee sebagai perusahaan, biaya tambahan per bulan dirasa tidak masalah\n",
    "1. Oleh karena itu, diambil lah threshold 0.3 dengan model naive bayes benchmark sebagai model terbaik karena memiliki nilai total loss terkecil"
   ]
  },
  {
   "cell_type": "code",
   "execution_count": 34,
   "metadata": {},
   "outputs": [],
   "source": [
    "def make_confusion_matrix(conf_matrix):\n",
    "    tn, fp, fn, tp = conf_matrix.ravel()\n",
    "    conf_df = pd.DataFrame(\n",
    "        {'p_0': [tn, fn, tn+fn], 'p_1': [fp, tp, fp+tp]}, index = ['a_0', 'a_1', 'total_prediction']\n",
    "    )\n",
    "    conf_df['total_actual'] = conf_df['p_0'] + conf_df['p_1']\n",
    "    return print(f\"Recall Score : {(tp/(fn+tp))*100} %\"),print(f\"Precision Score : {(tp/(fp+tp))*100} %\"), print(f\"Accuracy Score : {((tp+tn)/(fp+tp+fn+tn))*100 }%\"),print(f\"F1 Score : {2*((tp/(fp+tp))*(tp/(fn+tp)))/((tp/(fp+tp))+(tp/(fn+tp)))*100} %\")"
   ]
  },
  {
   "cell_type": "code",
   "execution_count": 35,
   "metadata": {},
   "outputs": [],
   "source": [
    "def threshold(conf_matrix):\n",
    "    tn, fp, fn, tp = conf_matrix.ravel()\n",
    "    conf_df = pd.DataFrame(\n",
    "        {'p_0': [tn, fn, tn+fn], 'p_1': [fp, tp, fp+tp]}, index = ['a_0', 'a_1', 'total_prediction']\n",
    "    )\n",
    "    conf_df['total_actual'] = conf_df['p_0'] + conf_df['p_1']\n",
    "    User_per_Q3_2019 = 55900000\n",
    "    Biaya_promosi_email_Per_Satu_Juta_User = 7000000\n",
    "    Biaya_promosi_email_per_user = Biaya_promosi_email_Per_Satu_Juta_User/1000000\n",
    "    Biaya_Promosi_Per_Bulan = User_per_Q3_2019 / Biaya_promosi_email_per_user * 1000000\n",
    "    Biaya_Promosi_Per_Bulan_Actual = ((fp+tp)/(fp+tp+fn+tn))*Biaya_Promosi_Per_Bulan\n",
    "    return conf_df, print(f'Saved money {round((Biaya_Promosi_Per_Bulan-Biaya_Promosi_Per_Bulan_Actual)/(Biaya_Promosi_Per_Bulan)*100)} %'), print(f\"On Target (Read & Sent) = {round(tp/(fp+tp)*100)} %\"), print(f'Off Target (Do Not Read but Sent)= {round(fp/(tn+fp)*100)} %'),print(f'Loss due to off target = Rp.{round(fp/(fp+tp+fn+tn)*Biaya_promosi_email_per_user*User_per_Q3_2019):,}',print(f\"Loss potential user (Read but Not Sent) = {(fn/(fn+tn)*100)} %\")),print(f'On Target/Loss Potential = {(tp/(fp+tp)*100)/(fn/(fn+tn)*100)}'),print({tp/fn})"
   ]
  },
  {
   "cell_type": "code",
   "execution_count": 36,
   "metadata": {},
   "outputs": [],
   "source": [
    "def thresholdo(conf_matrix):\n",
    "    tn, fp, fn, tp = conf_matrix.ravel()\n",
    "    conf_df = pd.DataFrame(\n",
    "        {'p_0': [tn, fn, tn+fn], 'p_1': [fp, tp, fp+tp]}, index = ['a_0', 'a_1', 'total_prediction']\n",
    "    )\n",
    "    conf_df['total_actual'] = conf_df['p_0'] + conf_df['p_1']\n",
    "    User_per_Q3_2019 = 55900000\n",
    "    Biaya_promosi_email_Per_Satu_Juta_User = 7000000\n",
    "    Biaya_promosi_email_per_user = Biaya_promosi_email_Per_Satu_Juta_User/1000000\n",
    "    Biaya_Promosi_Per_Bulan = User_per_Q3_2019 / Biaya_promosi_email_per_user * 1000000\n",
    "    Biaya_Promosi_Per_Bulan_Actual = ((fp+tp)/(fp+tp+fn+tn))*Biaya_Promosi_Per_Bulan\n",
    "    return print(f'Unecessary Email = {(fp/(tn+fn+fp+tp)*100)}%'),print(f'Loss Potential Customer = {(fn/(tn+fn+fp+tp)*100)}'),print(f'Saved money {(Biaya_Promosi_Per_Bulan-Biaya_Promosi_Per_Bulan_Actual)/(Biaya_Promosi_Per_Bulan)*100} %'),print(f'Total Loss = {(fp+5*fn)/(fn+fp+tn+tp)*100}%')"
   ]
  },
  {
   "cell_type": "code",
   "execution_count": 37,
   "metadata": {},
   "outputs": [
    {
     "name": "stdout",
     "output_type": "stream",
     "text": [
      "For Threshold 0.4 before Tuned:\n",
      "Unecessary Email = 21.347624249044237%\n",
      "Loss Potential Customer = 3.0379574003276897\n",
      "Saved money 66.15237575095576 %\n",
      "Total Loss = 36.53741125068269%\n",
      "\n",
      "For Threshold 0.4 After Tuned:\n",
      "Unecessary Email = 21.46368104860732%\n",
      "Loss Potential Customer = 3.0174767886400873\n",
      "Saved money 66.01583833970508 %\n",
      "Total Loss = 36.551064991807756%\n",
      "\n",
      "For Threshold 0.41000000000000003 before Tuned:\n",
      "Unecessary Email = 20.85608956854178%\n",
      "Loss Potential Customer = 3.1403604587657017\n",
      "Saved money 66.74631348989622 %\n",
      "Total Loss = 36.55789186237029%\n",
      "\n",
      "For Threshold 0.41000000000000003 After Tuned:\n",
      "Unecessary Email = 20.80830147460404%\n",
      "Loss Potential Customer = 3.1335335882031674\n",
      "Saved money 66.78727471327143 %\n",
      "Total Loss = 36.47596941561988%\n",
      "\n",
      "For Threshold 0.42000000000000004 before Tuned:\n",
      "Unecessary Email = 20.30993992353905%\n",
      "Loss Potential Customer = 3.2222829055161113\n",
      "Saved money 67.37438558164938 %\n",
      "Total Loss = 36.42135445111961%\n",
      "\n",
      "For Threshold 0.42000000000000004 After Tuned:\n",
      "Unecessary Email = 20.27580557072638%\n",
      "Loss Potential Customer = 3.229109776078645\n",
      "Saved money 67.41534680502458 %\n",
      "Total Loss = 36.42135445111961%\n",
      "\n",
      "For Threshold 0.43 before Tuned:\n",
      "Unecessary Email = 19.477061714909887%\n",
      "Loss Potential Customer = 3.3383397050791914\n",
      "Saved money 68.32332058984161 %\n",
      "Total Loss = 36.16876024030584%\n",
      "\n",
      "For Threshold 0.43 After Tuned:\n",
      "Unecessary Email = 18.862643364281816%\n",
      "Loss Potential Customer = 3.3383397050791914\n",
      "Saved money 68.9377389404697 %\n",
      "Total Loss = 35.55434188967777%\n",
      "\n",
      "For Threshold 0.44 before Tuned:\n",
      "Unecessary Email = 17.941015838339705%\n",
      "Loss Potential Customer = 3.440742763517204\n",
      "Saved money 69.96176952484981 %\n",
      "Total Loss = 35.14472965592572%\n",
      "\n",
      "For Threshold 0.44 After Tuned:\n",
      "Unecessary Email = 18.39841616602949%\n",
      "Loss Potential Customer = 3.413435281267067\n",
      "Saved money 69.4770617149099 %\n",
      "Total Loss = 35.46559257236483%\n",
      "\n",
      "For Threshold 0.45 before Tuned:\n",
      "Unecessary Email = 17.381212452211905%\n",
      "Loss Potential Customer = 3.556799563080284\n",
      "Saved money 70.63762971054068 %\n",
      "Total Loss = 35.165210267613325%\n",
      "\n",
      "For Threshold 0.45 After Tuned:\n",
      "Unecessary Email = 17.278809393773894%\n",
      "Loss Potential Customer = 3.54997269251775\n",
      "Saved money 70.73320589841617 %\n",
      "Total Loss = 35.02867285636264%\n",
      "\n",
      "For Threshold 0.46 before Tuned:\n",
      "Unecessary Email = 16.54150737302021%\n",
      "Loss Potential Customer = 3.6455488803932274\n",
      "Saved money 71.56608410704533 %\n",
      "Total Loss = 34.76925177498635%\n",
      "\n",
      "For Threshold 0.46 After Tuned:\n",
      "Unecessary Email = 16.39814309120699%\n",
      "Loss Potential Customer = 3.6455488803932274\n",
      "Saved money 71.70944838885855 %\n",
      "Total Loss = 34.62588749317313%\n",
      "\n",
      "For Threshold 0.47000000000000003 before Tuned:\n",
      "Unecessary Email = 15.892954669579465%\n",
      "Loss Potential Customer = 3.7684325505188423\n",
      "Saved money 72.3375204806117 %\n",
      "Total Loss = 34.73511742217368%\n",
      "\n",
      "For Threshold 0.47000000000000003 After Tuned:\n",
      "Unecessary Email = 15.77007099945385%\n",
      "Loss Potential Customer = 3.7820862916439104\n",
      "Saved money 72.47405789186237 %\n",
      "Total Loss = 34.6805024576734%\n",
      "\n",
      "For Threshold 0.48 before Tuned:\n",
      "Unecessary Email = 14.391043145821955%\n",
      "Loss Potential Customer = 3.9732386673948663\n",
      "Saved money 74.04423812124521 %\n",
      "Total Loss = 34.25723648279629%\n",
      "\n",
      "For Threshold 0.48 After Tuned:\n",
      "Unecessary Email = 15.25805570726379%\n",
      "Loss Potential Customer = 3.86400873839432\n",
      "Saved money 73.06799563080284 %\n",
      "Total Loss = 34.57809939923539%\n",
      "\n",
      "For Threshold 0.49 before Tuned:\n",
      "Unecessary Email = 14.111141452758055%\n",
      "Loss Potential Customer = 4.0141998907700716\n",
      "Saved money 74.36510103768434 %\n",
      "Total Loss = 34.18214090660841%\n",
      "\n",
      "For Threshold 0.49 After Tuned:\n",
      "Unecessary Email = 14.35008192244675%\n",
      "Loss Potential Customer = 4.048334243582741\n",
      "Saved money 74.1602949208083 %\n",
      "Total Loss = 34.59175314036046%\n",
      "\n",
      "For Threshold 0.5 before Tuned:\n",
      "Unecessary Email = 13.476242490442381%\n",
      "Loss Potential Customer = 4.17804478427089\n",
      "Saved money 75.16384489350082 %\n",
      "Total Loss = 34.36646641179683%\n",
      "\n",
      "For Threshold 0.5 After Tuned:\n",
      "Unecessary Email = 13.667394866193336%\n",
      "Loss Potential Customer = 4.130256690333152\n",
      "Saved money 74.92490442381212 %\n",
      "Total Loss = 34.31867831785909%\n",
      "\n",
      "For Threshold 0.51 before Tuned:\n",
      "Unecessary Email = 12.89595849262698%\n",
      "Loss Potential Customer = 4.253140360458766\n",
      "Saved money 75.81922446750409 %\n",
      "Total Loss = 34.16166029492081%\n",
      "\n",
      "For Threshold 0.51 After Tuned:\n",
      "Unecessary Email = 12.882304751501911%\n",
      "Loss Potential Customer = 4.29410158383397\n",
      "Saved money 75.87383943200436 %\n",
      "Total Loss = 34.35281267067176%\n",
      "\n",
      "For Threshold 0.52 before Tuned:\n",
      "Unecessary Email = 12.274713271436372%\n",
      "Loss Potential Customer = 4.416985253959585\n",
      "Saved money 76.60431458219551 %\n",
      "Total Loss = 34.3596395412343%\n",
      "\n",
      "For Threshold 0.52 After Tuned:\n",
      "Unecessary Email = 12.506826870562534%\n",
      "Loss Potential Customer = 4.382850901146914\n",
      "Saved money 76.33806663025669 %\n",
      "Total Loss = 34.42108137629711%\n",
      "\n",
      "For Threshold 0.53 before Tuned:\n",
      "Unecessary Email = 11.974330966684873%\n",
      "Loss Potential Customer = 4.498907700709995\n",
      "Saved money 76.98661933369743 %\n",
      "Total Loss = 34.46886947023484%\n",
      "\n",
      "For Threshold 0.53 After Tuned:\n",
      "Unecessary Email = 11.90606226105953%\n",
      "Loss Potential Customer = 4.498907700709995\n",
      "Saved money 77.05488803932278 %\n",
      "Total Loss = 34.4006007646095%\n",
      "\n",
      "For Threshold 0.54 before Tuned:\n",
      "Unecessary Email = 11.400873839432005%\n",
      "Loss Potential Customer = 4.621791370835608\n",
      "Saved money 77.68296013107592 %\n",
      "Total Loss = 34.50983069361005%\n",
      "\n",
      "For Threshold 0.54 After Tuned:\n",
      "Unecessary Email = 11.44183506280721%\n",
      "Loss Potential Customer = 4.6490988530857456\n",
      "Saved money 77.66930638995085 %\n",
      "Total Loss = 34.68732932823594%\n",
      "\n",
      "For Threshold 0.55 before Tuned:\n",
      "Unecessary Email = 10.84789732386674%\n",
      "Loss Potential Customer = 4.7856362643364285\n",
      "Saved money 78.39978154014199 %\n",
      "Total Loss = 34.77607864554888%\n",
      "\n",
      "For Threshold 0.55 After Tuned:\n",
      "Unecessary Email = 10.984434735117423%\n",
      "Loss Potential Customer = 4.744675040961224\n",
      "Saved money 78.22228290551611 %\n",
      "Total Loss = 34.70780993992354%\n",
      "\n",
      "For Threshold 0.56 before Tuned:\n",
      "Unecessary Email = 10.520207536865101%\n",
      "Loss Potential Customer = 4.901693063899509\n",
      "Saved money 78.84352812670672 %\n",
      "Total Loss = 35.02867285636264%\n",
      "\n",
      "For Threshold 0.56 After Tuned:\n",
      "Unecessary Email = 10.540688148552704%\n",
      "Loss Potential Customer = 4.867558711086837\n",
      "Saved money 78.78891316220644 %\n",
      "Total Loss = 34.87848170398689%\n",
      "\n",
      "For Threshold 0.5700000000000001 before Tuned:\n",
      "Unecessary Email = 10.212998361551065%\n",
      "Loss Potential Customer = 5.038230475150192\n",
      "Saved money 79.28727471327144 %\n",
      "Total Loss = 35.40415073730202%\n",
      "\n",
      "For Threshold 0.5700000000000001 After Tuned:\n",
      "Unecessary Email = 10.00819224467504%\n",
      "Loss Potential Customer = 5.024576734025123\n",
      "Saved money 79.47842708902239 %\n",
      "Total Loss = 35.13107591480066%\n",
      "\n",
      "For Threshold 0.58 before Tuned:\n",
      "Unecessary Email = 9.77607864554888%\n",
      "Loss Potential Customer = 5.113326051338066\n",
      "Saved money 79.7992900054615 %\n",
      "Total Loss = 35.34270890223921%\n",
      "\n",
      "For Threshold 0.58 After Tuned:\n",
      "Unecessary Email = 9.680502457673402%\n",
      "Loss Potential Customer = 5.113326051338066\n",
      "Saved money 79.89486619333698 %\n",
      "Total Loss = 35.24713271436374%\n",
      "\n",
      "For Threshold 0.59 before Tuned:\n",
      "Unecessary Email = 9.366466411796832%\n",
      "Loss Potential Customer = 5.20207536865101\n",
      "Saved money 80.29765155652649 %\n",
      "Total Loss = 35.37684325505188%\n",
      "\n",
      "For Threshold 0.59 After Tuned:\n",
      "Unecessary Email = 9.46204259967231%\n",
      "Loss Potential Customer = 5.208902239213545\n",
      "Saved money 80.20890223921356 %\n",
      "Total Loss = 35.50655379574003%\n",
      "\n",
      "For Threshold 0.6 before Tuned:\n",
      "Unecessary Email = 8.99781540141999%\n",
      "Loss Potential Customer = 5.277170944838886\n",
      "Saved money 80.7413981430912 %\n",
      "Total Loss = 35.38367012561442%\n",
      "\n",
      "For Threshold 0.6 After Tuned:\n",
      "Unecessary Email = 9.038776624795194%\n",
      "Loss Potential Customer = 5.270344074276352\n",
      "Saved money 80.69361004915346 %\n",
      "Total Loss = 35.39049699617695%\n",
      "\n"
     ]
    }
   ],
   "source": [
    "for i in (np.linspace(0.4,0.6,21)):\n",
    "    print(f'For Threshold {i} before Tuned:')\n",
    "    y_pred_thresh = [1 if prob1>i else 0 for prob1 in logreg.predict_proba(X_test)[:,1]]\n",
    "    thresholdo(confusion_matrix(y_test, y_pred_thresh))\n",
    "    print('')\n",
    "    print(f'For Threshold {i} After Tuned:')\n",
    "    y_pred_thresh = [1 if prob1>i else 0 for prob1 in logreg_tuned.predict_proba(X_test)[:,1]]\n",
    "    thresholdo(confusion_matrix(y_test, y_pred_thresh))\n",
    "    print('')"
   ]
  },
  {
   "cell_type": "markdown",
   "metadata": {},
   "source": [
    "### Comparing the Properties resulted by model :\n",
    "1. Logistic Regression Benchmark\n",
    "1. Logistic Regression Tuned\n",
    "1. Logistic Regression Best Model + Best Threshold\n",
    "1. Gaussian Naive-Bayes Benchmark\n",
    "1. Gaussian Naive-Bayes Tuned\n",
    "1. Gaussian Naive-Bayes Best Model + Best Threshold"
   ]
  },
  {
   "cell_type": "markdown",
   "metadata": {},
   "source": [
    "### 1. Logistic Regression Benchmark"
   ]
  },
  {
   "cell_type": "code",
   "execution_count": 38,
   "metadata": {},
   "outputs": [
    {
     "name": "stdout",
     "output_type": "stream",
     "text": [
      "Evaluation Score :\n",
      "Unecessary Email = 13.476242490442381%\n",
      "Loss Potential Customer = 4.17804478427089\n",
      "Saved money 75.16384489350082 %\n",
      "Total Loss = 34.36646641179683%\n",
      "\n",
      "Metrics Score :\n",
      "Recall Score : 73.11072056239016 %\n",
      "Precision Score : 45.739417262231996 %\n",
      "Accuracy Score : 82.34571272528672%\n",
      "F1 Score : 56.27324991545486 %\n",
      "(None, None, None, None)\n"
     ]
    }
   ],
   "source": [
    "y_pred_1 = [1 if prob1>0.50 else 0 for prob1 in logreg.predict_proba(X_test)[:,1]]\n",
    "print('Evaluation Score :')\n",
    "thresholdo(confusion_matrix(y_test, y_pred_1))\n",
    "print('')\n",
    "print('Metrics Score :')\n",
    "print(make_confusion_matrix(confusion_matrix(y_test, y_pred_1)))"
   ]
  },
  {
   "cell_type": "markdown",
   "metadata": {},
   "source": [
    "### 2. Logistic Regression Tuning"
   ]
  },
  {
   "cell_type": "code",
   "execution_count": 39,
   "metadata": {},
   "outputs": [
    {
     "name": "stdout",
     "output_type": "stream",
     "text": [
      "Evaluation Score :\n",
      "Unecessary Email = 13.667394866193336%\n",
      "Loss Potential Customer = 4.130256690333152\n",
      "Saved money 74.92490442381212 %\n",
      "Total Loss = 34.31867831785909%\n",
      "\n",
      "Metrics Score :\n",
      "Recall Score : 73.41827768014059 %\n",
      "Precision Score : 45.494146474271716 %\n",
      "Accuracy Score : 82.20234844347351%\n",
      "F1 Score : 56.17750882501261 %\n",
      "(None, None, None, None)\n"
     ]
    }
   ],
   "source": [
    "y_pred_2 = [1 if prob1>0.50 else 0 for prob1 in logreg_tuned.predict_proba(X_test)[:,1]]\n",
    "print('Evaluation Score :')\n",
    "thresholdo(confusion_matrix(y_test, y_pred_2))\n",
    "print('')\n",
    "print('Metrics Score :')\n",
    "print(make_confusion_matrix(confusion_matrix(y_test, y_pred_2)))"
   ]
  },
  {
   "cell_type": "markdown",
   "metadata": {},
   "source": [
    "### 3. Logistic Regression Best Model + Best Threshold"
   ]
  },
  {
   "cell_type": "code",
   "execution_count": 40,
   "metadata": {},
   "outputs": [
    {
     "name": "stdout",
     "output_type": "stream",
     "text": [
      "Evaluation Score :\n",
      "Unecessary Email = 14.111141452758055%\n",
      "Loss Potential Customer = 4.0141998907700716\n",
      "Saved money 74.36510103768434 %\n",
      "Total Loss = 34.18214090660841%\n",
      "\n",
      "Metrics Score :\n",
      "Recall Score : 74.16520210896309 %\n",
      "Precision Score : 44.953395472703065 %\n",
      "Accuracy Score : 81.87465865647188%\n",
      "F1 Score : 55.97744984248051 %\n",
      "(None, None, None, None)\n"
     ]
    }
   ],
   "source": [
    "y_pred_3 = [1 if prob1>0.49 else 0 for prob1 in logreg.predict_proba(X_test)[:,1]]\n",
    "print('Evaluation Score :')\n",
    "thresholdo(confusion_matrix(y_test, y_pred_3))\n",
    "print('')\n",
    "print('Metrics Score :')\n",
    "print(make_confusion_matrix(confusion_matrix(y_test, y_pred_3)))"
   ]
  },
  {
   "cell_type": "markdown",
   "metadata": {},
   "source": [
    "### 4. Gaussian Naive-Bayes Benchmark"
   ]
  },
  {
   "cell_type": "code",
   "execution_count": 41,
   "metadata": {},
   "outputs": [
    {
     "name": "stdout",
     "output_type": "stream",
     "text": [
      "Evaluation Score :\n",
      "Unecessary Email = 11.141452758055708%\n",
      "Loss Potential Customer = 5.461496450027307\n",
      "Saved money 78.78208629164392 %\n",
      "Total Loss = 38.448935008192244%\n",
      "\n",
      "Metrics Score :\n",
      "Recall Score : 64.8506151142355 %\n",
      "Precision Score : 47.49034749034749 %\n",
      "Accuracy Score : 83.39705079191698%\n",
      "F1 Score : 54.82912332838038 %\n",
      "(None, None, None, None)\n"
     ]
    }
   ],
   "source": [
    "y_pred_4 = [1 if prob1>0.5 else 0 for prob1 in nb.predict_proba(X_test)[:,1]]\n",
    "print('Evaluation Score :')\n",
    "thresholdo(confusion_matrix(y_test, y_pred_4))\n",
    "print('')\n",
    "print('Metrics Score :')\n",
    "print(make_confusion_matrix(confusion_matrix(y_test, y_pred_4)))"
   ]
  },
  {
   "cell_type": "markdown",
   "metadata": {},
   "source": [
    "### 5. Gaussian Naive-Bayes Tuned"
   ]
  },
  {
   "cell_type": "code",
   "execution_count": 42,
   "metadata": {},
   "outputs": [
    {
     "name": "stdout",
     "output_type": "stream",
     "text": [
      "Evaluation Score :\n",
      "Unecessary Email = 22.897323866739487%\n",
      "Loss Potential Customer = 3.7889131622064447\n",
      "Saved money 65.35363189513926 %\n",
      "Total Loss = 41.84188967777171%\n",
      "\n",
      "Metrics Score :\n",
      "Recall Score : 75.61511423550088 %\n",
      "Precision Score : 33.91133004926108 %\n",
      "Accuracy Score : 73.31376297105406%\n",
      "F1 Score : 46.82356142021494 %\n",
      "(None, None, None, None)\n"
     ]
    }
   ],
   "source": [
    "y_pred_5 = [1 if prob1>0.5 else 0 for prob1 in nb_tuned.predict_proba(X_test)[:,1]]\n",
    "print('Evaluation Score :')\n",
    "thresholdo(confusion_matrix(y_test, y_pred_5))\n",
    "print('')\n",
    "print('Metrics Score :')\n",
    "print(make_confusion_matrix(confusion_matrix(y_test, y_pred_5)))"
   ]
  },
  {
   "cell_type": "markdown",
   "metadata": {},
   "source": [
    "### 6. Gaussian Naive-Bayes Best Model + Best Threshold"
   ]
  },
  {
   "cell_type": "code",
   "execution_count": 43,
   "metadata": {},
   "outputs": [
    {
     "name": "stdout",
     "output_type": "stream",
     "text": [
      "Evaluation Score :\n",
      "Unecessary Email = 14.527580557072639%\n",
      "Loss Potential Customer = 4.382850901146914\n",
      "Saved money 74.31731294374659 %\n",
      "Total Loss = 36.44183506280721%\n",
      "\n",
      "Metrics Score :\n",
      "Recall Score : 71.79261862917399 %\n",
      "Precision Score : 43.43434343434344 %\n",
      "Accuracy Score : 81.08956854178044%\n",
      "F1 Score : 54.12388208015899 %\n",
      "(None, None, None, None)\n"
     ]
    }
   ],
   "source": [
    "y_pred_6 = [1 if prob1>0.3 else 0 for prob1 in nb.predict_proba(X_test)[:,1]]\n",
    "print('Evaluation Score :')\n",
    "thresholdo(confusion_matrix(y_test, y_pred_6))\n",
    "print('')\n",
    "print('Metrics Score :')\n",
    "print(make_confusion_matrix(confusion_matrix(y_test, y_pred_6)))"
   ]
  },
  {
   "cell_type": "markdown",
   "metadata": {},
   "source": [
    "### After searching the least Total Loss, found the most fitted model is :\n",
    "1. Logistic Regression with Benchamrk and Threshold 0.49\n",
    "1. Saved money = 290 million Rupiah/month (only for Shopee user in Indonesia)\n",
    "1. Unnecessary Email 14.11 %\n",
    "1. Loss Potential Customer 4.01 %\n",
    "1. Total Loss 34.18 %"
   ]
  },
  {
   "cell_type": "code",
   "execution_count": 44,
   "metadata": {},
   "outputs": [
    {
     "name": "stderr",
     "output_type": "stream",
     "text": [
      "C:\\Users\\johan\\anaconda3\\lib\\site-packages\\sklearn\\linear_model\\_logistic.py:762: ConvergenceWarning: lbfgs failed to converge (status=1):\n",
      "STOP: TOTAL NO. of ITERATIONS REACHED LIMIT.\n",
      "\n",
      "Increase the number of iterations (max_iter) or scale the data as shown in:\n",
      "    https://scikit-learn.org/stable/modules/preprocessing.html\n",
      "Please also refer to the documentation for alternative solver options:\n",
      "    https://scikit-learn.org/stable/modules/linear_model.html#logistic-regression\n",
      "  n_iter_i = _check_optimize_result(\n"
     ]
    },
    {
     "data": {
      "text/plain": [
       "Pipeline(steps=[('transformer',\n",
       "                 ColumnTransformer(remainder='passthrough',\n",
       "                                   transformers=[('age_impute',\n",
       "                                                  SimpleImputer(strategy='median'),\n",
       "                                                  ['age']),\n",
       "                                                 ('onehotpipe',\n",
       "                                                  OneHotEncoder(drop='first'),\n",
       "                                                  ['character_length', 'day',\n",
       "                                                   'domain', 'country']),\n",
       "                                                 ('ordinarypipe',\n",
       "                                                  OrdinalEncoder(cols=['last_time_open_email',\n",
       "                                                                       'last_time_open_shopee',\n",
       "                                                                       'last_time_checkout_shopee'],\n",
       "                                                                 mappi...\n",
       "                                                                                       '1-2 years': 2,\n",
       "                                                                                       '2-3 years': 3,\n",
       "                                                                                       'more than 3 years': 4}}]),\n",
       "                                                  ['last_time_open_email',\n",
       "                                                   'last_time_open_shopee',\n",
       "                                                   'last_time_checkout_shopee']),\n",
       "                                                 ('robust', RobustScaler(),\n",
       "                                                  ['open_frequency',\n",
       "                                                   'login_frequency',\n",
       "                                                   'checkout_frequency'])])),\n",
       "                ('rfe', RFE(estimator=LogisticRegression(random_state=2021))),\n",
       "                ('resampling', SMOTE(random_state=2021)),\n",
       "                ('clf', LogisticRegression(random_state=2021))])"
      ]
     },
     "execution_count": 44,
     "metadata": {},
     "output_type": "execute_result"
    }
   ],
   "source": [
    "logreg.fit(X,y)"
   ]
  },
  {
   "cell_type": "markdown",
   "metadata": {},
   "source": [
    "# Joblib"
   ]
  },
  {
   "cell_type": "code",
   "execution_count": 48,
   "metadata": {},
   "outputs": [
    {
     "data": {
      "text/plain": [
       "['nb_shopee']"
      ]
     },
     "execution_count": 48,
     "metadata": {},
     "output_type": "execute_result"
    }
   ],
   "source": [
    "joblib.dump(nb_tuned,'nb_shopee')"
   ]
  },
  {
   "cell_type": "code",
   "execution_count": 49,
   "metadata": {},
   "outputs": [
    {
     "data": {
      "text/plain": [
       "['best_model_shopee_email']"
      ]
     },
     "execution_count": 49,
     "metadata": {},
     "output_type": "execute_result"
    }
   ],
   "source": [
    "joblib.dump(logreg,'best_model_shopee_email')"
   ]
  },
  {
   "cell_type": "code",
   "execution_count": 50,
   "metadata": {},
   "outputs": [
    {
     "data": {
      "text/html": [
       "<div>\n",
       "<style scoped>\n",
       "    .dataframe tbody tr th:only-of-type {\n",
       "        vertical-align: middle;\n",
       "    }\n",
       "\n",
       "    .dataframe tbody tr th {\n",
       "        vertical-align: top;\n",
       "    }\n",
       "\n",
       "    .dataframe thead th {\n",
       "        text-align: right;\n",
       "    }\n",
       "</style>\n",
       "<table border=\"1\" class=\"dataframe\">\n",
       "  <thead>\n",
       "    <tr style=\"text-align: right;\">\n",
       "      <th></th>\n",
       "      <th>open_flag</th>\n",
       "      <th>age</th>\n",
       "      <th>domain</th>\n",
       "      <th>country</th>\n",
       "      <th>day</th>\n",
       "      <th>character_length</th>\n",
       "      <th>last_time_open_email</th>\n",
       "      <th>last_time_open_shopee</th>\n",
       "      <th>last_time_checkout_shopee</th>\n",
       "      <th>open_frequency</th>\n",
       "      <th>login_frequency</th>\n",
       "      <th>checkout_frequency</th>\n",
       "    </tr>\n",
       "  </thead>\n",
       "  <tbody>\n",
       "    <tr>\n",
       "      <th>0</th>\n",
       "      <td>0</td>\n",
       "      <td>47.0</td>\n",
       "      <td>@gmail.com</td>\n",
       "      <td>Philippines</td>\n",
       "      <td>Tuesday</td>\n",
       "      <td>ideal</td>\n",
       "      <td>0-1 year</td>\n",
       "      <td>0-1 year</td>\n",
       "      <td>0-1 year</td>\n",
       "      <td>0.044444</td>\n",
       "      <td>1.427778</td>\n",
       "      <td>0.111111</td>\n",
       "    </tr>\n",
       "    <tr>\n",
       "      <th>1</th>\n",
       "      <td>1</td>\n",
       "      <td>25.0</td>\n",
       "      <td>other</td>\n",
       "      <td>Philippines</td>\n",
       "      <td>Tuesday</td>\n",
       "      <td>ideal</td>\n",
       "      <td>0-1 year</td>\n",
       "      <td>0-1 year</td>\n",
       "      <td>0-1 year</td>\n",
       "      <td>0.261111</td>\n",
       "      <td>1.633333</td>\n",
       "      <td>0.066667</td>\n",
       "    </tr>\n",
       "    <tr>\n",
       "      <th>2</th>\n",
       "      <td>0</td>\n",
       "      <td>NaN</td>\n",
       "      <td>@yahoo.com</td>\n",
       "      <td>Thailand</td>\n",
       "      <td>Tuesday</td>\n",
       "      <td>ideal</td>\n",
       "      <td>0-1 year</td>\n",
       "      <td>0-1 year</td>\n",
       "      <td>0-1 year</td>\n",
       "      <td>0.111111</td>\n",
       "      <td>2.227778</td>\n",
       "      <td>0.527778</td>\n",
       "    </tr>\n",
       "    <tr>\n",
       "      <th>3</th>\n",
       "      <td>0</td>\n",
       "      <td>24.0</td>\n",
       "      <td>@yahoo.com</td>\n",
       "      <td>Singapore</td>\n",
       "      <td>Tuesday</td>\n",
       "      <td>ideal</td>\n",
       "      <td>0-1 year</td>\n",
       "      <td>0-1 year</td>\n",
       "      <td>0-1 year</td>\n",
       "      <td>0.005556</td>\n",
       "      <td>0.938889</td>\n",
       "      <td>0.100000</td>\n",
       "    </tr>\n",
       "    <tr>\n",
       "      <th>4</th>\n",
       "      <td>0</td>\n",
       "      <td>NaN</td>\n",
       "      <td>other</td>\n",
       "      <td>Thailand</td>\n",
       "      <td>Tuesday</td>\n",
       "      <td>ideal</td>\n",
       "      <td>0-1 year</td>\n",
       "      <td>0-1 year</td>\n",
       "      <td>0-1 year</td>\n",
       "      <td>0.000000</td>\n",
       "      <td>0.150000</td>\n",
       "      <td>0.000000</td>\n",
       "    </tr>\n",
       "  </tbody>\n",
       "</table>\n",
       "</div>"
      ],
      "text/plain": [
       "   open_flag   age      domain      country      day character_length  \\\n",
       "0          0  47.0  @gmail.com  Philippines  Tuesday            ideal   \n",
       "1          1  25.0       other  Philippines  Tuesday            ideal   \n",
       "2          0   NaN  @yahoo.com     Thailand  Tuesday            ideal   \n",
       "3          0  24.0  @yahoo.com    Singapore  Tuesday            ideal   \n",
       "4          0   NaN       other     Thailand  Tuesday            ideal   \n",
       "\n",
       "  last_time_open_email last_time_open_shopee last_time_checkout_shopee  \\\n",
       "0             0-1 year              0-1 year                  0-1 year   \n",
       "1             0-1 year              0-1 year                  0-1 year   \n",
       "2             0-1 year              0-1 year                  0-1 year   \n",
       "3             0-1 year              0-1 year                  0-1 year   \n",
       "4             0-1 year              0-1 year                  0-1 year   \n",
       "\n",
       "   open_frequency  login_frequency  checkout_frequency  \n",
       "0        0.044444         1.427778            0.111111  \n",
       "1        0.261111         1.633333            0.066667  \n",
       "2        0.111111         2.227778            0.527778  \n",
       "3        0.005556         0.938889            0.100000  \n",
       "4        0.000000         0.150000            0.000000  "
      ]
     },
     "execution_count": 50,
     "metadata": {},
     "output_type": "execute_result"
    }
   ],
   "source": [
    "data.head()"
   ]
  },
  {
   "cell_type": "code",
   "execution_count": 51,
   "metadata": {},
   "outputs": [],
   "source": [
    "model_joblib=joblib.load('best_model_shopee_email')"
   ]
  },
  {
   "cell_type": "code",
   "execution_count": 52,
   "metadata": {},
   "outputs": [
    {
     "data": {
      "text/plain": [
       "Pipeline(steps=[('transformer',\n",
       "                 ColumnTransformer(remainder='passthrough',\n",
       "                                   transformers=[('age_impute',\n",
       "                                                  SimpleImputer(strategy='median'),\n",
       "                                                  ['age']),\n",
       "                                                 ('onehotpipe',\n",
       "                                                  OneHotEncoder(drop='first'),\n",
       "                                                  ['character_length', 'day',\n",
       "                                                   'domain', 'country']),\n",
       "                                                 ('ordinarypipe',\n",
       "                                                  OrdinalEncoder(cols=['last_time_open_email',\n",
       "                                                                       'last_time_open_shopee',\n",
       "                                                                       'last_time_checkout_shopee'],\n",
       "                                                                 mappi...\n",
       "                                                                                       '1-2 years': 2,\n",
       "                                                                                       '2-3 years': 3,\n",
       "                                                                                       'more than 3 years': 4}}]),\n",
       "                                                  ['last_time_open_email',\n",
       "                                                   'last_time_open_shopee',\n",
       "                                                   'last_time_checkout_shopee']),\n",
       "                                                 ('robust', RobustScaler(),\n",
       "                                                  ['open_frequency',\n",
       "                                                   'login_frequency',\n",
       "                                                   'checkout_frequency'])])),\n",
       "                ('rfe', RFE(estimator=LogisticRegression(random_state=2021))),\n",
       "                ('resampling', SMOTE(random_state=2021)),\n",
       "                ('clf', LogisticRegression(random_state=2021))])"
      ]
     },
     "execution_count": 52,
     "metadata": {},
     "output_type": "execute_result"
    }
   ],
   "source": [
    "model_joblib"
   ]
  },
  {
   "cell_type": "code",
   "execution_count": 53,
   "metadata": {},
   "outputs": [],
   "source": [
    "# a = float(input('age ? '))\n",
    "# b = input('Domain ? ')\n",
    "# c = input('Country ? ')\n",
    "# d = input('Sent Email at day ? ')\n",
    "# e = input('Character length ideal or not ideal ? ')\n",
    "# f = input('last time open email ? ')\n",
    "# g = input('last time open shopee ? ')\n",
    "# h = input('last time checkout on shopee ? ')\n",
    "# i = float(input('open email frequency ? '))\n",
    "# j = float(input('login shopee frequency ? '))\n",
    "# k = float(input('checkout shopee frequency ? '))\n",
    "\n",
    "# df = pd.DataFrame([[a,b,c,d,e,f,g,h,i,j,k]],columns = X_test.columns)\n",
    "# df\n"
   ]
  },
  {
   "cell_type": "code",
   "execution_count": 54,
   "metadata": {},
   "outputs": [
    {
     "data": {
      "text/html": [
       "<div>\n",
       "<style scoped>\n",
       "    .dataframe tbody tr th:only-of-type {\n",
       "        vertical-align: middle;\n",
       "    }\n",
       "\n",
       "    .dataframe tbody tr th {\n",
       "        vertical-align: top;\n",
       "    }\n",
       "\n",
       "    .dataframe thead th {\n",
       "        text-align: right;\n",
       "    }\n",
       "</style>\n",
       "<table border=\"1\" class=\"dataframe\">\n",
       "  <thead>\n",
       "    <tr style=\"text-align: right;\">\n",
       "      <th></th>\n",
       "      <th>age</th>\n",
       "      <th>domain</th>\n",
       "      <th>country</th>\n",
       "      <th>day</th>\n",
       "      <th>character_length</th>\n",
       "      <th>last_time_open_email</th>\n",
       "      <th>last_time_open_shopee</th>\n",
       "      <th>last_time_checkout_shopee</th>\n",
       "      <th>open_frequency</th>\n",
       "      <th>login_frequency</th>\n",
       "      <th>checkout_frequency</th>\n",
       "    </tr>\n",
       "  </thead>\n",
       "  <tbody>\n",
       "    <tr>\n",
       "      <th>0</th>\n",
       "      <td>30</td>\n",
       "      <td>other</td>\n",
       "      <td>Indonesia</td>\n",
       "      <td>Friday</td>\n",
       "      <td>not ideal</td>\n",
       "      <td>more than 3 years</td>\n",
       "      <td>0-1 year</td>\n",
       "      <td>1-2 years</td>\n",
       "      <td>0.15</td>\n",
       "      <td>0.2</td>\n",
       "      <td>0.5</td>\n",
       "    </tr>\n",
       "  </tbody>\n",
       "</table>\n",
       "</div>"
      ],
      "text/plain": [
       "   age domain    country     day character_length last_time_open_email  \\\n",
       "0   30  other  Indonesia  Friday        not ideal    more than 3 years   \n",
       "\n",
       "  last_time_open_shopee last_time_checkout_shopee  open_frequency  \\\n",
       "0              0-1 year                 1-2 years            0.15   \n",
       "\n",
       "   login_frequency  checkout_frequency  \n",
       "0              0.2                 0.5  "
      ]
     },
     "execution_count": 54,
     "metadata": {},
     "output_type": "execute_result"
    }
   ],
   "source": [
    "df1=pd.DataFrame()\n",
    "df1['age']=[30]\n",
    "df1['domain']=['other']\n",
    "df1['country']=['Indonesia']\n",
    "df1['day']=['Friday']\n",
    "df1['character_length']=['not ideal']\n",
    "df1['last_time_open_email']=['more than 3 years']\n",
    "df1['last_time_open_shopee']=['0-1 year']\n",
    "df1['last_time_checkout_shopee']=['1-2 years']\n",
    "df1['open_frequency']=[0.15]\n",
    "df1['login_frequency']=[0.2]\n",
    "df1['checkout_frequency']=[0.5]\n",
    "df1"
   ]
  },
  {
   "cell_type": "code",
   "execution_count": 55,
   "metadata": {},
   "outputs": [
    {
     "name": "stdout",
     "output_type": "stream",
     "text": [
      "User is NOT Reading the Email\n"
     ]
    }
   ],
   "source": [
    "proba = model_joblib.predict_proba(df1)\n",
    "\n",
    "if proba[0][1] < 0.49:\n",
    "    print('User is NOT Reading the Email')\n",
    "else:\n",
    "    print('User is Reading the Email')"
   ]
  },
  {
   "cell_type": "code",
   "execution_count": 56,
   "metadata": {},
   "outputs": [
    {
     "data": {
      "text/plain": [
       "array([[0.66133496, 0.33866504]])"
      ]
     },
     "execution_count": 56,
     "metadata": {},
     "output_type": "execute_result"
    }
   ],
   "source": [
    "proba"
   ]
  },
  {
   "cell_type": "code",
   "execution_count": null,
   "metadata": {},
   "outputs": [],
   "source": []
  }
 ],
 "metadata": {
  "kernelspec": {
   "display_name": "Python 3",
   "language": "python",
   "name": "python3"
  },
  "language_info": {
   "codemirror_mode": {
    "name": "ipython",
    "version": 3
   },
   "file_extension": ".py",
   "mimetype": "text/x-python",
   "name": "python",
   "nbconvert_exporter": "python",
   "pygments_lexer": "ipython3",
   "version": "3.8.3"
  }
 },
 "nbformat": 4,
 "nbformat_minor": 4
}

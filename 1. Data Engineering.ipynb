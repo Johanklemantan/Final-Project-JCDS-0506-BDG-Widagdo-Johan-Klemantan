{
 "cells": [
  {
   "cell_type": "markdown",
   "metadata": {},
   "source": [
    "### Import Libraries"
   ]
  },
  {
   "cell_type": "code",
   "execution_count": 1,
   "metadata": {},
   "outputs": [
    {
     "name": "stderr",
     "output_type": "stream",
     "text": [
      "C:\\Users\\johan\\anaconda3\\lib\\site-packages\\outdated\\utils.py:14: OutdatedPackageWarning: The package pingouin is out of date. Your version is 0.3.8, the latest is 0.3.10.\n",
      "Set the environment variable OUTDATED_IGNORE=1 to disable these warnings.\n",
      "  return warn(\n"
     ]
    }
   ],
   "source": [
    "import numpy as np\n",
    "import pandas as pd\n",
    "import matplotlib.pyplot as plt\n",
    "import seaborn as sns\n",
    "import pingouin as pg\n",
    "from scipy import stats"
   ]
  },
  {
   "cell_type": "markdown",
   "metadata": {},
   "source": [
    "## Background\n",
    "Sending email is one of the alternatives used by Shopee to tell and promote certain event sale to users. With the ability to be able to predict whether user is reading or not reading the email, enable Shopee to evaluate their crew works during campaign period until event launch. This is because, when user is open the email, the possibility of that user know there is an event or promo will be highly increased and also increasing the possibility of that user do transaction during event period. Therefore, with the making of this model, hopefully Shopee able to build a strategy for future marketing.\n",
    "\n",
    "__Source__ : <a href='https://www.kaggle.com/davydev/shopee-code-league-20/tasks?taskId=1574'>Kaggle</a>\n",
    "\n",
    "\n",
    "## Goals\n",
    "The goals of this project is to build model that able to predict whether user is going to read the email sent by Shopee. In this case, Shopee's priority is user.\n",
    "\n",
    "\n",
    "\n",
    "## Data Used\n",
    "- 18 columns and 73539 rows for train data\n",
    "- 6 columns and 127886 rows for user data\n",
    "\n",
    "## Train Data Information\n",
    "1. country_code = Code Number of Country in Shopee's user\n",
    "1. grass_date = Date when the email was sent\n",
    "1. user_id = Unique number each user\n",
    "1. subject_line_length = Character Length for subject of email sent\n",
    "1. last_open_day = How many days this user last open his email\n",
    "1. last_login_day = How many days this user last open his Shopee account\n",
    "1. last_checkout_day = How many days this user last checkout at his Shopee account\n",
    "1. open_count_last_[10/30/60]_ days = Total email that open during N days\n",
    "1. login_count_last_[10/30/60]_ days = Total times this user open his Shopee account during N days\n",
    "1. checkout_count_last_[10/30/60]_ days = Total times this checkout from his Shopee account during N days\n",
    "1. open_flag = __Target Variable__ Whether this user open his email or not\n",
    "1. row_id = Row number \n",
    "\n",
    "## User Data Information\n",
    "1. user_id = Unique number each user\n",
    "1. attr_[1/2] = General attribute each user. Boolean type\n",
    "1. attr_3 = General attribute each user. Int type\n",
    "1. age = age of the user\n",
    "1. domain = domain email of each user"
   ]
  },
  {
   "cell_type": "markdown",
   "metadata": {},
   "source": [
    "### Data Train"
   ]
  },
  {
   "cell_type": "code",
   "execution_count": 2,
   "metadata": {},
   "outputs": [
    {
     "name": "stdout",
     "output_type": "stream",
     "text": [
      "<class 'pandas.core.frame.DataFrame'>\n",
      "RangeIndex: 73539 entries, 0 to 73538\n",
      "Data columns (total 18 columns):\n",
      " #   Column                       Non-Null Count  Dtype \n",
      "---  ------                       --------------  ----- \n",
      " 0   country_code                 73539 non-null  int64 \n",
      " 1   grass_date                   73539 non-null  object\n",
      " 2   user_id                      73539 non-null  int64 \n",
      " 3   subject_line_length          73539 non-null  int64 \n",
      " 4   last_open_day                73539 non-null  object\n",
      " 5   last_login_day               73539 non-null  object\n",
      " 6   last_checkout_day            73539 non-null  object\n",
      " 7   open_count_last_10_days      73539 non-null  int64 \n",
      " 8   open_count_last_30_days      73539 non-null  int64 \n",
      " 9   open_count_last_60_days      73539 non-null  int64 \n",
      " 10  login_count_last_10_days     73539 non-null  int64 \n",
      " 11  login_count_last_30_days     73539 non-null  int64 \n",
      " 12  login_count_last_60_days     73539 non-null  int64 \n",
      " 13  checkout_count_last_10_days  73539 non-null  int64 \n",
      " 14  checkout_count_last_30_days  73539 non-null  int64 \n",
      " 15  checkout_count_last_60_days  73539 non-null  int64 \n",
      " 16  open_flag                    73539 non-null  int64 \n",
      " 17  row_id                       73539 non-null  int64 \n",
      "dtypes: int64(14), object(4)\n",
      "memory usage: 10.1+ MB\n"
     ]
    }
   ],
   "source": [
    "train = pd.read_csv('./static/train.csv')\n",
    "train.info()"
   ]
  },
  {
   "cell_type": "code",
   "execution_count": 3,
   "metadata": {},
   "outputs": [
    {
     "data": {
      "text/html": [
       "<div>\n",
       "<style scoped>\n",
       "    .dataframe tbody tr th:only-of-type {\n",
       "        vertical-align: middle;\n",
       "    }\n",
       "\n",
       "    .dataframe tbody tr th {\n",
       "        vertical-align: top;\n",
       "    }\n",
       "\n",
       "    .dataframe thead th {\n",
       "        text-align: right;\n",
       "    }\n",
       "</style>\n",
       "<table border=\"1\" class=\"dataframe\">\n",
       "  <thead>\n",
       "    <tr style=\"text-align: right;\">\n",
       "      <th></th>\n",
       "      <th>country_code</th>\n",
       "      <th>grass_date</th>\n",
       "      <th>user_id</th>\n",
       "      <th>subject_line_length</th>\n",
       "      <th>last_open_day</th>\n",
       "      <th>last_login_day</th>\n",
       "      <th>last_checkout_day</th>\n",
       "      <th>open_count_last_10_days</th>\n",
       "      <th>open_count_last_30_days</th>\n",
       "      <th>open_count_last_60_days</th>\n",
       "      <th>login_count_last_10_days</th>\n",
       "      <th>login_count_last_30_days</th>\n",
       "      <th>login_count_last_60_days</th>\n",
       "      <th>checkout_count_last_10_days</th>\n",
       "      <th>checkout_count_last_30_days</th>\n",
       "      <th>checkout_count_last_60_days</th>\n",
       "      <th>open_flag</th>\n",
       "      <th>row_id</th>\n",
       "    </tr>\n",
       "  </thead>\n",
       "  <tbody>\n",
       "    <tr>\n",
       "      <th>0</th>\n",
       "      <td>4</td>\n",
       "      <td>2019-07-16 00:00:00+08:00</td>\n",
       "      <td>43</td>\n",
       "      <td>44</td>\n",
       "      <td>19</td>\n",
       "      <td>6</td>\n",
       "      <td>18</td>\n",
       "      <td>0</td>\n",
       "      <td>2</td>\n",
       "      <td>4</td>\n",
       "      <td>12</td>\n",
       "      <td>43</td>\n",
       "      <td>99</td>\n",
       "      <td>0</td>\n",
       "      <td>5</td>\n",
       "      <td>10</td>\n",
       "      <td>0</td>\n",
       "      <td>0</td>\n",
       "    </tr>\n",
       "    <tr>\n",
       "      <th>1</th>\n",
       "      <td>4</td>\n",
       "      <td>2019-07-16 00:00:00+08:00</td>\n",
       "      <td>102</td>\n",
       "      <td>44</td>\n",
       "      <td>9</td>\n",
       "      <td>4</td>\n",
       "      <td>8</td>\n",
       "      <td>2</td>\n",
       "      <td>9</td>\n",
       "      <td>17</td>\n",
       "      <td>18</td>\n",
       "      <td>48</td>\n",
       "      <td>90</td>\n",
       "      <td>1</td>\n",
       "      <td>1</td>\n",
       "      <td>4</td>\n",
       "      <td>1</td>\n",
       "      <td>1</td>\n",
       "    </tr>\n",
       "    <tr>\n",
       "      <th>2</th>\n",
       "      <td>6</td>\n",
       "      <td>2019-07-16 00:00:00+08:00</td>\n",
       "      <td>177</td>\n",
       "      <td>49</td>\n",
       "      <td>14</td>\n",
       "      <td>5</td>\n",
       "      <td>5</td>\n",
       "      <td>0</td>\n",
       "      <td>4</td>\n",
       "      <td>12</td>\n",
       "      <td>24</td>\n",
       "      <td>69</td>\n",
       "      <td>119</td>\n",
       "      <td>5</td>\n",
       "      <td>19</td>\n",
       "      <td>27</td>\n",
       "      <td>0</td>\n",
       "      <td>2</td>\n",
       "    </tr>\n",
       "    <tr>\n",
       "      <th>3</th>\n",
       "      <td>1</td>\n",
       "      <td>2019-07-16 00:00:00+08:00</td>\n",
       "      <td>184</td>\n",
       "      <td>49</td>\n",
       "      <td>49</td>\n",
       "      <td>9</td>\n",
       "      <td>53</td>\n",
       "      <td>0</td>\n",
       "      <td>0</td>\n",
       "      <td>1</td>\n",
       "      <td>9</td>\n",
       "      <td>23</td>\n",
       "      <td>69</td>\n",
       "      <td>1</td>\n",
       "      <td>3</td>\n",
       "      <td>6</td>\n",
       "      <td>0</td>\n",
       "      <td>3</td>\n",
       "    </tr>\n",
       "    <tr>\n",
       "      <th>4</th>\n",
       "      <td>6</td>\n",
       "      <td>2019-07-16 00:00:00+08:00</td>\n",
       "      <td>221</td>\n",
       "      <td>49</td>\n",
       "      <td>227</td>\n",
       "      <td>6</td>\n",
       "      <td>221</td>\n",
       "      <td>0</td>\n",
       "      <td>0</td>\n",
       "      <td>0</td>\n",
       "      <td>2</td>\n",
       "      <td>5</td>\n",
       "      <td>5</td>\n",
       "      <td>0</td>\n",
       "      <td>0</td>\n",
       "      <td>0</td>\n",
       "      <td>0</td>\n",
       "      <td>4</td>\n",
       "    </tr>\n",
       "  </tbody>\n",
       "</table>\n",
       "</div>"
      ],
      "text/plain": [
       "   country_code                 grass_date  user_id  subject_line_length  \\\n",
       "0             4  2019-07-16 00:00:00+08:00       43                   44   \n",
       "1             4  2019-07-16 00:00:00+08:00      102                   44   \n",
       "2             6  2019-07-16 00:00:00+08:00      177                   49   \n",
       "3             1  2019-07-16 00:00:00+08:00      184                   49   \n",
       "4             6  2019-07-16 00:00:00+08:00      221                   49   \n",
       "\n",
       "  last_open_day last_login_day last_checkout_day  open_count_last_10_days  \\\n",
       "0            19              6                18                        0   \n",
       "1             9              4                 8                        2   \n",
       "2            14              5                 5                        0   \n",
       "3            49              9                53                        0   \n",
       "4           227              6               221                        0   \n",
       "\n",
       "   open_count_last_30_days  open_count_last_60_days  login_count_last_10_days  \\\n",
       "0                        2                        4                        12   \n",
       "1                        9                       17                        18   \n",
       "2                        4                       12                        24   \n",
       "3                        0                        1                         9   \n",
       "4                        0                        0                         2   \n",
       "\n",
       "   login_count_last_30_days  login_count_last_60_days  \\\n",
       "0                        43                        99   \n",
       "1                        48                        90   \n",
       "2                        69                       119   \n",
       "3                        23                        69   \n",
       "4                         5                         5   \n",
       "\n",
       "   checkout_count_last_10_days  checkout_count_last_30_days  \\\n",
       "0                            0                            5   \n",
       "1                            1                            1   \n",
       "2                            5                           19   \n",
       "3                            1                            3   \n",
       "4                            0                            0   \n",
       "\n",
       "   checkout_count_last_60_days  open_flag  row_id  \n",
       "0                           10          0       0  \n",
       "1                            4          1       1  \n",
       "2                           27          0       2  \n",
       "3                            6          0       3  \n",
       "4                            0          0       4  "
      ]
     },
     "execution_count": 3,
     "metadata": {},
     "output_type": "execute_result"
    }
   ],
   "source": [
    "train.head()"
   ]
  },
  {
   "cell_type": "markdown",
   "metadata": {},
   "source": [
    "### Data User"
   ]
  },
  {
   "cell_type": "code",
   "execution_count": 4,
   "metadata": {},
   "outputs": [
    {
     "name": "stdout",
     "output_type": "stream",
     "text": [
      "<class 'pandas.core.frame.DataFrame'>\n",
      "RangeIndex: 127886 entries, 0 to 127885\n",
      "Data columns (total 6 columns):\n",
      " #   Column   Non-Null Count   Dtype  \n",
      "---  ------   --------------   -----  \n",
      " 0   user_id  127886 non-null  int64  \n",
      " 1   attr_1   78987 non-null   float64\n",
      " 2   attr_2   127439 non-null  float64\n",
      " 3   attr_3   127886 non-null  float64\n",
      " 4   age      78987 non-null   float64\n",
      " 5   domain   127886 non-null  object \n",
      "dtypes: float64(4), int64(1), object(1)\n",
      "memory usage: 5.9+ MB\n"
     ]
    }
   ],
   "source": [
    "user = pd.read_csv('./static/users.csv')\n",
    "user.info()"
   ]
  },
  {
   "cell_type": "code",
   "execution_count": 5,
   "metadata": {},
   "outputs": [
    {
     "data": {
      "text/html": [
       "<div>\n",
       "<style scoped>\n",
       "    .dataframe tbody tr th:only-of-type {\n",
       "        vertical-align: middle;\n",
       "    }\n",
       "\n",
       "    .dataframe tbody tr th {\n",
       "        vertical-align: top;\n",
       "    }\n",
       "\n",
       "    .dataframe thead th {\n",
       "        text-align: right;\n",
       "    }\n",
       "</style>\n",
       "<table border=\"1\" class=\"dataframe\">\n",
       "  <thead>\n",
       "    <tr style=\"text-align: right;\">\n",
       "      <th></th>\n",
       "      <th>user_id</th>\n",
       "      <th>attr_1</th>\n",
       "      <th>attr_2</th>\n",
       "      <th>attr_3</th>\n",
       "      <th>age</th>\n",
       "      <th>domain</th>\n",
       "    </tr>\n",
       "  </thead>\n",
       "  <tbody>\n",
       "    <tr>\n",
       "      <th>0</th>\n",
       "      <td>0</td>\n",
       "      <td>NaN</td>\n",
       "      <td>1.0</td>\n",
       "      <td>0.0</td>\n",
       "      <td>NaN</td>\n",
       "      <td>@gmail.com</td>\n",
       "    </tr>\n",
       "    <tr>\n",
       "      <th>1</th>\n",
       "      <td>1</td>\n",
       "      <td>1.0</td>\n",
       "      <td>1.0</td>\n",
       "      <td>2.0</td>\n",
       "      <td>50.0</td>\n",
       "      <td>@gmail.com</td>\n",
       "    </tr>\n",
       "    <tr>\n",
       "      <th>2</th>\n",
       "      <td>2</td>\n",
       "      <td>NaN</td>\n",
       "      <td>1.0</td>\n",
       "      <td>0.0</td>\n",
       "      <td>NaN</td>\n",
       "      <td>other</td>\n",
       "    </tr>\n",
       "    <tr>\n",
       "      <th>3</th>\n",
       "      <td>3</td>\n",
       "      <td>NaN</td>\n",
       "      <td>1.0</td>\n",
       "      <td>0.0</td>\n",
       "      <td>NaN</td>\n",
       "      <td>@gmail.com</td>\n",
       "    </tr>\n",
       "    <tr>\n",
       "      <th>4</th>\n",
       "      <td>4</td>\n",
       "      <td>1.0</td>\n",
       "      <td>1.0</td>\n",
       "      <td>2.0</td>\n",
       "      <td>33.0</td>\n",
       "      <td>@gmail.com</td>\n",
       "    </tr>\n",
       "  </tbody>\n",
       "</table>\n",
       "</div>"
      ],
      "text/plain": [
       "   user_id  attr_1  attr_2  attr_3   age      domain\n",
       "0        0     NaN     1.0     0.0   NaN  @gmail.com\n",
       "1        1     1.0     1.0     2.0  50.0  @gmail.com\n",
       "2        2     NaN     1.0     0.0   NaN       other\n",
       "3        3     NaN     1.0     0.0   NaN  @gmail.com\n",
       "4        4     1.0     1.0     2.0  33.0  @gmail.com"
      ]
     },
     "execution_count": 5,
     "metadata": {},
     "output_type": "execute_result"
    }
   ],
   "source": [
    "user.head()"
   ]
  },
  {
   "cell_type": "markdown",
   "metadata": {},
   "source": [
    "## Merge train & user"
   ]
  },
  {
   "cell_type": "code",
   "execution_count": 6,
   "metadata": {},
   "outputs": [
    {
     "name": "stdout",
     "output_type": "stream",
     "text": [
      "<class 'pandas.core.frame.DataFrame'>\n",
      "Int64Index: 73539 entries, 0 to 73538\n",
      "Data columns (total 23 columns):\n",
      " #   Column                       Non-Null Count  Dtype  \n",
      "---  ------                       --------------  -----  \n",
      " 0   country_code                 73539 non-null  int64  \n",
      " 1   grass_date                   73539 non-null  object \n",
      " 2   user_id                      73539 non-null  int64  \n",
      " 3   subject_line_length          73539 non-null  int64  \n",
      " 4   last_open_day                73539 non-null  object \n",
      " 5   last_login_day               73539 non-null  object \n",
      " 6   last_checkout_day            73539 non-null  object \n",
      " 7   open_count_last_10_days      73539 non-null  int64  \n",
      " 8   open_count_last_30_days      73539 non-null  int64  \n",
      " 9   open_count_last_60_days      73539 non-null  int64  \n",
      " 10  login_count_last_10_days     73539 non-null  int64  \n",
      " 11  login_count_last_30_days     73539 non-null  int64  \n",
      " 12  login_count_last_60_days     73539 non-null  int64  \n",
      " 13  checkout_count_last_10_days  73539 non-null  int64  \n",
      " 14  checkout_count_last_30_days  73539 non-null  int64  \n",
      " 15  checkout_count_last_60_days  73539 non-null  int64  \n",
      " 16  open_flag                    73539 non-null  int64  \n",
      " 17  row_id                       73539 non-null  int64  \n",
      " 18  attr_1                       45347 non-null  float64\n",
      " 19  attr_2                       73260 non-null  float64\n",
      " 20  attr_3                       73539 non-null  float64\n",
      " 21  age                          45347 non-null  float64\n",
      " 22  domain                       73539 non-null  object \n",
      "dtypes: float64(4), int64(14), object(5)\n",
      "memory usage: 13.5+ MB\n"
     ]
    }
   ],
   "source": [
    "gabung = pd.merge(train,user,on='user_id')\n",
    "gabung.info()"
   ]
  },
  {
   "cell_type": "code",
   "execution_count": 7,
   "metadata": {},
   "outputs": [
    {
     "data": {
      "image/png": "[encoded data removed]",
      "text/plain": [
       "<Figure size 1440x720 with 2 Axes>"
      ]
     },
     "metadata": {
      "needs_background": "light"
     },
     "output_type": "display_data"
    }
   ],
   "source": [
    "plt.figure(figsize=(20,10))\n",
    "sns.heatmap(gabung.corr(),annot=True,cmap='coolwarm')\n",
    "plt.show()"
   ]
  },
  {
   "cell_type": "code",
   "execution_count": 8,
   "metadata": {},
   "outputs": [
    {
     "data": {
      "text/plain": [
       "open_flag                      100.000000\n",
       "open_count_last_10_days         51.530727\n",
       "open_count_last_30_days         50.785347\n",
       "open_count_last_60_days         47.776649\n",
       "country_code                    15.894524\n",
       "age                             10.350701\n",
       "checkout_count_last_10_days      1.557345\n",
       "login_count_last_10_days         1.402338\n",
       "checkout_count_last_30_days      1.341893\n",
       "checkout_count_last_60_days      1.023110\n",
       "login_count_last_30_days         1.013371\n",
       "login_count_last_60_days         0.863277\n",
       "attr_2                           0.160516\n",
       "user_id                         -0.808246\n",
       "attr_3                          -1.423477\n",
       "attr_1                          -1.674172\n",
       "row_id                          -3.744330\n",
       "subject_line_length             -5.735699\n",
       "Name: open_flag, dtype: float64"
      ]
     },
     "execution_count": 8,
     "metadata": {},
     "output_type": "execute_result"
    }
   ],
   "source": [
    "gabung.corr()['open_flag'].sort_values(ascending=False)*100"
   ]
  },
  {
   "cell_type": "code",
   "execution_count": 9,
   "metadata": {},
   "outputs": [
    {
     "data": {
      "text/html": [
       "<div>\n",
       "<style scoped>\n",
       "    .dataframe tbody tr th:only-of-type {\n",
       "        vertical-align: middle;\n",
       "    }\n",
       "\n",
       "    .dataframe tbody tr th {\n",
       "        vertical-align: top;\n",
       "    }\n",
       "\n",
       "    .dataframe thead th {\n",
       "        text-align: right;\n",
       "    }\n",
       "</style>\n",
       "<table border=\"1\" class=\"dataframe\">\n",
       "  <thead>\n",
       "    <tr style=\"text-align: right;\">\n",
       "      <th></th>\n",
       "      <th>country_code</th>\n",
       "      <th>grass_date</th>\n",
       "      <th>user_id</th>\n",
       "      <th>subject_line_length</th>\n",
       "      <th>last_open_day</th>\n",
       "      <th>last_login_day</th>\n",
       "      <th>last_checkout_day</th>\n",
       "      <th>open_count_last_10_days</th>\n",
       "      <th>open_count_last_30_days</th>\n",
       "      <th>open_count_last_60_days</th>\n",
       "      <th>...</th>\n",
       "      <th>checkout_count_last_10_days</th>\n",
       "      <th>checkout_count_last_30_days</th>\n",
       "      <th>checkout_count_last_60_days</th>\n",
       "      <th>open_flag</th>\n",
       "      <th>row_id</th>\n",
       "      <th>attr_1</th>\n",
       "      <th>attr_2</th>\n",
       "      <th>attr_3</th>\n",
       "      <th>age</th>\n",
       "      <th>domain</th>\n",
       "    </tr>\n",
       "  </thead>\n",
       "  <tbody>\n",
       "    <tr>\n",
       "      <th>0</th>\n",
       "      <td>4</td>\n",
       "      <td>2019-07-16 00:00:00+08:00</td>\n",
       "      <td>43</td>\n",
       "      <td>44</td>\n",
       "      <td>19</td>\n",
       "      <td>6</td>\n",
       "      <td>18</td>\n",
       "      <td>0</td>\n",
       "      <td>2</td>\n",
       "      <td>4</td>\n",
       "      <td>...</td>\n",
       "      <td>0</td>\n",
       "      <td>5</td>\n",
       "      <td>10</td>\n",
       "      <td>0</td>\n",
       "      <td>0</td>\n",
       "      <td>1.0</td>\n",
       "      <td>1.0</td>\n",
       "      <td>2.0</td>\n",
       "      <td>47.0</td>\n",
       "      <td>@gmail.com</td>\n",
       "    </tr>\n",
       "    <tr>\n",
       "      <th>1</th>\n",
       "      <td>4</td>\n",
       "      <td>2019-07-16 00:00:00+08:00</td>\n",
       "      <td>102</td>\n",
       "      <td>44</td>\n",
       "      <td>9</td>\n",
       "      <td>4</td>\n",
       "      <td>8</td>\n",
       "      <td>2</td>\n",
       "      <td>9</td>\n",
       "      <td>17</td>\n",
       "      <td>...</td>\n",
       "      <td>1</td>\n",
       "      <td>1</td>\n",
       "      <td>4</td>\n",
       "      <td>1</td>\n",
       "      <td>1</td>\n",
       "      <td>1.0</td>\n",
       "      <td>1.0</td>\n",
       "      <td>2.0</td>\n",
       "      <td>25.0</td>\n",
       "      <td>@hotmail.com</td>\n",
       "    </tr>\n",
       "    <tr>\n",
       "      <th>2</th>\n",
       "      <td>6</td>\n",
       "      <td>2019-07-16 00:00:00+08:00</td>\n",
       "      <td>177</td>\n",
       "      <td>49</td>\n",
       "      <td>14</td>\n",
       "      <td>5</td>\n",
       "      <td>5</td>\n",
       "      <td>0</td>\n",
       "      <td>4</td>\n",
       "      <td>12</td>\n",
       "      <td>...</td>\n",
       "      <td>5</td>\n",
       "      <td>19</td>\n",
       "      <td>27</td>\n",
       "      <td>0</td>\n",
       "      <td>2</td>\n",
       "      <td>NaN</td>\n",
       "      <td>1.0</td>\n",
       "      <td>0.0</td>\n",
       "      <td>NaN</td>\n",
       "      <td>@yahoo.com</td>\n",
       "    </tr>\n",
       "    <tr>\n",
       "      <th>3</th>\n",
       "      <td>1</td>\n",
       "      <td>2019-07-16 00:00:00+08:00</td>\n",
       "      <td>184</td>\n",
       "      <td>49</td>\n",
       "      <td>49</td>\n",
       "      <td>9</td>\n",
       "      <td>53</td>\n",
       "      <td>0</td>\n",
       "      <td>0</td>\n",
       "      <td>1</td>\n",
       "      <td>...</td>\n",
       "      <td>1</td>\n",
       "      <td>3</td>\n",
       "      <td>6</td>\n",
       "      <td>0</td>\n",
       "      <td>3</td>\n",
       "      <td>1.0</td>\n",
       "      <td>1.0</td>\n",
       "      <td>2.0</td>\n",
       "      <td>24.0</td>\n",
       "      <td>@yahoo.com</td>\n",
       "    </tr>\n",
       "    <tr>\n",
       "      <th>4</th>\n",
       "      <td>6</td>\n",
       "      <td>2019-07-16 00:00:00+08:00</td>\n",
       "      <td>221</td>\n",
       "      <td>49</td>\n",
       "      <td>227</td>\n",
       "      <td>6</td>\n",
       "      <td>221</td>\n",
       "      <td>0</td>\n",
       "      <td>0</td>\n",
       "      <td>0</td>\n",
       "      <td>...</td>\n",
       "      <td>0</td>\n",
       "      <td>0</td>\n",
       "      <td>0</td>\n",
       "      <td>0</td>\n",
       "      <td>4</td>\n",
       "      <td>NaN</td>\n",
       "      <td>1.0</td>\n",
       "      <td>0.0</td>\n",
       "      <td>NaN</td>\n",
       "      <td>@hotmail.com</td>\n",
       "    </tr>\n",
       "  </tbody>\n",
       "</table>\n",
       "<p>5 rows × 23 columns</p>\n",
       "</div>"
      ],
      "text/plain": [
       "   country_code                 grass_date  user_id  subject_line_length  \\\n",
       "0             4  2019-07-16 00:00:00+08:00       43                   44   \n",
       "1             4  2019-07-16 00:00:00+08:00      102                   44   \n",
       "2             6  2019-07-16 00:00:00+08:00      177                   49   \n",
       "3             1  2019-07-16 00:00:00+08:00      184                   49   \n",
       "4             6  2019-07-16 00:00:00+08:00      221                   49   \n",
       "\n",
       "  last_open_day last_login_day last_checkout_day  open_count_last_10_days  \\\n",
       "0            19              6                18                        0   \n",
       "1             9              4                 8                        2   \n",
       "2            14              5                 5                        0   \n",
       "3            49              9                53                        0   \n",
       "4           227              6               221                        0   \n",
       "\n",
       "   open_count_last_30_days  open_count_last_60_days  ...  \\\n",
       "0                        2                        4  ...   \n",
       "1                        9                       17  ...   \n",
       "2                        4                       12  ...   \n",
       "3                        0                        1  ...   \n",
       "4                        0                        0  ...   \n",
       "\n",
       "   checkout_count_last_10_days  checkout_count_last_30_days  \\\n",
       "0                            0                            5   \n",
       "1                            1                            1   \n",
       "2                            5                           19   \n",
       "3                            1                            3   \n",
       "4                            0                            0   \n",
       "\n",
       "   checkout_count_last_60_days  open_flag  row_id  attr_1  attr_2  attr_3  \\\n",
       "0                           10          0       0     1.0     1.0     2.0   \n",
       "1                            4          1       1     1.0     1.0     2.0   \n",
       "2                           27          0       2     NaN     1.0     0.0   \n",
       "3                            6          0       3     1.0     1.0     2.0   \n",
       "4                            0          0       4     NaN     1.0     0.0   \n",
       "\n",
       "    age        domain  \n",
       "0  47.0    @gmail.com  \n",
       "1  25.0  @hotmail.com  \n",
       "2   NaN    @yahoo.com  \n",
       "3  24.0    @yahoo.com  \n",
       "4   NaN  @hotmail.com  \n",
       "\n",
       "[5 rows x 23 columns]"
      ]
     },
     "execution_count": 9,
     "metadata": {},
     "output_type": "execute_result"
    }
   ],
   "source": [
    "gabung.head()"
   ]
  },
  {
   "cell_type": "code",
   "execution_count": 10,
   "metadata": {},
   "outputs": [
    {
     "data": {
      "text/html": [
       "<div>\n",
       "<style scoped>\n",
       "    .dataframe tbody tr th:only-of-type {\n",
       "        vertical-align: middle;\n",
       "    }\n",
       "\n",
       "    .dataframe tbody tr th {\n",
       "        vertical-align: top;\n",
       "    }\n",
       "\n",
       "    .dataframe thead th {\n",
       "        text-align: right;\n",
       "    }\n",
       "</style>\n",
       "<table border=\"1\" class=\"dataframe\">\n",
       "  <thead>\n",
       "    <tr style=\"text-align: right;\">\n",
       "      <th></th>\n",
       "      <th>country_code</th>\n",
       "      <th>user_id</th>\n",
       "      <th>subject_line_length</th>\n",
       "      <th>open_count_last_10_days</th>\n",
       "      <th>open_count_last_30_days</th>\n",
       "      <th>open_count_last_60_days</th>\n",
       "      <th>login_count_last_10_days</th>\n",
       "      <th>login_count_last_30_days</th>\n",
       "      <th>login_count_last_60_days</th>\n",
       "      <th>checkout_count_last_10_days</th>\n",
       "      <th>checkout_count_last_30_days</th>\n",
       "      <th>checkout_count_last_60_days</th>\n",
       "      <th>open_flag</th>\n",
       "      <th>row_id</th>\n",
       "      <th>attr_1</th>\n",
       "      <th>attr_2</th>\n",
       "      <th>attr_3</th>\n",
       "      <th>age</th>\n",
       "    </tr>\n",
       "  </thead>\n",
       "  <tbody>\n",
       "    <tr>\n",
       "      <th>count</th>\n",
       "      <td>73539.000000</td>\n",
       "      <td>73539.000000</td>\n",
       "      <td>73539.000000</td>\n",
       "      <td>73539.000000</td>\n",
       "      <td>73539.000000</td>\n",
       "      <td>73539.000000</td>\n",
       "      <td>73539.000000</td>\n",
       "      <td>73539.000000</td>\n",
       "      <td>73539.000000</td>\n",
       "      <td>73539.000000</td>\n",
       "      <td>73539.000000</td>\n",
       "      <td>73539.000000</td>\n",
       "      <td>73539.000000</td>\n",
       "      <td>73539.00000</td>\n",
       "      <td>45347.000000</td>\n",
       "      <td>73260.000000</td>\n",
       "      <td>73539.000000</td>\n",
       "      <td>45347.000000</td>\n",
       "    </tr>\n",
       "    <tr>\n",
       "      <th>mean</th>\n",
       "      <td>2.533159</td>\n",
       "      <td>63048.595358</td>\n",
       "      <td>43.656373</td>\n",
       "      <td>0.911829</td>\n",
       "      <td>2.780457</td>\n",
       "      <td>5.019364</td>\n",
       "      <td>8.382287</td>\n",
       "      <td>25.284053</td>\n",
       "      <td>49.010430</td>\n",
       "      <td>0.909898</td>\n",
       "      <td>2.796040</td>\n",
       "      <td>5.420960</td>\n",
       "      <td>0.155781</td>\n",
       "      <td>36769.00000</td>\n",
       "      <td>0.999757</td>\n",
       "      <td>0.997256</td>\n",
       "      <td>1.077863</td>\n",
       "      <td>31.445564</td>\n",
       "    </tr>\n",
       "    <tr>\n",
       "      <th>std</th>\n",
       "      <td>1.675251</td>\n",
       "      <td>36068.006037</td>\n",
       "      <td>11.219323</td>\n",
       "      <td>1.754052</td>\n",
       "      <td>4.570239</td>\n",
       "      <td>7.902313</td>\n",
       "      <td>13.424436</td>\n",
       "      <td>37.853189</td>\n",
       "      <td>71.819327</td>\n",
       "      <td>2.887416</td>\n",
       "      <td>7.686064</td>\n",
       "      <td>13.980182</td>\n",
       "      <td>0.362650</td>\n",
       "      <td>21229.02506</td>\n",
       "      <td>0.015573</td>\n",
       "      <td>0.052308</td>\n",
       "      <td>1.035252</td>\n",
       "      <td>11.797405</td>\n",
       "    </tr>\n",
       "    <tr>\n",
       "      <th>min</th>\n",
       "      <td>1.000000</td>\n",
       "      <td>2.000000</td>\n",
       "      <td>10.000000</td>\n",
       "      <td>0.000000</td>\n",
       "      <td>0.000000</td>\n",
       "      <td>0.000000</td>\n",
       "      <td>0.000000</td>\n",
       "      <td>0.000000</td>\n",
       "      <td>0.000000</td>\n",
       "      <td>0.000000</td>\n",
       "      <td>0.000000</td>\n",
       "      <td>0.000000</td>\n",
       "      <td>0.000000</td>\n",
       "      <td>0.00000</td>\n",
       "      <td>0.000000</td>\n",
       "      <td>0.000000</td>\n",
       "      <td>0.000000</td>\n",
       "      <td>-17.000000</td>\n",
       "    </tr>\n",
       "    <tr>\n",
       "      <th>25%</th>\n",
       "      <td>1.000000</td>\n",
       "      <td>31679.500000</td>\n",
       "      <td>34.000000</td>\n",
       "      <td>0.000000</td>\n",
       "      <td>0.000000</td>\n",
       "      <td>0.000000</td>\n",
       "      <td>0.000000</td>\n",
       "      <td>1.000000</td>\n",
       "      <td>3.000000</td>\n",
       "      <td>0.000000</td>\n",
       "      <td>0.000000</td>\n",
       "      <td>0.000000</td>\n",
       "      <td>0.000000</td>\n",
       "      <td>18384.50000</td>\n",
       "      <td>1.000000</td>\n",
       "      <td>1.000000</td>\n",
       "      <td>0.000000</td>\n",
       "      <td>24.000000</td>\n",
       "    </tr>\n",
       "    <tr>\n",
       "      <th>50%</th>\n",
       "      <td>2.000000</td>\n",
       "      <td>63340.000000</td>\n",
       "      <td>43.000000</td>\n",
       "      <td>0.000000</td>\n",
       "      <td>1.000000</td>\n",
       "      <td>2.000000</td>\n",
       "      <td>3.000000</td>\n",
       "      <td>11.000000</td>\n",
       "      <td>22.000000</td>\n",
       "      <td>0.000000</td>\n",
       "      <td>0.000000</td>\n",
       "      <td>1.000000</td>\n",
       "      <td>0.000000</td>\n",
       "      <td>36769.00000</td>\n",
       "      <td>1.000000</td>\n",
       "      <td>1.000000</td>\n",
       "      <td>1.000000</td>\n",
       "      <td>29.000000</td>\n",
       "    </tr>\n",
       "    <tr>\n",
       "      <th>75%</th>\n",
       "      <td>3.000000</td>\n",
       "      <td>94731.500000</td>\n",
       "      <td>52.000000</td>\n",
       "      <td>1.000000</td>\n",
       "      <td>3.000000</td>\n",
       "      <td>6.000000</td>\n",
       "      <td>12.000000</td>\n",
       "      <td>35.000000</td>\n",
       "      <td>69.000000</td>\n",
       "      <td>1.000000</td>\n",
       "      <td>3.000000</td>\n",
       "      <td>6.000000</td>\n",
       "      <td>0.000000</td>\n",
       "      <td>55153.50000</td>\n",
       "      <td>1.000000</td>\n",
       "      <td>1.000000</td>\n",
       "      <td>2.000000</td>\n",
       "      <td>36.000000</td>\n",
       "    </tr>\n",
       "    <tr>\n",
       "      <th>max</th>\n",
       "      <td>7.000000</td>\n",
       "      <td>127925.000000</td>\n",
       "      <td>75.000000</td>\n",
       "      <td>31.000000</td>\n",
       "      <td>92.000000</td>\n",
       "      <td>135.000000</td>\n",
       "      <td>254.000000</td>\n",
       "      <td>735.000000</td>\n",
       "      <td>1260.000000</td>\n",
       "      <td>157.000000</td>\n",
       "      <td>531.000000</td>\n",
       "      <td>783.000000</td>\n",
       "      <td>1.000000</td>\n",
       "      <td>73538.00000</td>\n",
       "      <td>1.000000</td>\n",
       "      <td>1.000000</td>\n",
       "      <td>4.000000</td>\n",
       "      <td>118.000000</td>\n",
       "    </tr>\n",
       "  </tbody>\n",
       "</table>\n",
       "</div>"
      ],
      "text/plain": [
       "       country_code        user_id  subject_line_length  \\\n",
       "count  73539.000000   73539.000000         73539.000000   \n",
       "mean       2.533159   63048.595358            43.656373   \n",
       "std        1.675251   36068.006037            11.219323   \n",
       "min        1.000000       2.000000            10.000000   \n",
       "25%        1.000000   31679.500000            34.000000   \n",
       "50%        2.000000   63340.000000            43.000000   \n",
       "75%        3.000000   94731.500000            52.000000   \n",
       "max        7.000000  127925.000000            75.000000   \n",
       "\n",
       "       open_count_last_10_days  open_count_last_30_days  \\\n",
       "count             73539.000000             73539.000000   \n",
       "mean                  0.911829                 2.780457   \n",
       "std                   1.754052                 4.570239   \n",
       "min                   0.000000                 0.000000   \n",
       "25%                   0.000000                 0.000000   \n",
       "50%                   0.000000                 1.000000   \n",
       "75%                   1.000000                 3.000000   \n",
       "max                  31.000000                92.000000   \n",
       "\n",
       "       open_count_last_60_days  login_count_last_10_days  \\\n",
       "count             73539.000000              73539.000000   \n",
       "mean                  5.019364                  8.382287   \n",
       "std                   7.902313                 13.424436   \n",
       "min                   0.000000                  0.000000   \n",
       "25%                   0.000000                  0.000000   \n",
       "50%                   2.000000                  3.000000   \n",
       "75%                   6.000000                 12.000000   \n",
       "max                 135.000000                254.000000   \n",
       "\n",
       "       login_count_last_30_days  login_count_last_60_days  \\\n",
       "count              73539.000000              73539.000000   \n",
       "mean                  25.284053                 49.010430   \n",
       "std                   37.853189                 71.819327   \n",
       "min                    0.000000                  0.000000   \n",
       "25%                    1.000000                  3.000000   \n",
       "50%                   11.000000                 22.000000   \n",
       "75%                   35.000000                 69.000000   \n",
       "max                  735.000000               1260.000000   \n",
       "\n",
       "       checkout_count_last_10_days  checkout_count_last_30_days  \\\n",
       "count                 73539.000000                 73539.000000   \n",
       "mean                      0.909898                     2.796040   \n",
       "std                       2.887416                     7.686064   \n",
       "min                       0.000000                     0.000000   \n",
       "25%                       0.000000                     0.000000   \n",
       "50%                       0.000000                     0.000000   \n",
       "75%                       1.000000                     3.000000   \n",
       "max                     157.000000                   531.000000   \n",
       "\n",
       "       checkout_count_last_60_days     open_flag       row_id        attr_1  \\\n",
       "count                 73539.000000  73539.000000  73539.00000  45347.000000   \n",
       "mean                      5.420960      0.155781  36769.00000      0.999757   \n",
       "std                      13.980182      0.362650  21229.02506      0.015573   \n",
       "min                       0.000000      0.000000      0.00000      0.000000   \n",
       "25%                       0.000000      0.000000  18384.50000      1.000000   \n",
       "50%                       1.000000      0.000000  36769.00000      1.000000   \n",
       "75%                       6.000000      0.000000  55153.50000      1.000000   \n",
       "max                     783.000000      1.000000  73538.00000      1.000000   \n",
       "\n",
       "             attr_2        attr_3           age  \n",
       "count  73260.000000  73539.000000  45347.000000  \n",
       "mean       0.997256      1.077863     31.445564  \n",
       "std        0.052308      1.035252     11.797405  \n",
       "min        0.000000      0.000000    -17.000000  \n",
       "25%        1.000000      0.000000     24.000000  \n",
       "50%        1.000000      1.000000     29.000000  \n",
       "75%        1.000000      2.000000     36.000000  \n",
       "max        1.000000      4.000000    118.000000  "
      ]
     },
     "execution_count": 10,
     "metadata": {},
     "output_type": "execute_result"
    }
   ],
   "source": [
    "gabung.describe()"
   ]
  },
  {
   "cell_type": "markdown",
   "metadata": {},
   "source": [
    "# 1. Feature Engineering"
   ]
  },
  {
   "cell_type": "markdown",
   "metadata": {},
   "source": [
    "## A. Country_code"
   ]
  },
  {
   "cell_type": "markdown",
   "metadata": {},
   "source": [
    "<img src='./interface/Negara.jpeg'>"
   ]
  },
  {
   "cell_type": "markdown",
   "metadata": {},
   "source": [
    "Country Code : \n",
    "- 1 : Singapore\n",
    "- 2 : Malaysia\n",
    "- 3 : Indonesia\n",
    "- 4 : Philippines\n",
    "- 5 : Taiwan\n",
    "- 6 : Thailand\n",
    "- 7 : Vietnam"
   ]
  },
  {
   "cell_type": "code",
   "execution_count": 11,
   "metadata": {},
   "outputs": [],
   "source": [
    "gabung['country']=pd.cut(gabung['country_code'],[0,1,2,3,4,5,6,7],labels=['Singapore','Malaysia','Indonesia','Philippines','Taiwan','Thailand','Vietnam'])"
   ]
  },
  {
   "cell_type": "markdown",
   "metadata": {},
   "source": [
    "## B. Grass Date\n",
    "\n",
    "From grass date, we are able to track on which day is the email were sent"
   ]
  },
  {
   "cell_type": "markdown",
   "metadata": {},
   "source": [
    "<img src='./interface/libur2019.png'>"
   ]
  },
  {
   "cell_type": "code",
   "execution_count": 12,
   "metadata": {},
   "outputs": [
    {
     "name": "stdout",
     "output_type": "stream",
     "text": [
      "Rentang Tanggal Data\n",
      "2019-09-02 00:00:00\n",
      "2019-07-16 00:00:00\n"
     ]
    }
   ],
   "source": [
    "gabung['grass_date']=[x.split()[0] for x in gabung['grass_date']]\n",
    "gabung['grass_date']=pd.to_datetime(gabung['grass_date'])\n",
    "gabung['day'] = pd.to_datetime(gabung['grass_date']).dt.day_name()\n",
    "print('Rentang Tanggal Data')\n",
    "print(gabung['grass_date'].max())\n",
    "print(gabung['grass_date'].min())"
   ]
  },
  {
   "cell_type": "markdown",
   "metadata": {},
   "source": [
    "From here, known that data range is 48 days. Started from July, 16 2019 untul September 2, 2019."
   ]
  },
  {
   "cell_type": "markdown",
   "metadata": {},
   "source": [
    "## C. Subject Length"
   ]
  },
  {
   "cell_type": "markdown",
   "metadata": {},
   "source": [
    "<img src='./interface/panjangkarakter.png'>\n",
    "<a href='https://mailchimp.com/help/best-practices-for-email-subject-lines/'>Sumber</a>\n",
    "\n",
    "Trying to categorizing based on these value"
   ]
  },
  {
   "cell_type": "code",
   "execution_count": 13,
   "metadata": {},
   "outputs": [],
   "source": [
    "gabung['character_length']=pd.cut(gabung['subject_line_length'],[0,60,76],labels=['ideal','not ideal'])"
   ]
  },
  {
   "cell_type": "markdown",
   "metadata": {},
   "source": [
    "## D. Last Open, Login, and Checkout Day\n",
    "\n"
   ]
  },
  {
   "cell_type": "markdown",
   "metadata": {},
   "source": [
    "Because of 'Never open, Never login, and never checkout', is the feature from user that never open email, open shopee account, or checkout from their shopee account, hence I will try to change the value to max data from each column."
   ]
  },
  {
   "cell_type": "code",
   "execution_count": 14,
   "metadata": {},
   "outputs": [],
   "source": [
    "gabung.loc[gabung['last_open_day']=='Never open', 'last_open_day']=np.nan\n",
    "gabung.loc[gabung['last_login_day']=='Never login', 'last_login_day']=np.nan\n",
    "gabung.loc[gabung['last_checkout_day']=='Never checkout', 'last_checkout_day']=np.nan\n",
    "\n",
    "gabung['last_open_day']=gabung['last_open_day'].astype(float)\n",
    "gabung['last_login_day']=gabung['last_login_day'].astype(float)\n",
    "gabung['last_checkout_day']=gabung['last_checkout_day'].astype(float)\n",
    "\n",
    "gabung.loc[gabung['last_login_day']==0, 'last_login_day']=1\n",
    "\n",
    "gabung['last_open_day'].fillna(gabung['last_open_day'].max(),inplace=True)\n",
    "gabung['last_login_day'].fillna(gabung['last_login_day'].max(),inplace=True)\n",
    "gabung['last_checkout_day'].fillna(gabung['last_checkout_day'].max(),inplace=True)\n"
   ]
  },
  {
   "cell_type": "markdown",
   "metadata": {},
   "source": [
    "Shopee, a Sea company, was first launched in Singapore in 2015, and has since expanded its reach to Malaysia, Thailand, Taiwan, Indonesia, Vietnam and the Philippines. Sea is a leader in digital entertainment, e-commerce and digital financial services across Greater Southeast Asia. \n",
    "\n",
    "Hence, last_login_day that has more than 5 years, will be dropped. (Total of 25 rows)"
   ]
  },
  {
   "cell_type": "code",
   "execution_count": 15,
   "metadata": {},
   "outputs": [],
   "source": [
    "nonsense1 = gabung[gabung['last_login_day']>1500]\n",
    "gabung = gabung.drop(nonsense1.index, axis = 0).reset_index(drop = True)"
   ]
  },
  {
   "cell_type": "markdown",
   "metadata": {},
   "source": [
    "Try to categorized per year"
   ]
  },
  {
   "cell_type": "code",
   "execution_count": 16,
   "metadata": {},
   "outputs": [],
   "source": [
    "gabung['last_time_open_email']=pd.cut(gabung['last_open_day'],[0,365,730,1095,1500],labels=['0-1 year','1-2 years','2-3 years','more than 3 years'])\n",
    "gabung['last_time_open_shopee']=pd.cut(gabung['last_login_day'],[0,365,730,1095,1500],labels=['0-1 year','1-2 years','2-3 years','more than 3 years'])\n",
    "gabung['last_time_checkout_shopee']=pd.cut(gabung['last_checkout_day'],[0,365,730,1095,1500],labels=['0-1 year','1-2 years','2-3 years','more than 3 years'])"
   ]
  },
  {
   "cell_type": "markdown",
   "metadata": {},
   "source": [
    "## E. Total Number of Open Email, Login, and Checkout Shopee\n",
    "\n",
    "Try to get average of number using this frequency formula: \n",
    "\n",
    "<img src='./interface/rumuscount.png'>"
   ]
  },
  {
   "cell_type": "code",
   "execution_count": 17,
   "metadata": {},
   "outputs": [],
   "source": [
    "def openfreq(a,b,c):\n",
    "    return ((a/10)+(b/30)+(c/60))/3\n",
    "def loginfreq(d,e,f):\n",
    "    return ((d/10)+(e/30)+(f/60))/3\n",
    "def checkoutfreq(g,h,i):\n",
    "    return ((g/10)+(h/30)+(i/60))/3"
   ]
  },
  {
   "cell_type": "code",
   "execution_count": 18,
   "metadata": {},
   "outputs": [],
   "source": [
    "gabung['open_frequency']=openfreq(gabung['open_count_last_10_days'],gabung['open_count_last_30_days'],gabung['open_count_last_60_days'])\n",
    "gabung['login_frequency']=loginfreq(gabung['login_count_last_10_days'],gabung['login_count_last_30_days'],gabung['login_count_last_60_days'])\n",
    "gabung['checkout_frequency']=checkoutfreq(gabung['checkout_count_last_10_days'],gabung['checkout_count_last_30_days'],gabung['checkout_count_last_60_days'])"
   ]
  },
  {
   "cell_type": "markdown",
   "metadata": {},
   "source": [
    "## F. Age\n"
   ]
  },
  {
   "cell_type": "markdown",
   "metadata": {},
   "source": [
    "IF YOU ARE UNDER 17 YEARS YEARS OLD OR NOT MARRIED AND UNDER OBTAINMENT, YOU MUST OBTAIN THE PARENTS OR GUARDIANS PERMISSION TO OPEN AN ACCOUNT AND THE PARENT OR GUARDIAN MUST AGREE TO THE TERMS OF THIS AGREEMENT.\n",
    "- Assumed that possible user age is 15-90 years old.\n",
    "- Negative age will be absoulted.\n",
    "- Age under 15 and above 90 will be changed to nan, and will be changed to median (because of the data is right skewed) using simple imputer in modelling."
   ]
  },
  {
   "cell_type": "code",
   "execution_count": 19,
   "metadata": {},
   "outputs": [],
   "source": [
    "gabung.loc[gabung['age']==-16,'age']=16\n",
    "gabung.loc[gabung['age']==-17,'age']=17\n",
    "gabung.loc[(gabung['age']>=90) | (gabung['age']<=15),'age']=np.nan"
   ]
  },
  {
   "cell_type": "code",
   "execution_count": 20,
   "metadata": {},
   "outputs": [
    {
     "data": {
      "text/plain": [
       "count    44390.000000\n",
       "mean        31.067808\n",
       "std          9.043049\n",
       "min         16.000000\n",
       "25%         24.000000\n",
       "50%         29.000000\n",
       "75%         36.000000\n",
       "max         81.000000\n",
       "Name: age, dtype: float64"
      ]
     },
     "execution_count": 20,
     "metadata": {},
     "output_type": "execute_result"
    }
   ],
   "source": [
    "gabung.describe()['age']"
   ]
  },
  {
   "cell_type": "code",
   "execution_count": 21,
   "metadata": {},
   "outputs": [
    {
     "data": {
      "text/plain": [
       "country_code                       0\n",
       "grass_date                         0\n",
       "user_id                            0\n",
       "subject_line_length                0\n",
       "last_open_day                      0\n",
       "last_login_day                     0\n",
       "last_checkout_day                  0\n",
       "open_count_last_10_days            0\n",
       "open_count_last_30_days            0\n",
       "open_count_last_60_days            0\n",
       "login_count_last_10_days           0\n",
       "login_count_last_30_days           0\n",
       "login_count_last_60_days           0\n",
       "checkout_count_last_10_days        0\n",
       "checkout_count_last_30_days        0\n",
       "checkout_count_last_60_days        0\n",
       "open_flag                          0\n",
       "row_id                             0\n",
       "attr_1                         28073\n",
       "attr_2                             0\n",
       "attr_3                             0\n",
       "age                            28846\n",
       "domain                             0\n",
       "country                            0\n",
       "day                                0\n",
       "character_length                   0\n",
       "last_time_open_email               0\n",
       "last_time_open_shopee              0\n",
       "last_time_checkout_shopee          0\n",
       "open_frequency                     0\n",
       "login_frequency                    0\n",
       "checkout_frequency                 0\n",
       "dtype: int64"
      ]
     },
     "execution_count": 21,
     "metadata": {},
     "output_type": "execute_result"
    }
   ],
   "source": [
    "gabung.isna().sum()"
   ]
  },
  {
   "cell_type": "markdown",
   "metadata": {},
   "source": [
    "## Kolmogorov and Smirnov Test"
   ]
  },
  {
   "cell_type": "markdown",
   "metadata": {},
   "source": [
    "<img src='./interface/kssw.png'>\n",
    "\n",
    "- H0 : Normal Distribuiton\n",
    "\n",
    "- H1 : Not Normal Distribution"
   ]
  },
  {
   "cell_type": "code",
   "execution_count": 22,
   "metadata": {},
   "outputs": [
    {
     "data": {
      "text/plain": [
       "(44390,)"
      ]
     },
     "execution_count": 22,
     "metadata": {},
     "output_type": "execute_result"
    }
   ],
   "source": [
    "hahaha = gabung['age']\n",
    "hahaha.dropna(inplace=True)\n",
    "hahaha.shape"
   ]
  },
  {
   "cell_type": "code",
   "execution_count": 23,
   "metadata": {},
   "outputs": [],
   "source": [
    "hahaha_sorted = np.sort(hahaha,axis=0)\n",
    "hahaha_sorted_scaled = (hahaha_sorted-hahaha_sorted.mean())/hahaha_sorted.std()\n",
    "hahaha_sorted_scaled1 = (hahaha_sorted-hahaha_sorted.min())/(hahaha_sorted.max()-hahaha_sorted.min())"
   ]
  },
  {
   "cell_type": "code",
   "execution_count": 24,
   "metadata": {},
   "outputs": [],
   "source": [
    "normal_numbers = np.random.normal(loc=0, scale=1, size=np.size(hahaha_sorted_scaled1))\n",
    "normal_numbers = np.sort(normal_numbers)"
   ]
  },
  {
   "cell_type": "code",
   "execution_count": 25,
   "metadata": {},
   "outputs": [
    {
     "data": {
      "image/png": "[encoded data removed]",
      "text/plain": [
       "<Figure size 432x288 with 1 Axes>"
      ]
     },
     "metadata": {
      "needs_background": "light"
     },
     "output_type": "display_data"
    }
   ],
   "source": [
    "sns.histplot(hahaha_sorted_scaled1,kde=True)\n",
    "plt.show()"
   ]
  },
  {
   "cell_type": "code",
   "execution_count": 26,
   "metadata": {},
   "outputs": [
    {
     "data": {
      "image/png": "[encoded data removed]",
      "text/plain": [
       "<Figure size 360x288 with 1 Axes>"
      ]
     },
     "metadata": {
      "needs_background": "light"
     },
     "output_type": "display_data"
    }
   ],
   "source": [
    "pg.qqplot(hahaha_sorted_scaled1,dist='norm')\n",
    "plt.show()"
   ]
  },
  {
   "cell_type": "code",
   "execution_count": 27,
   "metadata": {},
   "outputs": [
    {
     "data": {
      "image/png": "[encoded data removed]",
      "text/plain": [
       "<Figure size 432x288 with 1 Axes>"
      ]
     },
     "metadata": {
      "needs_background": "light"
     },
     "output_type": "display_data"
    }
   ],
   "source": [
    "plt.plot(hahaha_sorted_scaled1,'.')\n",
    "plt.show()"
   ]
  },
  {
   "cell_type": "code",
   "execution_count": 28,
   "metadata": {},
   "outputs": [
    {
     "data": {
      "text/plain": [
       "KstestResult(statistic=0.501329128182023, pvalue=0.0)"
      ]
     },
     "execution_count": 28,
     "metadata": {},
     "output_type": "execute_result"
    }
   ],
   "source": [
    "stats.ks_2samp(hahaha_sorted_scaled1,normal_numbers)"
   ]
  },
  {
   "cell_type": "code",
   "execution_count": 29,
   "metadata": {},
   "outputs": [
    {
     "data": {
      "text/plain": [
       "KstestResult(statistic=0.5017978781754234, pvalue=0.0)"
      ]
     },
     "execution_count": 29,
     "metadata": {},
     "output_type": "execute_result"
    }
   ],
   "source": [
    "stats.kstest(hahaha_sorted_scaled1,'norm')"
   ]
  },
  {
   "cell_type": "code",
   "execution_count": 30,
   "metadata": {},
   "outputs": [
    {
     "name": "stdout",
     "output_type": "stream",
     "text": [
      "not normal\n",
      "0.0\n",
      "0.5017978781754234\n"
     ]
    }
   ],
   "source": [
    "stat, pval = stats.kstest(hahaha_sorted_scaled1,'norm')\n",
    "D_alpha = 1.35810/np.sqrt(len(hahaha)) \n",
    "if stat<D_alpha:\n",
    "    print('normal')\n",
    "else:\n",
    "    print('not normal')\n",
    "print(pval)\n",
    "print(stat)"
   ]
  },
  {
   "cell_type": "markdown",
   "metadata": {},
   "source": [
    "Because of the data is not normal,tried to fill missing value using median."
   ]
  },
  {
   "cell_type": "markdown",
   "metadata": {},
   "source": [
    "## KS Test Manual"
   ]
  },
  {
   "cell_type": "code",
   "execution_count": 31,
   "metadata": {},
   "outputs": [
    {
     "data": {
      "text/plain": [
       "44390"
      ]
     },
     "execution_count": 31,
     "metadata": {},
     "output_type": "execute_result"
    }
   ],
   "source": [
    "n=len(hahaha_sorted)\n",
    "n"
   ]
  },
  {
   "cell_type": "code",
   "execution_count": 32,
   "metadata": {},
   "outputs": [],
   "source": [
    "i = []\n",
    "for x in range(1,n+1):\n",
    "    i.append(x)"
   ]
  },
  {
   "cell_type": "code",
   "execution_count": 33,
   "metadata": {},
   "outputs": [
    {
     "data": {
      "text/plain": [
       "44390"
      ]
     },
     "execution_count": 33,
     "metadata": {},
     "output_type": "execute_result"
    }
   ],
   "source": [
    "len(i)"
   ]
  },
  {
   "cell_type": "code",
   "execution_count": 34,
   "metadata": {},
   "outputs": [
    {
     "data": {
      "text/html": [
       "<div>\n",
       "<style scoped>\n",
       "    .dataframe tbody tr th:only-of-type {\n",
       "        vertical-align: middle;\n",
       "    }\n",
       "\n",
       "    .dataframe tbody tr th {\n",
       "        vertical-align: top;\n",
       "    }\n",
       "\n",
       "    .dataframe thead th {\n",
       "        text-align: right;\n",
       "    }\n",
       "</style>\n",
       "<table border=\"1\" class=\"dataframe\">\n",
       "  <thead>\n",
       "    <tr style=\"text-align: right;\">\n",
       "      <th></th>\n",
       "      <th>i</th>\n",
       "      <th>age</th>\n",
       "      <th>D+</th>\n",
       "      <th>D-</th>\n",
       "    </tr>\n",
       "  </thead>\n",
       "  <tbody>\n",
       "    <tr>\n",
       "      <th>0</th>\n",
       "      <td>1</td>\n",
       "      <td>0.000000</td>\n",
       "      <td>0.000022</td>\n",
       "      <td>0.000000</td>\n",
       "    </tr>\n",
       "    <tr>\n",
       "      <th>1</th>\n",
       "      <td>2</td>\n",
       "      <td>0.000000</td>\n",
       "      <td>0.000045</td>\n",
       "      <td>-0.000022</td>\n",
       "    </tr>\n",
       "    <tr>\n",
       "      <th>2</th>\n",
       "      <td>3</td>\n",
       "      <td>0.000000</td>\n",
       "      <td>0.000067</td>\n",
       "      <td>-0.000045</td>\n",
       "    </tr>\n",
       "    <tr>\n",
       "      <th>3</th>\n",
       "      <td>4</td>\n",
       "      <td>0.000000</td>\n",
       "      <td>0.000090</td>\n",
       "      <td>-0.000067</td>\n",
       "    </tr>\n",
       "    <tr>\n",
       "      <th>4</th>\n",
       "      <td>5</td>\n",
       "      <td>0.000000</td>\n",
       "      <td>0.000112</td>\n",
       "      <td>-0.000090</td>\n",
       "    </tr>\n",
       "    <tr>\n",
       "      <th>...</th>\n",
       "      <td>...</td>\n",
       "      <td>...</td>\n",
       "      <td>...</td>\n",
       "      <td>...</td>\n",
       "    </tr>\n",
       "    <tr>\n",
       "      <th>44385</th>\n",
       "      <td>44386</td>\n",
       "      <td>0.923077</td>\n",
       "      <td>0.072795</td>\n",
       "      <td>-0.072772</td>\n",
       "    </tr>\n",
       "    <tr>\n",
       "      <th>44386</th>\n",
       "      <td>44387</td>\n",
       "      <td>0.923077</td>\n",
       "      <td>0.072817</td>\n",
       "      <td>-0.072795</td>\n",
       "    </tr>\n",
       "    <tr>\n",
       "      <th>44387</th>\n",
       "      <td>44388</td>\n",
       "      <td>0.984615</td>\n",
       "      <td>0.011301</td>\n",
       "      <td>-0.011279</td>\n",
       "    </tr>\n",
       "    <tr>\n",
       "      <th>44388</th>\n",
       "      <td>44389</td>\n",
       "      <td>1.000000</td>\n",
       "      <td>-0.004061</td>\n",
       "      <td>0.004083</td>\n",
       "    </tr>\n",
       "    <tr>\n",
       "      <th>44389</th>\n",
       "      <td>44390</td>\n",
       "      <td>1.000000</td>\n",
       "      <td>-0.004039</td>\n",
       "      <td>0.004061</td>\n",
       "    </tr>\n",
       "  </tbody>\n",
       "</table>\n",
       "<p>44390 rows × 4 columns</p>\n",
       "</div>"
      ],
      "text/plain": [
       "           i       age        D+        D-\n",
       "0          1  0.000000  0.000022  0.000000\n",
       "1          2  0.000000  0.000045 -0.000022\n",
       "2          3  0.000000  0.000067 -0.000045\n",
       "3          4  0.000000  0.000090 -0.000067\n",
       "4          5  0.000000  0.000112 -0.000090\n",
       "...      ...       ...       ...       ...\n",
       "44385  44386  0.923077  0.072795 -0.072772\n",
       "44386  44387  0.923077  0.072817 -0.072795\n",
       "44387  44388  0.984615  0.011301 -0.011279\n",
       "44388  44389  1.000000 -0.004061  0.004083\n",
       "44389  44390  1.000000 -0.004039  0.004061\n",
       "\n",
       "[44390 rows x 4 columns]"
      ]
     },
     "execution_count": 34,
     "metadata": {},
     "output_type": "execute_result"
    }
   ],
   "source": [
    "asd = pd.DataFrame({\n",
    "    'i':i,\n",
    "    'age':hahaha_sorted_scaled1\n",
    "})\n",
    "asd['D+']=((asd['i']/44570)-asd['age'])\n",
    "asd['D-']=(asd['age']-((asd['i']-1)/44570))\n",
    "asd"
   ]
  },
  {
   "cell_type": "code",
   "execution_count": 35,
   "metadata": {},
   "outputs": [
    {
     "name": "stdout",
     "output_type": "stream",
     "text": [
      "0.48089953573462657\n",
      "0.024323018242695157\n"
     ]
    }
   ],
   "source": [
    "print(asd['D+'].max())\n",
    "print(asd['D-'].max())"
   ]
  },
  {
   "cell_type": "markdown",
   "metadata": {},
   "source": [
    "<img src='./interface/kstable.png'>"
   ]
  },
  {
   "cell_type": "code",
   "execution_count": 36,
   "metadata": {},
   "outputs": [
    {
     "data": {
      "text/plain": [
       "0.006445983310056043"
      ]
     },
     "execution_count": 36,
     "metadata": {},
     "output_type": "execute_result"
    }
   ],
   "source": [
    "D_alpha = 1.35810/np.sqrt(len(hahaha))\n",
    "D_alpha"
   ]
  },
  {
   "cell_type": "markdown",
   "metadata": {},
   "source": [
    "D.max (0.484) > D_alpha (0.006) --> H0 Rejected. (Not Normal)"
   ]
  },
  {
   "cell_type": "markdown",
   "metadata": {},
   "source": [
    "## G. Domain"
   ]
  },
  {
   "cell_type": "code",
   "execution_count": 37,
   "metadata": {},
   "outputs": [
    {
     "data": {
      "text/plain": [
       "@gmail.com         85.246327\n",
       "@yahoo.com          7.015675\n",
       "@hotmail.com        3.993937\n",
       "other               1.616691\n",
       "@icloud.com         0.596701\n",
       "@qq.com             0.461522\n",
       "@outlook.com        0.353651\n",
       "@ymail.com          0.264897\n",
       "@live.com           0.230761\n",
       "@163.com            0.147468\n",
       "@rocketmail.com     0.072369\n",
       "Name: domain, dtype: float64"
      ]
     },
     "execution_count": 37,
     "metadata": {},
     "output_type": "execute_result"
    }
   ],
   "source": [
    "gabung['domain'].value_counts(normalize=True)*100"
   ]
  },
  {
   "cell_type": "markdown",
   "metadata": {},
   "source": [
    "### Grouping domain as gmail, yahoo, and others"
   ]
  },
  {
   "cell_type": "code",
   "execution_count": 38,
   "metadata": {},
   "outputs": [],
   "source": [
    "gabung.loc[(gabung['domain']!='@gmail.com') & (gabung['domain']!='@yahoo.com'),'domain']='other'"
   ]
  },
  {
   "cell_type": "code",
   "execution_count": 39,
   "metadata": {},
   "outputs": [
    {
     "data": {
      "text/plain": [
       "@gmail.com    85.246327\n",
       "other          7.737998\n",
       "@yahoo.com     7.015675\n",
       "Name: domain, dtype: float64"
      ]
     },
     "execution_count": 39,
     "metadata": {},
     "output_type": "execute_result"
    }
   ],
   "source": [
    "gabung['domain'].value_counts(normalize=True)*100"
   ]
  },
  {
   "cell_type": "markdown",
   "metadata": {},
   "source": [
    "## H. Attr 1,2, & 3"
   ]
  },
  {
   "cell_type": "code",
   "execution_count": 40,
   "metadata": {},
   "outputs": [
    {
     "data": {
      "text/plain": [
       "open_flag                      100.000000\n",
       "open_frequency                  52.808274\n",
       "open_count_last_10_days         51.753292\n",
       "open_count_last_30_days         51.027054\n",
       "open_count_last_60_days         48.005703\n",
       "country_code                    15.860649\n",
       "age                             11.379525\n",
       "checkout_count_last_10_days      1.543405\n",
       "checkout_frequency               1.392632\n",
       "login_count_last_10_days         1.377990\n",
       "checkout_count_last_30_days      1.344182\n",
       "coba1                            1.319958\n",
       "login_frequency                  1.106871\n",
       "checkout_count_last_60_days      1.024915\n",
       "login_count_last_30_days         0.993898\n",
       "login_count_last_60_days         0.839006\n",
       "attr_2                           0.160299\n",
       "last_login_day                  -0.135062\n",
       "user_id                         -0.684910\n",
       "attr_3                          -1.454131\n",
       "attr_1                          -1.681698\n",
       "last_checkout_day               -2.705234\n",
       "row_id                          -3.617096\n",
       "subject_line_length             -5.866896\n",
       "last_open_day                  -12.862844\n",
       "Name: open_flag, dtype: float64"
      ]
     },
     "execution_count": 40,
     "metadata": {},
     "output_type": "execute_result"
    }
   ],
   "source": [
    "conditions = [(gabung['attr_1'] < 1) & (gabung['attr_2'] > 0) & (gabung['attr_3'] >= 0)]\n",
    "\n",
    "values = ['1']\n",
    "\n",
    "gabung['coba1'] = np.select(conditions, values)\n",
    "gabung['coba1']=gabung['coba1'].astype(int)\n",
    "korelasi = gabung.corr()['open_flag'].sort_values(ascending=False)*100\n",
    "korelasi"
   ]
  },
  {
   "cell_type": "markdown",
   "metadata": {},
   "source": [
    "After trying some best pattern for getting best correlation between attribute 1,2 and 3, found best pattern which is :\n",
    "- Attr 1 : 0\n",
    "- Attr 2 : 1\n",
    "- Attr 3 : 0-4\n",
    "\n",
    "Best combination only resulting correlation around 1% to open_flag(coba1). Hence, attr 1,2, & 3 will be dropped."
   ]
  },
  {
   "cell_type": "code",
   "execution_count": 41,
   "metadata": {},
   "outputs": [
    {
     "data": {
      "text/html": [
       "<div>\n",
       "<style scoped>\n",
       "    .dataframe tbody tr th:only-of-type {\n",
       "        vertical-align: middle;\n",
       "    }\n",
       "\n",
       "    .dataframe tbody tr th {\n",
       "        vertical-align: top;\n",
       "    }\n",
       "\n",
       "    .dataframe thead th {\n",
       "        text-align: right;\n",
       "    }\n",
       "</style>\n",
       "<table border=\"1\" class=\"dataframe\">\n",
       "  <thead>\n",
       "    <tr style=\"text-align: right;\">\n",
       "      <th></th>\n",
       "      <th>country_code</th>\n",
       "      <th>user_id</th>\n",
       "      <th>subject_line_length</th>\n",
       "      <th>last_open_day</th>\n",
       "      <th>last_login_day</th>\n",
       "      <th>last_checkout_day</th>\n",
       "      <th>open_count_last_10_days</th>\n",
       "      <th>open_count_last_30_days</th>\n",
       "      <th>open_count_last_60_days</th>\n",
       "      <th>login_count_last_10_days</th>\n",
       "      <th>...</th>\n",
       "      <th>open_flag</th>\n",
       "      <th>row_id</th>\n",
       "      <th>attr_1</th>\n",
       "      <th>attr_2</th>\n",
       "      <th>attr_3</th>\n",
       "      <th>age</th>\n",
       "      <th>open_frequency</th>\n",
       "      <th>login_frequency</th>\n",
       "      <th>checkout_frequency</th>\n",
       "      <th>coba1</th>\n",
       "    </tr>\n",
       "  </thead>\n",
       "  <tbody>\n",
       "    <tr>\n",
       "      <th>count</th>\n",
       "      <td>73236.000000</td>\n",
       "      <td>73236.000000</td>\n",
       "      <td>73236.000000</td>\n",
       "      <td>73236.000000</td>\n",
       "      <td>73236.000000</td>\n",
       "      <td>73236.000000</td>\n",
       "      <td>73236.000000</td>\n",
       "      <td>73236.000000</td>\n",
       "      <td>73236.000000</td>\n",
       "      <td>73236.00000</td>\n",
       "      <td>...</td>\n",
       "      <td>73236.000000</td>\n",
       "      <td>73236.000000</td>\n",
       "      <td>45163.000000</td>\n",
       "      <td>73236.000000</td>\n",
       "      <td>73236.000000</td>\n",
       "      <td>44390.000000</td>\n",
       "      <td>73236.000000</td>\n",
       "      <td>73236.000000</td>\n",
       "      <td>73236.000000</td>\n",
       "      <td>73236.000000</td>\n",
       "    </tr>\n",
       "    <tr>\n",
       "      <th>mean</th>\n",
       "      <td>2.527336</td>\n",
       "      <td>63171.653736</td>\n",
       "      <td>43.624857</td>\n",
       "      <td>109.335341</td>\n",
       "      <td>47.426170</td>\n",
       "      <td>389.417267</td>\n",
       "      <td>0.914550</td>\n",
       "      <td>2.789038</td>\n",
       "      <td>5.034560</td>\n",
       "      <td>8.37558</td>\n",
       "      <td>...</td>\n",
       "      <td>0.155347</td>\n",
       "      <td>36851.325919</td>\n",
       "      <td>0.999756</td>\n",
       "      <td>0.997255</td>\n",
       "      <td>1.077271</td>\n",
       "      <td>31.067808</td>\n",
       "      <td>0.089444</td>\n",
       "      <td>0.831959</td>\n",
       "      <td>0.091527</td>\n",
       "      <td>0.000150</td>\n",
       "    </tr>\n",
       "    <tr>\n",
       "      <th>std</th>\n",
       "      <td>1.675662</td>\n",
       "      <td>36002.984750</td>\n",
       "      <td>11.220774</td>\n",
       "      <td>237.176151</td>\n",
       "      <td>110.509655</td>\n",
       "      <td>588.325692</td>\n",
       "      <td>1.756321</td>\n",
       "      <td>4.575717</td>\n",
       "      <td>7.912239</td>\n",
       "      <td>13.42605</td>\n",
       "      <td>...</td>\n",
       "      <td>0.362238</td>\n",
       "      <td>21218.608566</td>\n",
       "      <td>0.015605</td>\n",
       "      <td>0.052317</td>\n",
       "      <td>1.034608</td>\n",
       "      <td>9.043049</td>\n",
       "      <td>0.146460</td>\n",
       "      <td>1.237328</td>\n",
       "      <td>0.246578</td>\n",
       "      <td>0.012255</td>\n",
       "    </tr>\n",
       "    <tr>\n",
       "      <th>min</th>\n",
       "      <td>1.000000</td>\n",
       "      <td>2.000000</td>\n",
       "      <td>10.000000</td>\n",
       "      <td>1.000000</td>\n",
       "      <td>1.000000</td>\n",
       "      <td>1.000000</td>\n",
       "      <td>0.000000</td>\n",
       "      <td>0.000000</td>\n",
       "      <td>0.000000</td>\n",
       "      <td>0.00000</td>\n",
       "      <td>...</td>\n",
       "      <td>0.000000</td>\n",
       "      <td>0.000000</td>\n",
       "      <td>0.000000</td>\n",
       "      <td>0.000000</td>\n",
       "      <td>0.000000</td>\n",
       "      <td>16.000000</td>\n",
       "      <td>0.000000</td>\n",
       "      <td>0.000000</td>\n",
       "      <td>0.000000</td>\n",
       "      <td>0.000000</td>\n",
       "    </tr>\n",
       "    <tr>\n",
       "      <th>25%</th>\n",
       "      <td>1.000000</td>\n",
       "      <td>31927.250000</td>\n",
       "      <td>34.000000</td>\n",
       "      <td>6.000000</td>\n",
       "      <td>3.000000</td>\n",
       "      <td>10.000000</td>\n",
       "      <td>0.000000</td>\n",
       "      <td>0.000000</td>\n",
       "      <td>0.000000</td>\n",
       "      <td>0.00000</td>\n",
       "      <td>...</td>\n",
       "      <td>0.000000</td>\n",
       "      <td>18573.750000</td>\n",
       "      <td>1.000000</td>\n",
       "      <td>1.000000</td>\n",
       "      <td>0.000000</td>\n",
       "      <td>24.000000</td>\n",
       "      <td>0.000000</td>\n",
       "      <td>0.038889</td>\n",
       "      <td>0.000000</td>\n",
       "      <td>0.000000</td>\n",
       "    </tr>\n",
       "    <tr>\n",
       "      <th>50%</th>\n",
       "      <td>2.000000</td>\n",
       "      <td>63496.000000</td>\n",
       "      <td>43.000000</td>\n",
       "      <td>18.000000</td>\n",
       "      <td>8.000000</td>\n",
       "      <td>44.000000</td>\n",
       "      <td>0.000000</td>\n",
       "      <td>1.000000</td>\n",
       "      <td>2.000000</td>\n",
       "      <td>3.00000</td>\n",
       "      <td>...</td>\n",
       "      <td>0.000000</td>\n",
       "      <td>36891.500000</td>\n",
       "      <td>1.000000</td>\n",
       "      <td>1.000000</td>\n",
       "      <td>1.000000</td>\n",
       "      <td>29.000000</td>\n",
       "      <td>0.027778</td>\n",
       "      <td>0.366667</td>\n",
       "      <td>0.016667</td>\n",
       "      <td>0.000000</td>\n",
       "    </tr>\n",
       "    <tr>\n",
       "      <th>75%</th>\n",
       "      <td>3.000000</td>\n",
       "      <td>94781.500000</td>\n",
       "      <td>52.000000</td>\n",
       "      <td>55.000000</td>\n",
       "      <td>26.000000</td>\n",
       "      <td>459.250000</td>\n",
       "      <td>1.000000</td>\n",
       "      <td>3.000000</td>\n",
       "      <td>6.000000</td>\n",
       "      <td>12.00000</td>\n",
       "      <td>...</td>\n",
       "      <td>0.000000</td>\n",
       "      <td>55219.250000</td>\n",
       "      <td>1.000000</td>\n",
       "      <td>1.000000</td>\n",
       "      <td>2.000000</td>\n",
       "      <td>36.000000</td>\n",
       "      <td>0.105556</td>\n",
       "      <td>1.161111</td>\n",
       "      <td>0.094444</td>\n",
       "      <td>0.000000</td>\n",
       "    </tr>\n",
       "    <tr>\n",
       "      <th>max</th>\n",
       "      <td>7.000000</td>\n",
       "      <td>127925.000000</td>\n",
       "      <td>75.000000</td>\n",
       "      <td>808.000000</td>\n",
       "      <td>1445.000000</td>\n",
       "      <td>1445.000000</td>\n",
       "      <td>31.000000</td>\n",
       "      <td>92.000000</td>\n",
       "      <td>135.000000</td>\n",
       "      <td>254.00000</td>\n",
       "      <td>...</td>\n",
       "      <td>1.000000</td>\n",
       "      <td>73538.000000</td>\n",
       "      <td>1.000000</td>\n",
       "      <td>1.000000</td>\n",
       "      <td>4.000000</td>\n",
       "      <td>81.000000</td>\n",
       "      <td>2.805556</td>\n",
       "      <td>23.633333</td>\n",
       "      <td>15.483333</td>\n",
       "      <td>1.000000</td>\n",
       "    </tr>\n",
       "  </tbody>\n",
       "</table>\n",
       "<p>8 rows × 25 columns</p>\n",
       "</div>"
      ],
      "text/plain": [
       "       country_code        user_id  subject_line_length  last_open_day  \\\n",
       "count  73236.000000   73236.000000         73236.000000   73236.000000   \n",
       "mean       2.527336   63171.653736            43.624857     109.335341   \n",
       "std        1.675662   36002.984750            11.220774     237.176151   \n",
       "min        1.000000       2.000000            10.000000       1.000000   \n",
       "25%        1.000000   31927.250000            34.000000       6.000000   \n",
       "50%        2.000000   63496.000000            43.000000      18.000000   \n",
       "75%        3.000000   94781.500000            52.000000      55.000000   \n",
       "max        7.000000  127925.000000            75.000000     808.000000   \n",
       "\n",
       "       last_login_day  last_checkout_day  open_count_last_10_days  \\\n",
       "count    73236.000000       73236.000000             73236.000000   \n",
       "mean        47.426170         389.417267                 0.914550   \n",
       "std        110.509655         588.325692                 1.756321   \n",
       "min          1.000000           1.000000                 0.000000   \n",
       "25%          3.000000          10.000000                 0.000000   \n",
       "50%          8.000000          44.000000                 0.000000   \n",
       "75%         26.000000         459.250000                 1.000000   \n",
       "max       1445.000000        1445.000000                31.000000   \n",
       "\n",
       "       open_count_last_30_days  open_count_last_60_days  \\\n",
       "count             73236.000000             73236.000000   \n",
       "mean                  2.789038                 5.034560   \n",
       "std                   4.575717                 7.912239   \n",
       "min                   0.000000                 0.000000   \n",
       "25%                   0.000000                 0.000000   \n",
       "50%                   1.000000                 2.000000   \n",
       "75%                   3.000000                 6.000000   \n",
       "max                  92.000000               135.000000   \n",
       "\n",
       "       login_count_last_10_days  ...     open_flag        row_id  \\\n",
       "count               73236.00000  ...  73236.000000  73236.000000   \n",
       "mean                    8.37558  ...      0.155347  36851.325919   \n",
       "std                    13.42605  ...      0.362238  21218.608566   \n",
       "min                     0.00000  ...      0.000000      0.000000   \n",
       "25%                     0.00000  ...      0.000000  18573.750000   \n",
       "50%                     3.00000  ...      0.000000  36891.500000   \n",
       "75%                    12.00000  ...      0.000000  55219.250000   \n",
       "max                   254.00000  ...      1.000000  73538.000000   \n",
       "\n",
       "             attr_1        attr_2        attr_3           age  open_frequency  \\\n",
       "count  45163.000000  73236.000000  73236.000000  44390.000000    73236.000000   \n",
       "mean       0.999756      0.997255      1.077271     31.067808        0.089444   \n",
       "std        0.015605      0.052317      1.034608      9.043049        0.146460   \n",
       "min        0.000000      0.000000      0.000000     16.000000        0.000000   \n",
       "25%        1.000000      1.000000      0.000000     24.000000        0.000000   \n",
       "50%        1.000000      1.000000      1.000000     29.000000        0.027778   \n",
       "75%        1.000000      1.000000      2.000000     36.000000        0.105556   \n",
       "max        1.000000      1.000000      4.000000     81.000000        2.805556   \n",
       "\n",
       "       login_frequency  checkout_frequency         coba1  \n",
       "count     73236.000000        73236.000000  73236.000000  \n",
       "mean          0.831959            0.091527      0.000150  \n",
       "std           1.237328            0.246578      0.012255  \n",
       "min           0.000000            0.000000      0.000000  \n",
       "25%           0.038889            0.000000      0.000000  \n",
       "50%           0.366667            0.016667      0.000000  \n",
       "75%           1.161111            0.094444      0.000000  \n",
       "max          23.633333           15.483333      1.000000  \n",
       "\n",
       "[8 rows x 25 columns]"
      ]
     },
     "execution_count": 41,
     "metadata": {},
     "output_type": "execute_result"
    }
   ],
   "source": [
    "gabung.describe()"
   ]
  },
  {
   "cell_type": "markdown",
   "metadata": {},
   "source": [
    "# 2. Feature Selection\n",
    "\n",
    "Some column that will be dropped :\n",
    "1. attr_1 : Not correlated to open_flag\n",
    "1. attr_2 : Not correlated to open_flag\n",
    "1. attr_3 : Not correlated to open_flag\n",
    "1. coba1 : Not correlated to open_flag\n",
    "1. user_id : Not correlated to open_flag\n",
    "1. row_id : Not correlated to open_flag\n",
    "1. grass_date : Changed by day\n",
    "1. open_count_last 10,30,60 days : Changed by open_frequency\n",
    "1. login_count_last 10,30,60 days : Changed by login_frequency\n",
    "1. checkout_count_last 10,30,60 days : Changed by checkout_frequency\n",
    "1. subject_line_length : Changed by character_length\n",
    "1. last_open_day : Changed by last_open_email\n",
    "1. last_login_day : Changed by last_login_shopee\n",
    "1. last_checkout_day : Changed by last_checkout_shopee\n",
    "1. country_code : Changed by country"
   ]
  },
  {
   "cell_type": "markdown",
   "metadata": {},
   "source": [
    "### awal.csv adalah data untuk pembanding data sebelum dan sesudah dikategorikan"
   ]
  },
  {
   "cell_type": "code",
   "execution_count": 42,
   "metadata": {},
   "outputs": [],
   "source": [
    "gabung.to_csv('./static/awal.csv')"
   ]
  },
  {
   "cell_type": "code",
   "execution_count": 43,
   "metadata": {},
   "outputs": [],
   "source": [
    "gabung.drop(['attr_1','attr_2','attr_3','coba1','user_id','row_id','grass_date',\n",
    "             'open_count_last_10_days','open_count_last_30_days','open_count_last_60_days',\n",
    "             'login_count_last_10_days','login_count_last_30_days','login_count_last_60_days',\n",
    "             'checkout_count_last_10_days','checkout_count_last_30_days','checkout_count_last_60_days',\n",
    "            'subject_line_length','last_open_day','last_login_day','last_checkout_day','country_code'],axis=1,inplace=True)"
   ]
  },
  {
   "cell_type": "code",
   "execution_count": 44,
   "metadata": {},
   "outputs": [
    {
     "data": {
      "text/plain": [
       "age                          28846\n",
       "checkout_frequency               0\n",
       "login_frequency                  0\n",
       "open_frequency                   0\n",
       "last_time_checkout_shopee        0\n",
       "last_time_open_shopee            0\n",
       "last_time_open_email             0\n",
       "character_length                 0\n",
       "day                              0\n",
       "country                          0\n",
       "domain                           0\n",
       "open_flag                        0\n",
       "dtype: int64"
      ]
     },
     "execution_count": 44,
     "metadata": {},
     "output_type": "execute_result"
    }
   ],
   "source": [
    "gabung.isna().sum().sort_values(ascending=False)"
   ]
  },
  {
   "cell_type": "code",
   "execution_count": 45,
   "metadata": {},
   "outputs": [
    {
     "data": {
      "text/html": [
       "<div>\n",
       "<style scoped>\n",
       "    .dataframe tbody tr th:only-of-type {\n",
       "        vertical-align: middle;\n",
       "    }\n",
       "\n",
       "    .dataframe tbody tr th {\n",
       "        vertical-align: top;\n",
       "    }\n",
       "\n",
       "    .dataframe thead th {\n",
       "        text-align: right;\n",
       "    }\n",
       "</style>\n",
       "<table border=\"1\" class=\"dataframe\">\n",
       "  <thead>\n",
       "    <tr style=\"text-align: right;\">\n",
       "      <th></th>\n",
       "      <th>open_flag</th>\n",
       "      <th>age</th>\n",
       "      <th>domain</th>\n",
       "      <th>country</th>\n",
       "      <th>day</th>\n",
       "      <th>character_length</th>\n",
       "      <th>last_time_open_email</th>\n",
       "      <th>last_time_open_shopee</th>\n",
       "      <th>last_time_checkout_shopee</th>\n",
       "      <th>open_frequency</th>\n",
       "      <th>login_frequency</th>\n",
       "      <th>checkout_frequency</th>\n",
       "    </tr>\n",
       "  </thead>\n",
       "  <tbody>\n",
       "    <tr>\n",
       "      <th>2</th>\n",
       "      <td>0</td>\n",
       "      <td>NaN</td>\n",
       "      <td>@yahoo.com</td>\n",
       "      <td>Thailand</td>\n",
       "      <td>Tuesday</td>\n",
       "      <td>ideal</td>\n",
       "      <td>0-1 year</td>\n",
       "      <td>0-1 year</td>\n",
       "      <td>0-1 year</td>\n",
       "      <td>0.111111</td>\n",
       "      <td>2.227778</td>\n",
       "      <td>0.527778</td>\n",
       "    </tr>\n",
       "    <tr>\n",
       "      <th>4</th>\n",
       "      <td>0</td>\n",
       "      <td>NaN</td>\n",
       "      <td>other</td>\n",
       "      <td>Thailand</td>\n",
       "      <td>Tuesday</td>\n",
       "      <td>ideal</td>\n",
       "      <td>0-1 year</td>\n",
       "      <td>0-1 year</td>\n",
       "      <td>0-1 year</td>\n",
       "      <td>0.000000</td>\n",
       "      <td>0.150000</td>\n",
       "      <td>0.000000</td>\n",
       "    </tr>\n",
       "    <tr>\n",
       "      <th>8</th>\n",
       "      <td>1</td>\n",
       "      <td>NaN</td>\n",
       "      <td>@yahoo.com</td>\n",
       "      <td>Singapore</td>\n",
       "      <td>Tuesday</td>\n",
       "      <td>ideal</td>\n",
       "      <td>0-1 year</td>\n",
       "      <td>0-1 year</td>\n",
       "      <td>0-1 year</td>\n",
       "      <td>0.150000</td>\n",
       "      <td>0.177778</td>\n",
       "      <td>0.016667</td>\n",
       "    </tr>\n",
       "    <tr>\n",
       "      <th>14</th>\n",
       "      <td>0</td>\n",
       "      <td>NaN</td>\n",
       "      <td>other</td>\n",
       "      <td>Malaysia</td>\n",
       "      <td>Tuesday</td>\n",
       "      <td>ideal</td>\n",
       "      <td>2-3 years</td>\n",
       "      <td>0-1 year</td>\n",
       "      <td>0-1 year</td>\n",
       "      <td>0.000000</td>\n",
       "      <td>0.033333</td>\n",
       "      <td>0.005556</td>\n",
       "    </tr>\n",
       "    <tr>\n",
       "      <th>15</th>\n",
       "      <td>1</td>\n",
       "      <td>NaN</td>\n",
       "      <td>other</td>\n",
       "      <td>Thailand</td>\n",
       "      <td>Tuesday</td>\n",
       "      <td>ideal</td>\n",
       "      <td>0-1 year</td>\n",
       "      <td>0-1 year</td>\n",
       "      <td>0-1 year</td>\n",
       "      <td>0.711111</td>\n",
       "      <td>1.422222</td>\n",
       "      <td>0.477778</td>\n",
       "    </tr>\n",
       "    <tr>\n",
       "      <th>26</th>\n",
       "      <td>0</td>\n",
       "      <td>NaN</td>\n",
       "      <td>@gmail.com</td>\n",
       "      <td>Singapore</td>\n",
       "      <td>Tuesday</td>\n",
       "      <td>not ideal</td>\n",
       "      <td>0-1 year</td>\n",
       "      <td>more than 3 years</td>\n",
       "      <td>more than 3 years</td>\n",
       "      <td>0.000000</td>\n",
       "      <td>0.000000</td>\n",
       "      <td>0.000000</td>\n",
       "    </tr>\n",
       "    <tr>\n",
       "      <th>29</th>\n",
       "      <td>0</td>\n",
       "      <td>NaN</td>\n",
       "      <td>other</td>\n",
       "      <td>Philippines</td>\n",
       "      <td>Tuesday</td>\n",
       "      <td>ideal</td>\n",
       "      <td>0-1 year</td>\n",
       "      <td>0-1 year</td>\n",
       "      <td>0-1 year</td>\n",
       "      <td>0.016667</td>\n",
       "      <td>0.061111</td>\n",
       "      <td>0.000000</td>\n",
       "    </tr>\n",
       "    <tr>\n",
       "      <th>33</th>\n",
       "      <td>0</td>\n",
       "      <td>NaN</td>\n",
       "      <td>other</td>\n",
       "      <td>Thailand</td>\n",
       "      <td>Tuesday</td>\n",
       "      <td>ideal</td>\n",
       "      <td>0-1 year</td>\n",
       "      <td>0-1 year</td>\n",
       "      <td>0-1 year</td>\n",
       "      <td>0.000000</td>\n",
       "      <td>0.083333</td>\n",
       "      <td>0.005556</td>\n",
       "    </tr>\n",
       "    <tr>\n",
       "      <th>37</th>\n",
       "      <td>0</td>\n",
       "      <td>NaN</td>\n",
       "      <td>@gmail.com</td>\n",
       "      <td>Taiwan</td>\n",
       "      <td>Tuesday</td>\n",
       "      <td>ideal</td>\n",
       "      <td>0-1 year</td>\n",
       "      <td>0-1 year</td>\n",
       "      <td>0-1 year</td>\n",
       "      <td>0.016667</td>\n",
       "      <td>0.661111</td>\n",
       "      <td>0.088889</td>\n",
       "    </tr>\n",
       "    <tr>\n",
       "      <th>42</th>\n",
       "      <td>0</td>\n",
       "      <td>NaN</td>\n",
       "      <td>other</td>\n",
       "      <td>Philippines</td>\n",
       "      <td>Tuesday</td>\n",
       "      <td>ideal</td>\n",
       "      <td>0-1 year</td>\n",
       "      <td>0-1 year</td>\n",
       "      <td>0-1 year</td>\n",
       "      <td>0.166667</td>\n",
       "      <td>6.122222</td>\n",
       "      <td>0.583333</td>\n",
       "    </tr>\n",
       "    <tr>\n",
       "      <th>46</th>\n",
       "      <td>0</td>\n",
       "      <td>NaN</td>\n",
       "      <td>@gmail.com</td>\n",
       "      <td>Singapore</td>\n",
       "      <td>Tuesday</td>\n",
       "      <td>ideal</td>\n",
       "      <td>0-1 year</td>\n",
       "      <td>0-1 year</td>\n",
       "      <td>0-1 year</td>\n",
       "      <td>0.000000</td>\n",
       "      <td>1.272222</td>\n",
       "      <td>0.222222</td>\n",
       "    </tr>\n",
       "    <tr>\n",
       "      <th>54</th>\n",
       "      <td>0</td>\n",
       "      <td>NaN</td>\n",
       "      <td>@gmail.com</td>\n",
       "      <td>Thailand</td>\n",
       "      <td>Tuesday</td>\n",
       "      <td>ideal</td>\n",
       "      <td>0-1 year</td>\n",
       "      <td>0-1 year</td>\n",
       "      <td>2-3 years</td>\n",
       "      <td>0.005556</td>\n",
       "      <td>0.000000</td>\n",
       "      <td>0.000000</td>\n",
       "    </tr>\n",
       "    <tr>\n",
       "      <th>57</th>\n",
       "      <td>0</td>\n",
       "      <td>NaN</td>\n",
       "      <td>@gmail.com</td>\n",
       "      <td>Thailand</td>\n",
       "      <td>Tuesday</td>\n",
       "      <td>ideal</td>\n",
       "      <td>0-1 year</td>\n",
       "      <td>0-1 year</td>\n",
       "      <td>0-1 year</td>\n",
       "      <td>0.000000</td>\n",
       "      <td>0.000000</td>\n",
       "      <td>0.000000</td>\n",
       "    </tr>\n",
       "    <tr>\n",
       "      <th>60</th>\n",
       "      <td>0</td>\n",
       "      <td>NaN</td>\n",
       "      <td>@gmail.com</td>\n",
       "      <td>Thailand</td>\n",
       "      <td>Tuesday</td>\n",
       "      <td>ideal</td>\n",
       "      <td>0-1 year</td>\n",
       "      <td>0-1 year</td>\n",
       "      <td>0-1 year</td>\n",
       "      <td>0.000000</td>\n",
       "      <td>1.144444</td>\n",
       "      <td>0.016667</td>\n",
       "    </tr>\n",
       "    <tr>\n",
       "      <th>61</th>\n",
       "      <td>0</td>\n",
       "      <td>NaN</td>\n",
       "      <td>@gmail.com</td>\n",
       "      <td>Indonesia</td>\n",
       "      <td>Tuesday</td>\n",
       "      <td>ideal</td>\n",
       "      <td>0-1 year</td>\n",
       "      <td>0-1 year</td>\n",
       "      <td>0-1 year</td>\n",
       "      <td>0.333333</td>\n",
       "      <td>1.483333</td>\n",
       "      <td>0.133333</td>\n",
       "    </tr>\n",
       "  </tbody>\n",
       "</table>\n",
       "</div>"
      ],
      "text/plain": [
       "    open_flag  age      domain      country      day character_length  \\\n",
       "2           0  NaN  @yahoo.com     Thailand  Tuesday            ideal   \n",
       "4           0  NaN       other     Thailand  Tuesday            ideal   \n",
       "8           1  NaN  @yahoo.com    Singapore  Tuesday            ideal   \n",
       "14          0  NaN       other     Malaysia  Tuesday            ideal   \n",
       "15          1  NaN       other     Thailand  Tuesday            ideal   \n",
       "26          0  NaN  @gmail.com    Singapore  Tuesday        not ideal   \n",
       "29          0  NaN       other  Philippines  Tuesday            ideal   \n",
       "33          0  NaN       other     Thailand  Tuesday            ideal   \n",
       "37          0  NaN  @gmail.com       Taiwan  Tuesday            ideal   \n",
       "42          0  NaN       other  Philippines  Tuesday            ideal   \n",
       "46          0  NaN  @gmail.com    Singapore  Tuesday            ideal   \n",
       "54          0  NaN  @gmail.com     Thailand  Tuesday            ideal   \n",
       "57          0  NaN  @gmail.com     Thailand  Tuesday            ideal   \n",
       "60          0  NaN  @gmail.com     Thailand  Tuesday            ideal   \n",
       "61          0  NaN  @gmail.com    Indonesia  Tuesday            ideal   \n",
       "\n",
       "   last_time_open_email last_time_open_shopee last_time_checkout_shopee  \\\n",
       "2              0-1 year              0-1 year                  0-1 year   \n",
       "4              0-1 year              0-1 year                  0-1 year   \n",
       "8              0-1 year              0-1 year                  0-1 year   \n",
       "14            2-3 years              0-1 year                  0-1 year   \n",
       "15             0-1 year              0-1 year                  0-1 year   \n",
       "26             0-1 year     more than 3 years         more than 3 years   \n",
       "29             0-1 year              0-1 year                  0-1 year   \n",
       "33             0-1 year              0-1 year                  0-1 year   \n",
       "37             0-1 year              0-1 year                  0-1 year   \n",
       "42             0-1 year              0-1 year                  0-1 year   \n",
       "46             0-1 year              0-1 year                  0-1 year   \n",
       "54             0-1 year              0-1 year                 2-3 years   \n",
       "57             0-1 year              0-1 year                  0-1 year   \n",
       "60             0-1 year              0-1 year                  0-1 year   \n",
       "61             0-1 year              0-1 year                  0-1 year   \n",
       "\n",
       "    open_frequency  login_frequency  checkout_frequency  \n",
       "2         0.111111         2.227778            0.527778  \n",
       "4         0.000000         0.150000            0.000000  \n",
       "8         0.150000         0.177778            0.016667  \n",
       "14        0.000000         0.033333            0.005556  \n",
       "15        0.711111         1.422222            0.477778  \n",
       "26        0.000000         0.000000            0.000000  \n",
       "29        0.016667         0.061111            0.000000  \n",
       "33        0.000000         0.083333            0.005556  \n",
       "37        0.016667         0.661111            0.088889  \n",
       "42        0.166667         6.122222            0.583333  \n",
       "46        0.000000         1.272222            0.222222  \n",
       "54        0.005556         0.000000            0.000000  \n",
       "57        0.000000         0.000000            0.000000  \n",
       "60        0.000000         1.144444            0.016667  \n",
       "61        0.333333         1.483333            0.133333  "
      ]
     },
     "execution_count": 45,
     "metadata": {},
     "output_type": "execute_result"
    }
   ],
   "source": [
    "gabung[gabung.isnull().any(axis=1)].head(15)"
   ]
  },
  {
   "cell_type": "code",
   "execution_count": 46,
   "metadata": {},
   "outputs": [
    {
     "name": "stdout",
     "output_type": "stream",
     "text": [
      "<class 'pandas.core.frame.DataFrame'>\n",
      "RangeIndex: 73236 entries, 0 to 73235\n",
      "Data columns (total 12 columns):\n",
      " #   Column                     Non-Null Count  Dtype   \n",
      "---  ------                     --------------  -----   \n",
      " 0   open_flag                  73236 non-null  int64   \n",
      " 1   age                        44390 non-null  float64 \n",
      " 2   domain                     73236 non-null  object  \n",
      " 3   country                    73236 non-null  category\n",
      " 4   day                        73236 non-null  object  \n",
      " 5   character_length           73236 non-null  category\n",
      " 6   last_time_open_email       73236 non-null  category\n",
      " 7   last_time_open_shopee      73236 non-null  category\n",
      " 8   last_time_checkout_shopee  73236 non-null  category\n",
      " 9   open_frequency             73236 non-null  float64 \n",
      " 10  login_frequency            73236 non-null  float64 \n",
      " 11  checkout_frequency         73236 non-null  float64 \n",
      "dtypes: category(5), float64(4), int64(1), object(2)\n",
      "memory usage: 4.3+ MB\n"
     ]
    }
   ],
   "source": [
    "gabung.info()"
   ]
  },
  {
   "cell_type": "code",
   "execution_count": 47,
   "metadata": {},
   "outputs": [],
   "source": [
    "gabung.to_csv('./static/EDA.csv')"
   ]
  },
  {
   "cell_type": "code",
   "execution_count": 48,
   "metadata": {},
   "outputs": [],
   "source": [
    "gabung.to_csv('./static/modeling.csv')"
   ]
  },
  {
   "cell_type": "code",
   "execution_count": 49,
   "metadata": {},
   "outputs": [
    {
     "ename": "SyntaxError",
     "evalue": "invalid syntax (<ipython-input-49-3e3dcf39f325>, line 1)",
     "output_type": "error",
     "traceback": [
      "\u001b[1;36m  File \u001b[1;32m\"<ipython-input-49-3e3dcf39f325>\"\u001b[1;36m, line \u001b[1;32m1\u001b[0m\n\u001b[1;33m    sengaja dibikin error\u001b[0m\n\u001b[1;37m            ^\u001b[0m\n\u001b[1;31mSyntaxError\u001b[0m\u001b[1;31m:\u001b[0m invalid syntax\n"
     ]
    }
   ],
   "source": [
    "sengaja dibikin error"
   ]
  },
  {
   "cell_type": "markdown",
   "metadata": {},
   "source": [
    "# For SQL Test"
   ]
  },
  {
   "cell_type": "code",
   "execution_count": 50,
   "metadata": {},
   "outputs": [],
   "source": [
    "import mysql.connector"
   ]
  },
  {
   "cell_type": "code",
   "execution_count": 51,
   "metadata": {},
   "outputs": [],
   "source": [
    "con = mysql.connector.connect(\n",
    "    host = 'localhost',\n",
    "    user = 'root',\n",
    "    passwd = 'Funicula8'\n",
    ")"
   ]
  },
  {
   "cell_type": "code",
   "execution_count": 52,
   "metadata": {},
   "outputs": [
    {
     "data": {
      "text/plain": [
       "[('flask_mysql',),\n",
       " ('hotwheels',),\n",
       " ('information_schema',),\n",
       " ('johan',),\n",
       " ('mysql',),\n",
       " ('org',),\n",
       " ('performance_schema',),\n",
       " ('sakila',),\n",
       " ('sekolahku',),\n",
       " ('sql_hr',),\n",
       " ('sql_inventory',),\n",
       " ('sql_invoicing',),\n",
       " ('sql_store',),\n",
       " ('sys',),\n",
       " ('ujian_hotwheels',),\n",
       " ('world',)]"
      ]
     },
     "execution_count": 52,
     "metadata": {},
     "output_type": "execute_result"
    }
   ],
   "source": [
    "c = con.cursor(buffered=True)\n",
    "query = 'show databases'\n",
    "c.execute(query)\n",
    "c.fetchall()"
   ]
  },
  {
   "cell_type": "code",
   "execution_count": 53,
   "metadata": {},
   "outputs": [],
   "source": [
    "query = 'USE johan'\n",
    "c.execute(query)"
   ]
  },
  {
   "cell_type": "code",
   "execution_count": null,
   "metadata": {},
   "outputs": [],
   "source": [
    "query = 'SHOW tables'\n",
    "c.execute(query)\n",
    "c.fetchall()"
   ]
  },
  {
   "cell_type": "code",
   "execution_count": null,
   "metadata": {},
   "outputs": [],
   "source": [
    "trying = pd.read_sql(\"SELECT * FROM sqldata\",con)"
   ]
  },
  {
   "cell_type": "code",
   "execution_count": null,
   "metadata": {},
   "outputs": [],
   "source": []
  }
 ],
 "metadata": {
  "kernelspec": {
   "display_name": "Python 3",
   "language": "python",
   "name": "python3"
  },
  "language_info": {
   "codemirror_mode": {
    "name": "ipython",
    "version": 3
   },
   "file_extension": ".py",
   "mimetype": "text/x-python",
   "name": "python",
   "nbconvert_exporter": "python",
   "pygments_lexer": "ipython3",
   "version": "3.8.3"
  }
 },
 "nbformat": 4,
 "nbformat_minor": 4
}
